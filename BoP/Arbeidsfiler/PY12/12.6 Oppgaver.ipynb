{
 "cells": [
  {
   "cell_type": "markdown",
   "id": "91aef8ee-498a-4dac-9f97-29e1692bec55",
   "metadata": {},
   "source": [
    "## Oppgaver"
   ]
  },
  {
   "cell_type": "markdown",
   "id": "a22a4158-eb26-40a1-bede-8baea8a5018c",
   "metadata": {},
   "source": [
    "Her er noen oppgaver til Py 12"
   ]
  },
  {
   "cell_type": "markdown",
   "id": "355c181b-46c7-4313-8929-d81097f03ebb",
   "metadata": {},
   "source": [
    "#### Oppgave 1"
   ]
  },
  {
   "cell_type": "markdown",
   "id": "5f49482f-4f06-41c2-b91f-6833098c1083",
   "metadata": {},
   "source": [
    "Forbedre løsningen til andregradsligningen slik at man i hovedprogrammet sjekker om ligningen har reelle røtter før funksjonene kalles. Hint: legg beregningen av determinatnen i en egen funksjon"
   ]
  },
  {
   "cell_type": "code",
   "execution_count": null,
   "id": "71c76aea-967e-44fd-b372-0fc500d8d6e1",
   "metadata": {},
   "outputs": [],
   "source": [
    "def determinant(a, b, c):\n",
    "    return b**2 - 4*a*c"
   ]
  },
  {
   "cell_type": "code",
   "execution_count": 1,
   "id": "009a43c8-c810-4be1-83ab-57402808f3ec",
   "metadata": {},
   "outputs": [],
   "source": [
    "# returner de to reelle røttene til polynomet f(x) = a*x^2 + b*x + c. \n",
    "def roetter2g(a, b, c):\n",
    "    d = determinant(a, b, c)\n",
    "    "
   ]
  },
  {
   "cell_type": "code",
   "execution_count": 3,
   "id": "40fd5743-7084-4489-9f0d-b713cd372160",
   "metadata": {},
   "outputs": [
    {
     "name": "stdout",
     "output_type": "stream",
     "text": [
      "Rot 1: -1.00\n",
      "Rot 2: -1.00\n"
     ]
    }
   ],
   "source": [
    "# Hovedprogram\n"
   ]
  },
  {
   "cell_type": "markdown",
   "id": "63a713c8-2ab1-4685-952c-c5ef8ff54d0b",
   "metadata": {},
   "source": [
    "#### Oppgave 2"
   ]
  },
  {
   "cell_type": "markdown",
   "id": "cc68f94d-ba4d-479c-b67f-db0f7394a026",
   "metadata": {},
   "source": [
    "I denne oppgaven skal dere lage to nye varianter av integral med rektangelmetoden fra 12.5. Dere skal lage en der dere bruker høyretilnærming og en der dere bruker midtpunkt.  \n",
    "\n",
    "**Alle disse tre variantene får dere bruk for på en oppgave dere får i Matte.**"
   ]
  },
  {
   "cell_type": "code",
   "execution_count": null,
   "id": "6568806a-c9df-41a2-8922-0935bbdea1fa",
   "metadata": {},
   "outputs": [],
   "source": [
    "# Program som  beregner integralet av en oppgitt funksjon\n",
    "# mellom grensene a og b ved hjelp av høyre rektangelsum\n"
   ]
  },
  {
   "cell_type": "code",
   "execution_count": null,
   "id": "422e0e3f-c1c2-42b1-b4da-020fe1dfdc0f",
   "metadata": {},
   "outputs": [],
   "source": [
    "# Program som  beregner integralet av en oppgitt funksjon\n",
    "# mellom grensene a og b ved hjelp av rektangelsum med midtpunkttilnærming\n"
   ]
  }
 ],
 "metadata": {
  "kernelspec": {
   "display_name": "Python 3",
   "language": "python",
   "name": "python3"
  },
  "language_info": {
   "codemirror_mode": {
    "name": "ipython",
    "version": 3
   },
   "file_extension": ".py",
   "mimetype": "text/x-python",
   "name": "python",
   "nbconvert_exporter": "python",
   "pygments_lexer": "ipython3",
   "version": "3.11.9"
  }
 },
 "nbformat": 4,
 "nbformat_minor": 5
}
