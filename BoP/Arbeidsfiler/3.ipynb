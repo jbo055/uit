{
 "cells": [
  {
   "cell_type": "code",
   "execution_count": 4,
   "metadata": {},
   "outputs": [
    {
     "name": "stdout",
     "output_type": "stream",
     "text": [
      "[8 5 3 2 5 1]\n"
     ]
    }
   ],
   "source": [
    "import numpy as np\n",
    "vektor = np.array([8, 5, 3, 2, 1, 1]) \n",
    "plass = 3\n",
    "vektor[plass + 1] = vektor[plass] + vektor[plass - 1] \n",
    "print(vektor)"
   ]
  },
  {
   "cell_type": "code",
   "execution_count": 3,
   "metadata": {},
   "outputs": [
    {
     "name": "stdout",
     "output_type": "stream",
     "text": [
      "2\n",
      "3\n"
     ]
    }
   ],
   "source": [
    "print(vektor[plass])\n",
    "print(vektor[plass - 1])"
   ]
  },
  {
   "cell_type": "code",
   "execution_count": 5,
   "metadata": {},
   "outputs": [
    {
     "name": "stdout",
     "output_type": "stream",
     "text": [
      "[1 1 2 3 5 6 8]\n"
     ]
    }
   ],
   "source": [
    "andrevektor = np.array([8, 5, 3, 2, 1, 1])\n",
    "plass = andrevektor.size\n",
    "andrevektor = np.sort(np.concatenate((andrevektor,[plass])))\n",
    "print(andrevektor)"
   ]
  },
  {
   "cell_type": "code",
   "execution_count": null,
   "metadata": {},
   "outputs": [],
   "source": []
  }
 ],
 "metadata": {
  "kernelspec": {
   "display_name": "Python 3",
   "language": "python",
   "name": "python3"
  },
  "language_info": {
   "codemirror_mode": {
    "name": "ipython",
    "version": 3
   },
   "file_extension": ".py",
   "mimetype": "text/x-python",
   "name": "python",
   "nbconvert_exporter": "python",
   "pygments_lexer": "ipython3",
   "version": "3.11.9"
  }
 },
 "nbformat": 4,
 "nbformat_minor": 2
}
