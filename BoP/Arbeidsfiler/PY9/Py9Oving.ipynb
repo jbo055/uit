{
 "cells": [
  {
   "cell_type": "code",
   "execution_count": 4,
   "metadata": {},
   "outputs": [
    {
     "name": "stdout",
     "output_type": "stream",
     "text": [
      "c er minst, a er størst\n"
     ]
    }
   ],
   "source": [
    "a = int(input('Skriv inn tall a:') )\n",
    "b = int(input('Skriv inn tall b:') )\n",
    "c = int(input('Skriv inn tall c:') )\n",
    "\n",
    "if a < b:\n",
    "    if c <= a:\n",
    "        print('c er minst, b er størst')\n",
    "    elif c < b:\n",
    "        disp('a er minst, b er størst')\n",
    "    else:\n",
    "        print('a er minst, c er størst')\n",
    "else:    # Betingelsene er ikke likeverdige\n",
    "    if c <= b:   # Kan ikke bruke elseif\n",
    "        print('c er minst, a er størst')\n",
    "    elif a < c:\n",
    "        print('b er minst, c er størst')\n",
    "    else:\n",
    "        print('b er minst, a er størst')"
   ]
  },
  {
   "cell_type": "code",
   "execution_count": 6,
   "metadata": {},
   "outputs": [
    {
     "name": "stdout",
     "output_type": "stream",
     "text": [
      "tall1 ligger ikke mellom tall2 og tall3\n",
      "tall1 ligger mellom tall2 og tall3\n",
      "tall1 ligger ikke mellom tall2 og tall3\n"
     ]
    }
   ],
   "source": [
    "tall1 = 1\n",
    "tall2 = 2\n",
    "tall3 = 3\n",
    "\n",
    "if tall2 < tall1 < tall3:\n",
    "    print('tall1 ligger mellom tall2 og tall3')\n",
    "else:\n",
    "    print('tall1 ligger ikke mellom tall2 og tall3')\n",
    "\n",
    "if (tall2 < tall1) < tall3:\n",
    "    print('tall1 ligger mellom tall2 og tall3')\n",
    "else:\n",
    "    print('tall1 ligger ikke mellom tall2 og tall3')\n",
    "\n",
    "\n",
    "if (tall1 > tall2) and (tall1 < tall3):\n",
    "    print('tall1 ligger mellom tall2 og tall3')\n",
    "else:\n",
    "    print('tall1 ligger ikke mellom tall2 og tall3')\n",
    "\n"
   ]
  },
  {
   "cell_type": "code",
   "execution_count": null,
   "metadata": {},
   "outputs": [],
   "source": [
    "# program som leser inn tre tall og finner det midterste\n",
    "tall1 = int(input('Gi inn tall 1: ') )\n",
    "tall2 = int(input('Gi inn tall 2: ') )\n",
    "tall3 = int(input('Gi inn tall 3: ') )\n",
    "\n",
    "if tall1 < tall2:\n",
    "    if tall2 < tall3:\n",
    "        print('tall2 er midterste')\n",
    "    elif tall3 < tall1:\n",
    "        print('tall1 er midterste')\n",
    "    else:\n",
    "        print('tall3 er midterste')\n",
    "\n",
    "else:\n",
    "    if tall3 < tall2:\n",
    "        print('tall2 er midterste')\n",
    "    elif tall1 < tall3:\n",
    "        print('tall1 er midterste')\n",
    "    else:\n",
    "        "
   ]
  }
 ],
 "metadata": {
  "kernelspec": {
   "display_name": "Python 3",
   "language": "python",
   "name": "python3"
  },
  "language_info": {
   "codemirror_mode": {
    "name": "ipython",
    "version": 3
   },
   "file_extension": ".py",
   "mimetype": "text/x-python",
   "name": "python",
   "nbconvert_exporter": "python",
   "pygments_lexer": "ipython3",
   "version": "3.11.9"
  }
 },
 "nbformat": 4,
 "nbformat_minor": 2
}
