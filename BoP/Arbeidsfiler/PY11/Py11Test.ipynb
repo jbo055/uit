{
 "cells": [
  {
   "cell_type": "code",
   "execution_count": null,
   "metadata": {},
   "outputs": [],
   "source": [
    "def hypotenus(katet1, katet2):\n",
    "    ''' \n",
    "    beregner lengde av hypotenusen i en rettvinklet trekant \n",
    "    lengdene av katetene må oppgis som parameter \n",
    "    '''\n",
    "    from math import sqrt\n",
    "    return sqrt(katet1**2 + katet2**2) # Bruker pytagoras"
   ]
  },
  {
   "cell_type": "code",
   "execution_count": 3,
   "metadata": {},
   "outputs": [
    {
     "name": "stdout",
     "output_type": "stream",
     "text": [
      "24.0\n"
     ]
    }
   ],
   "source": [
    "hypotenus = 25\n",
    "katet = 7\n",
    "\n",
    "def manglende_katet(hypotenus, katet):\n",
    "    # katet^2 = hypotenus^2 - katet^2\n",
    "\n",
    "    ''' \n",
    "    beregner lengde av katet når vi kjenner hypotenus og den andre katet i en rettvinklet trekant \n",
    "    Første parameter \n",
    "    \n",
    "    '''\n",
    "    from math import sqrt\n",
    "    return sqrt(hypotenus**2 - katet**2) # Bruker pytagoras    \n",
    "\n",
    "print(manglende_katet(hypotenus, katet))"
   ]
  }
 ],
 "metadata": {
  "kernelspec": {
   "display_name": "Python 3",
   "language": "python",
   "name": "python3"
  },
  "language_info": {
   "codemirror_mode": {
    "name": "ipython",
    "version": 3
   },
   "file_extension": ".py",
   "mimetype": "text/x-python",
   "name": "python",
   "nbconvert_exporter": "python",
   "pygments_lexer": "ipython3",
   "version": "3.11.9"
  }
 },
 "nbformat": 4,
 "nbformat_minor": 2
}
