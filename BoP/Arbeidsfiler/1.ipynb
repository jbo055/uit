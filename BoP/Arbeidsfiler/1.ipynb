{
 "cells": [
  {
   "cell_type": "code",
   "execution_count": 5,
   "metadata": {},
   "outputs": [
    {
     "name": "stdout",
     "output_type": "stream",
     "text": [
      "Collecting numpy\n",
      "  Downloading numpy-2.1.0-cp311-cp311-win_amd64.whl.metadata (59 kB)\n",
      "     ---------------------------------------- 0.0/59.7 kB ? eta -:--:--\n",
      "     ------ --------------------------------- 10.2/59.7 kB ? eta -:--:--\n",
      "     ------ --------------------------------- 10.2/59.7 kB ? eta -:--:--\n",
      "     ------------- ------------------------ 20.5/59.7 kB 131.3 kB/s eta 0:00:01\n",
      "     ------------------- ------------------ 30.7/59.7 kB 163.8 kB/s eta 0:00:01\n",
      "     -------------------------- ----------- 41.0/59.7 kB 178.6 kB/s eta 0:00:01\n",
      "     -------------------------------------- 59.7/59.7 kB 211.6 kB/s eta 0:00:00\n",
      "Downloading numpy-2.1.0-cp311-cp311-win_amd64.whl (12.9 MB)\n",
      "   ---------------------------------------- 0.0/12.9 MB ? eta -:--:--\n",
      "   ---------------------------------------- 0.0/12.9 MB 991.0 kB/s eta 0:00:13\n",
      "   ---------------------------------------- 0.1/12.9 MB 1.7 MB/s eta 0:00:08\n",
      "   - -------------------------------------- 0.3/12.9 MB 2.5 MB/s eta 0:00:05\n",
      "   -- ------------------------------------- 0.6/12.9 MB 3.7 MB/s eta 0:00:04\n",
      "   --- ------------------------------------ 1.1/12.9 MB 5.1 MB/s eta 0:00:03\n",
      "   ----- ---------------------------------- 1.8/12.9 MB 6.5 MB/s eta 0:00:02\n",
      "   ------- -------------------------------- 2.4/12.9 MB 7.6 MB/s eta 0:00:02\n",
      "   --------- ------------------------------ 3.0/12.9 MB 8.3 MB/s eta 0:00:02\n",
      "   ----------- ---------------------------- 3.6/12.9 MB 8.9 MB/s eta 0:00:02\n",
      "   ------------- -------------------------- 4.2/12.9 MB 9.2 MB/s eta 0:00:01\n",
      "   --------------- ------------------------ 4.9/12.9 MB 9.7 MB/s eta 0:00:01\n",
      "   ----------------- ---------------------- 5.5/12.9 MB 10.0 MB/s eta 0:00:01\n",
      "   ------------------- -------------------- 6.1/12.9 MB 10.3 MB/s eta 0:00:01\n",
      "   ------------------- -------------------- 6.2/12.9 MB 10.1 MB/s eta 0:00:01\n",
      "   ------------------- -------------------- 6.2/12.9 MB 10.1 MB/s eta 0:00:01\n",
      "   ------------------- -------------------- 6.2/12.9 MB 10.1 MB/s eta 0:00:01\n",
      "   ----------------------- ---------------- 7.4/12.9 MB 9.5 MB/s eta 0:00:01\n",
      "   -------------------------- ------------- 8.4/12.9 MB 10.2 MB/s eta 0:00:01\n",
      "   --------------------------- ------------ 9.0/12.9 MB 10.3 MB/s eta 0:00:01\n",
      "   ----------------------------- ---------- 9.6/12.9 MB 10.4 MB/s eta 0:00:01\n",
      "   ------------------------------- -------- 10.2/12.9 MB 10.5 MB/s eta 0:00:01\n",
      "   --------------------------------- ------ 10.8/12.9 MB 12.1 MB/s eta 0:00:01\n",
      "   ----------------------------------- ---- 11.4/12.9 MB 12.4 MB/s eta 0:00:01\n",
      "   ------------------------------------- -- 12.0/12.9 MB 12.3 MB/s eta 0:00:01\n",
      "   ---------------------------------------  12.6/12.9 MB 12.4 MB/s eta 0:00:01\n",
      "   ---------------------------------------  12.9/12.9 MB 12.1 MB/s eta 0:00:01\n",
      "   ---------------------------------------- 12.9/12.9 MB 11.7 MB/s eta 0:00:00\n",
      "Installing collected packages: numpy\n",
      "Successfully installed numpy-2.1.0\n"
     ]
    },
    {
     "name": "stderr",
     "output_type": "stream",
     "text": [
      "\n",
      "[notice] A new release of pip is available: 24.0 -> 24.2\n",
      "[notice] To update, run: C:\\Users\\julie\\AppData\\Local\\Microsoft\\WindowsApps\\PythonSoftwareFoundation.Python.3.11_qbz5n2kfra8p0\\python.exe -m pip install --upgrade pip\n"
     ]
    }
   ],
   "source": [
    "!pip install numpy\n"
   ]
  },
  {
   "cell_type": "code",
   "execution_count": 7,
   "metadata": {},
   "outputs": [
    {
     "data": {
      "text/plain": [
       "array([1, 3, 5, 7, 9])"
      ]
     },
     "execution_count": 7,
     "metadata": {},
     "output_type": "execute_result"
    }
   ],
   "source": [
    "import numpy as np\n",
    "np.arange(1, 10, 2)"
   ]
  },
  {
   "cell_type": "code",
   "execution_count": 8,
   "metadata": {},
   "outputs": [
    {
     "data": {
      "text/plain": [
       "array([0.   , 1.125, 2.25 , 3.375, 4.5  , 5.625, 6.75 , 7.875, 9.   ])"
      ]
     },
     "execution_count": 8,
     "metadata": {},
     "output_type": "execute_result"
    }
   ],
   "source": [
    "np.linspace(0, 9, 9)"
   ]
  },
  {
   "cell_type": "code",
   "execution_count": 9,
   "metadata": {},
   "outputs": [
    {
     "data": {
      "text/plain": [
       "array([0. , 1.5, 3. , 4.5, 6. , 7.5, 9. ])"
      ]
     },
     "execution_count": 9,
     "metadata": {},
     "output_type": "execute_result"
    }
   ],
   "source": [
    "np.linspace(0, 9, 7)"
   ]
  },
  {
   "cell_type": "code",
   "execution_count": 10,
   "metadata": {},
   "outputs": [],
   "source": [
    "rekke1 = np.array([3, 5, 8, 21, 34])"
   ]
  },
  {
   "cell_type": "code",
   "execution_count": 11,
   "metadata": {},
   "outputs": [
    {
     "data": {
      "text/plain": [
       "np.int64(21)"
      ]
     },
     "execution_count": 11,
     "metadata": {},
     "output_type": "execute_result"
    }
   ],
   "source": [
    "rekke1[3]"
   ]
  },
  {
   "cell_type": "code",
   "execution_count": 12,
   "metadata": {},
   "outputs": [
    {
     "data": {
      "text/plain": [
       "np.int64(8)"
      ]
     },
     "execution_count": 12,
     "metadata": {},
     "output_type": "execute_result"
    }
   ],
   "source": [
    "rekke1[2]"
   ]
  },
  {
   "cell_type": "code",
   "execution_count": 13,
   "metadata": {},
   "outputs": [],
   "source": [
    "rekke2 = np.array([7, 9, 13, 21,27])"
   ]
  },
  {
   "cell_type": "code",
   "execution_count": 15,
   "metadata": {},
   "outputs": [
    {
     "data": {
      "text/plain": [
       "np.int64(21)"
      ]
     },
     "execution_count": 15,
     "metadata": {},
     "output_type": "execute_result"
    }
   ],
   "source": [
    "rekke2[-2]"
   ]
  },
  {
   "cell_type": "code",
   "execution_count": 16,
   "metadata": {},
   "outputs": [
    {
     "data": {
      "text/plain": [
       "np.int64(21)"
      ]
     },
     "execution_count": 16,
     "metadata": {},
     "output_type": "execute_result"
    }
   ],
   "source": [
    "rekke2[3]"
   ]
  },
  {
   "cell_type": "code",
   "execution_count": 17,
   "metadata": {},
   "outputs": [],
   "source": [
    "rekke3 = np.arange(1, 12, 1)"
   ]
  },
  {
   "cell_type": "code",
   "execution_count": 18,
   "metadata": {},
   "outputs": [
    {
     "data": {
      "text/plain": [
       "array([ 1,  2,  3,  4,  5, 10,  9,  8,  7])"
      ]
     },
     "execution_count": 18,
     "metadata": {},
     "output_type": "execute_result"
    }
   ],
   "source": [
    "np.concatenate((rekke3[0:5], np.flip(rekke3[6:-1])))"
   ]
  },
  {
   "cell_type": "code",
   "execution_count": 19,
   "metadata": {},
   "outputs": [],
   "source": [
    "x = np.array([2, 3, 4, 5])\n",
    "y = np.array([2, 6, 12, 15])\n"
   ]
  },
  {
   "cell_type": "code",
   "execution_count": 20,
   "metadata": {},
   "outputs": [
    {
     "data": {
      "text/plain": [
       "array([ 4,  9, 16, 25])"
      ]
     },
     "execution_count": 20,
     "metadata": {},
     "output_type": "execute_result"
    }
   ],
   "source": [
    "x**2\n"
   ]
  },
  {
   "cell_type": "code",
   "execution_count": 21,
   "metadata": {},
   "outputs": [
    {
     "data": {
      "text/plain": [
       "array([ 4,  9, 16, 20])"
      ]
     },
     "execution_count": 21,
     "metadata": {},
     "output_type": "execute_result"
    },
    {
     "ename": "",
     "evalue": "",
     "output_type": "error",
     "traceback": [
      "\u001b[1;31mThe Kernel crashed while executing code in the current cell or a previous cell. \n",
      "\u001b[1;31mPlease review the code in the cell(s) to identify a possible cause of the failure. \n",
      "\u001b[1;31mClick <a href='https://aka.ms/vscodeJupyterKernelCrash'>here</a> for more info. \n",
      "\u001b[1;31mView Jupyter <a href='command:jupyter.viewOutput'>log</a> for further details."
     ]
    }
   ],
   "source": [
    "x+y"
   ]
  },
  {
   "cell_type": "code",
   "execution_count": null,
   "metadata": {},
   "outputs": [],
   "source": []
  }
 ],
 "metadata": {
  "kernelspec": {
   "display_name": "Python 3",
   "language": "python",
   "name": "python3"
  },
  "language_info": {
   "codemirror_mode": {
    "name": "ipython",
    "version": 3
   },
   "file_extension": ".py",
   "mimetype": "text/x-python",
   "name": "python",
   "nbconvert_exporter": "python",
   "pygments_lexer": "ipython3",
   "version": "3.11.9"
  }
 },
 "nbformat": 4,
 "nbformat_minor": 2
}
