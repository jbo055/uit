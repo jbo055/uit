{
 "cells": [
  {
   "cell_type": "markdown",
   "id": "4535bb93",
   "metadata": {},
   "source": [
    "## Enkle datatyper 1"
   ]
  },
  {
   "cell_type": "markdown",
   "id": "bc33e655",
   "metadata": {},
   "source": [
    "I 2-2 Variabler… ble det det sagt at variabler er av en bestemt type. Dette skal vi se næremere på nå.<br>\n",
    "\n",
    "For at maskinen skal vite hva den kan gjøre med en verdi/variabel må den vite hvilken type den er av. I mange programmeringsspråk må man deklarere (fortelle) hvilken datatype en varabel skal ha før vi kan gi den en verdi. Så passer systemet på at vi bare får lov til å gi den verdier som tilhører den datatypen. Slike programmeringsspråk kalles for strekt typete språk.<br>\n",
    "\n",
    "Python er et dynamisk typet språk, Det betyr at datatypen bestemmes underveis av den verdien som skal bli tilordnet. Vi skal vise dette ved noen eksempler og vil bruke funksjonen type() for å finne datatypen til en variabel."
   ]
  },
  {
   "cell_type": "markdown",
   "id": "dfd08224-d374-4b58-87c9-deef408d0d78",
   "metadata": {},
   "source": [
    "### Tall"
   ]
  },
  {
   "cell_type": "code",
   "execution_count": 1,
   "id": "621d1043",
   "metadata": {},
   "outputs": [
    {
     "name": "stdout",
     "output_type": "stream",
     "text": [
      "18\n",
      "2.0\n"
     ]
    }
   ],
   "source": [
    "a = 6\n",
    "b = 3\n",
    "c = a * b\n",
    "d = a / b\n",
    "print (c)\n",
    "print (d)"
   ]
  },
  {
   "cell_type": "markdown",
   "id": "3e5d35b1",
   "metadata": {},
   "source": [
    "a og b blir tilordnet verdier som er hele tall. Resultatet av multiplikasjonen er også et et helt tall. Men for divisjonen vises resultatet som et desimaltall selv om det er null bak ~~kommma~~ desimaltegnet. \n",
    ">I python som i de fleste programmeringsspråk og dataverktøy er det punktum som er desimaltegn. Komma brukes til andre ting Men jeg kommer nok til både å si komma og skrive det i tekst når jeg mener desimaltegn. Så får dere «oversette» det der det trengs."
   ]
  },
  {
   "cell_type": "markdown",
   "id": "7c52220a",
   "metadata": {},
   "source": [
    "Vi går videre og sjekker datatypen til variablene."
   ]
  },
  {
   "cell_type": "code",
   "execution_count": 2,
   "id": "d283b3e1",
   "metadata": {},
   "outputs": [
    {
     "name": "stdout",
     "output_type": "stream",
     "text": [
      "<class 'int'>\n",
      "<class 'int'>\n",
      "<class 'int'>\n",
      "<class 'float'>\n"
     ]
    }
   ],
   "source": [
    "print(type(a))\n",
    "print(type(b))\n",
    "print(type(c))\n",
    "print(type(d))"
   ]
  },
  {
   "cell_type": "markdown",
   "id": "baab612d",
   "metadata": {},
   "source": [
    "Vi ser at variablene a, b og c har fått datatypen **int**. int står for Integer og betyr heltall. Den kan inneholde positive og negative heltall.<br>\n",
    "\n",
    "d har fått datatypen **float**. Det står for flyttall og kan inneholde positive og negative desimaltall.\n",
    "Så selv om 6 delt på 3 er to, som jo er et heltall, så er d blitt en float. Det skyldes at ofte vil divisjon mellom to heltall gi et desimaltall til svar. For å få med seg eventuelle desimaler gjøres heltall i en divisjon om til flyttall. Men datatypen til variablene de er i endres ikke.\n",
    "> I mange programmeringsspråk vil divisjon mellom to heltall resultere i et heltall der eventuelle desimaler er mistet."
   ]
  },
  {
   "cell_type": "markdown",
   "id": "36bc119a",
   "metadata": {},
   "source": [
    "La oss se hva som skjer hvis vi prøver å tilordne c, som nå er int, en verdi som er flyttall:"
   ]
  },
  {
   "cell_type": "code",
   "execution_count": 3,
   "id": "947087c3",
   "metadata": {},
   "outputs": [
    {
     "name": "stdout",
     "output_type": "stream",
     "text": [
      "12.0\n",
      "<class 'float'>\n"
     ]
    }
   ],
   "source": [
    "c = a * d\n",
    "print (c)\n",
    "print(type(c))"
   ]
  },
  {
   "cell_type": "markdown",
   "id": "d42357a1",
   "metadata": {},
   "source": [
    "I aritmetiske operasjoner der det inngår minst ett flyttall vil resultatet bli flyttall. \n",
    "Datatypen til en variabel endres hvis den tilordnes en verdi av en annen datatype.\n",
    "> Mange av de mest vanlige programmeringsspråk har flere varianter av datatyper for heltall og flyttall. Poenget er hvor stor plass de tar i minnet. Konsekvensen er hvor store/små tall som kan lagres og for flyttall også hvor mange desimaler (presisjon).\n",
    "Python har forenklet dette til bare en for heltall og en for flyttall"
   ]
  }
 ],
 "metadata": {
  "kernelspec": {
   "display_name": "Python 3 (ipykernel)",
   "language": "python",
   "name": "python3"
  },
  "language_info": {
   "codemirror_mode": {
    "name": "ipython",
    "version": 3
   },
   "file_extension": ".py",
   "mimetype": "text/x-python",
   "name": "python",
   "nbconvert_exporter": "python",
   "pygments_lexer": "ipython3",
   "version": "3.8.13"
  }
 },
 "nbformat": 4,
 "nbformat_minor": 5
}
