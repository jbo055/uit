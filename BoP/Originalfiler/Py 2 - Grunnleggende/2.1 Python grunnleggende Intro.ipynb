{
 "cells": [
  {
   "cell_type": "markdown",
   "id": "fa27537c",
   "metadata": {},
   "source": [
    "## Del 2 (og 3): Grunnleggende elementer i Phyton"
   ]
  },
  {
   "cell_type": "markdown",
   "id": "6a9db835",
   "metadata": {},
   "source": [
    "I denne og neste del skal vi få en første kjennskap til en del av de mest vanlige «byggesteinene» i Python. Dette er ting vi bruker svært ofte og som gir grunnlag for å forstå hvordan vi kan bruke Python og hvordan program fungerer."
   ]
  },
  {
   "cell_type": "markdown",
   "id": "8a517fa9",
   "metadata": {},
   "source": [
    "- Variabler\n",
    "- Tilordning\n",
    "- Enkle Datatyper\n",
    "- En del operatorer\n",
    "- Noen mye brukte funksjoner\n",
    "- Strengbehandling"
   ]
  },
  {
   "cell_type": "markdown",
   "id": "4e4c92a5-781c-4f63-ad00-9d6ffe090f3a",
   "metadata": {
    "tags": []
   },
   "source": [
    "De samme kategorier med byggesteiner finner vi i alle programmeringsspråk. Men detaljene er forskjellige."
   ]
  },
  {
   "cell_type": "markdown",
   "id": "1fdb477d-256f-4dc6-844a-d5dc4a21fb5d",
   "metadata": {
    "tags": []
   },
   "source": [
    "I tillegg skal vi se på andre ting som navnerelger, reserverte ord forhåndsdefinerte verdier og moduler."
   ]
  },
  {
   "cell_type": "code",
   "execution_count": null,
   "id": "cc916ee1-2319-4a13-aee8-17b3adc4f1d1",
   "metadata": {},
   "outputs": [],
   "source": []
  }
 ],
 "metadata": {
  "kernelspec": {
   "display_name": "Python 3 (ipykernel)",
   "language": "python",
   "name": "python3"
  },
  "language_info": {
   "codemirror_mode": {
    "name": "ipython",
    "version": 3
   },
   "file_extension": ".py",
   "mimetype": "text/x-python",
   "name": "python",
   "nbconvert_exporter": "python",
   "pygments_lexer": "ipython3",
   "version": "3.8.13"
  }
 },
 "nbformat": 4,
 "nbformat_minor": 5
}
