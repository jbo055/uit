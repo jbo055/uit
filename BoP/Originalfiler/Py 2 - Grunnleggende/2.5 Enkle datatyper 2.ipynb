{
 "cells": [
  {
   "cell_type": "markdown",
   "id": "0b8307b8-36f9-44e9-b223-3dece6a097b0",
   "metadata": {},
   "source": [
    "## Enkle datatyper 2"
   ]
  },
  {
   "cell_type": "markdown",
   "id": "a72eb502-573a-45b0-8a45-060e2c4c1167",
   "metadata": {},
   "source": [
    "### Tekst"
   ]
  },
  {
   "cell_type": "markdown",
   "id": "0372ac1e-2c38-4ecc-bee7-853e5fc0ea48",
   "metadata": {},
   "source": [
    "I printsetninger har vi sett at vi har skrevet tekst i enkle anførselstegn. Slik tekst kan tilordnes en variabel. Vi må omslutte teksten med anførselstegn. Men kan velge om vi vil bruke enkle eller doble. Det kan vi ikke i andre programmeringsspråk. <br>\n",
    "Så blir spørsmålet: Hvilken datatype har en slik tekst?"
   ]
  },
  {
   "cell_type": "code",
   "execution_count": 1,
   "id": "abea3b55-cd7a-4572-97f0-81de1fc0b0c5",
   "metadata": {},
   "outputs": [
    {
     "name": "stdout",
     "output_type": "stream",
     "text": [
      "Hei! Jeg skal lære å programmere Python i Jupyter Lab\n",
      "<class 'str'>\n",
      "<class 'str'>\n"
     ]
    }
   ],
   "source": [
    "tekst1 = 'Hei! Jeg skal lære å programmere'\n",
    "tekst2 = \"Python i Jupyter Lab\"\n",
    "\n",
    "print(tekst1,tekst2)\n",
    "\n",
    "print(type(tekst1))\n",
    "print(type(tekst2))"
   ]
  },
  {
   "cell_type": "markdown",
   "id": "ed1f59c6-8e27-4b45-8ec2-96ef3ee38d9e",
   "metadata": {},
   "source": [
    "Datatypen er altså **str**. Det står for string. Det er den vanlige betegnelsen på tekst som en enhet i programmerings-/datasammenheng. På norsk snakker vi om tekststreng eller bare streng.\n",
    "> For å skjønne navnet på datatypen må vi se for oss løse bokstaver (og andre tegn) tredd inn på en streng.\n",
    "Når vi senere skal se på noe av det vi kan gjøre med strenger, så vil det gi en viss mening."
   ]
  },
  {
   "cell_type": "markdown",
   "id": "85b69785-3c7c-4be3-99ea-d41153392f9b",
   "metadata": {},
   "source": [
    "Fordelen med å kunne velge hvilken type anførselstegn en vil bruke er når en trenger anførselstegn i teksten. Da omslutter man teksten med den andre typen anførselstegn en den man trenger."
   ]
  },
  {
   "cell_type": "code",
   "execution_count": 2,
   "id": "b3c018a2-ff4b-4354-9fc8-dac86b885387",
   "metadata": {},
   "outputs": [
    {
     "name": "stdout",
     "output_type": "stream",
     "text": [
      "\"Datamaskiner er ubrukelige. De kan bare gi oss svar.\"\n",
      "Skatten er markert med 'X' på kartet\n"
     ]
    }
   ],
   "source": [
    "sitat = '\"Datamaskiner er ubrukelige. De kan bare gi oss svar.\"'\n",
    "# ytterst er enkelt anførselstegn, innerst er dobbelt\n",
    "\n",
    "informasjon = \"Skatten er markert med 'X' på kartet\"\n",
    "\n",
    "print(sitat)\n",
    "print(informasjon)"
   ]
  },
  {
   "cell_type": "markdown",
   "id": "50eea594-22de-4e88-8c1d-67003c4f0294",
   "metadata": {},
   "source": [
    "Mange programmeringsspråk har egen datatype for et enkelt tegn. Hvordan er det i Python?"
   ]
  },
  {
   "cell_type": "code",
   "execution_count": 3,
   "id": "0a0ce4c8-5ddd-44f9-8c10-0958217096e5",
   "metadata": {},
   "outputs": [
    {
     "name": "stdout",
     "output_type": "stream",
     "text": [
      "<class 'str'>\n",
      "<class 'str'>\n"
     ]
    }
   ],
   "source": [
    "tegn1 = 'a'\n",
    "tegn2 = \"a\"\n",
    "\n",
    "print(type(tegn1))\n",
    "print(type(tegn2))"
   ]
  },
  {
   "cell_type": "markdown",
   "id": "2720ef8e-f8ec-4533-a4b2-887914771565",
   "metadata": {},
   "source": [
    "I Python spiller det ingen rolle om det er ett eller flere tegn. Det er bare datatypen **str** som brukes.<br>\n",
    "\n",
    "Man kan koble sammen strenger med operatoren **+** . Å koble sammen strenger heter concatenate på engelsk."
   ]
  },
  {
   "cell_type": "code",
   "execution_count": 4,
   "id": "7039c152-e207-46ad-bd15-d9ffebd66f2d",
   "metadata": {},
   "outputs": [
    {
     "name": "stdout",
     "output_type": "stream",
     "text": [
      "Strengsammenkobling\n"
     ]
    }
   ],
   "source": [
    "del1 = \"Streng\"\n",
    "del2 = 'sammenkobling'\n",
    "sammensatt = del1 + del2\n",
    "\n",
    "print(sammensatt)"
   ]
  },
  {
   "cell_type": "markdown",
   "id": "e26c4ac0-1e1b-4bdc-89a5-83198fb941ea",
   "metadata": {},
   "source": [
    "Strengene legges sammen uten mellomrom. Dersom det trengs mellomrom må man legge det til som en egen steng eller sørge for at den fremste strengen har et mellomrom på slutten.<br>\n",
    "\n",
    "Tall kan også legges i en streng ved å omslutte det med anførselstegn. Da kan man ikke gjøre utregninger med det, bare strengoperasjoner."
   ]
  },
  {
   "cell_type": "code",
   "execution_count": 5,
   "id": "d99435ae-c91a-4e4b-9eaf-f90723411570",
   "metadata": {},
   "outputs": [
    {
     "name": "stdout",
     "output_type": "stream",
     "text": [
      "32\n",
      "3232\n"
     ]
    }
   ],
   "source": [
    "tallstreng1 = '3'\n",
    "tallstreng2 = '2'\n",
    "\n",
    "tallstreng3 = tallstreng1 + tallstreng2\n",
    "\n",
    "print(tallstreng3)\n",
    "print(tallstreng3 * 2)"
   ]
  },
  {
   "cell_type": "code",
   "execution_count": 6,
   "id": "42a1d873-5bce-4989-8000-2f321d453540",
   "metadata": {},
   "outputs": [
    {
     "ename": "TypeError",
     "evalue": "can only concatenate str (not \"int\") to str",
     "output_type": "error",
     "traceback": [
      "\u001b[0;31m---------------------------------------------------------------------------\u001b[0m",
      "\u001b[0;31mTypeError\u001b[0m                                 Traceback (most recent call last)",
      "Input \u001b[0;32mIn [6]\u001b[0m, in \u001b[0;36m<cell line: 1>\u001b[0;34m()\u001b[0m\n\u001b[0;32m----> 1\u001b[0m \u001b[43mtallstreng3\u001b[49m\u001b[43m \u001b[49m\u001b[38;5;241;43m+\u001b[39;49m\u001b[43m \u001b[49m\u001b[38;5;241;43m2\u001b[39;49m\n",
      "\u001b[0;31mTypeError\u001b[0m: can only concatenate str (not \"int\") to str"
     ]
    }
   ],
   "source": [
    "tallstreng3 + 2"
   ]
  },
  {
   "cell_type": "markdown",
   "id": "a5fa05fe-4f84-4a25-bfdd-0c51ad79eb2c",
   "metadata": {},
   "source": [
    "<br><br><br> "
   ]
  },
  {
   "cell_type": "markdown",
   "id": "a7aa03d3-7ea5-462f-b649-a56c202d6148",
   "metadata": {},
   "source": [
    "### Den enkleste datatypen"
   ]
  },
  {
   "cell_type": "markdown",
   "id": "a6a67cab-d19c-4dbd-88b8-8df92e22d4cb",
   "metadata": {},
   "source": [
    "Som de fleste andre programmeringsspråk har Python en datatype som som bare har to mulige verdier."
   ]
  },
  {
   "cell_type": "code",
   "execution_count": 7,
   "id": "3be9d1a0-1957-4d38-89f1-635ef7d0ab40",
   "metadata": {},
   "outputs": [
    {
     "name": "stdout",
     "output_type": "stream",
     "text": [
      "True\n",
      "False\n",
      "<class 'bool'>\n",
      "<class 'bool'>\n"
     ]
    }
   ],
   "source": [
    "sant = True\n",
    "usant = False\n",
    "\n",
    "print(sant)\n",
    "print(usant)\n",
    "\n",
    "print(type(sant))\n",
    "print(type(usant))"
   ]
  },
  {
   "cell_type": "markdown",
   "id": "b8b8233f-5545-4a1e-b8d9-c3cbd7a24ea8",
   "metadata": {},
   "source": [
    "Legg merke til at **True** og **False** stod i lista med reserverte ord, men skrives med stor forbokstav og markeres grønn i kodeceller. Dette skyldes at de er forhåndsdefinerte verdier.  \n",
    "Vi ser at de to variablene sant og usant er av datatypen **bool**. Det står for boolean og er en logisk datatype som bare kan ha verdiene True eller False. Vi skal ikke se så mye eksempler nå, men boolske verdier er veldig viktig når det kommer til betingelser og valg."
   ]
  },
  {
   "cell_type": "markdown",
   "id": "2ab8a664-55f9-40bb-8786-4940037f9a96",
   "metadata": {},
   "source": [
    "Vi kan like godt ta for oss det siste ordet fra lista med reserverte ord som har stor forbokstav. **None** er også en forhåndsdefinert «verdi≫. Den brukes for å defienere en null-verdi eller ingen verdi. Det må ikke forveksles med tallverdien null. På engelsk betyr null ikke tallet 0, men «ingenting».  \n",
    "\n",
    "Verdien None har sin egen datatype."
   ]
  },
  {
   "cell_type": "code",
   "execution_count": 8,
   "id": "5ab73f6b-0b23-458a-940f-5e28576e2e0a",
   "metadata": {},
   "outputs": [
    {
     "name": "stdout",
     "output_type": "stream",
     "text": [
      "None\n",
      "<class 'NoneType'>\n"
     ]
    }
   ],
   "source": [
    "ukjent = None\n",
    "\n",
    "print(ukjent)\n",
    "\n",
    "print(type(ukjent))"
   ]
  },
  {
   "cell_type": "markdown",
   "id": "e4153bfc-49cf-420a-9666-f94d9939f564",
   "metadata": {},
   "source": [
    "Python har flere andre datatyper. Vi skal komme tilbake til dem etter hvert som vi får bruk for dem."
   ]
  }
 ],
 "metadata": {
  "kernelspec": {
   "display_name": "Python 3 (ipykernel)",
   "language": "python",
   "name": "python3"
  },
  "language_info": {
   "codemirror_mode": {
    "name": "ipython",
    "version": 3
   },
   "file_extension": ".py",
   "mimetype": "text/x-python",
   "name": "python",
   "nbconvert_exporter": "python",
   "pygments_lexer": "ipython3",
   "version": "3.8.13"
  }
 },
 "nbformat": 4,
 "nbformat_minor": 5
}
