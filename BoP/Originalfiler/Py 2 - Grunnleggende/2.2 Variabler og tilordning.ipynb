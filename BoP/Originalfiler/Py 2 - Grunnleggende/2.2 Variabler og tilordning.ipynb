{
 "cells": [
  {
   "cell_type": "markdown",
   "id": "58f0fcd7",
   "metadata": {},
   "source": [
    "## Variabler og enkel tilordning"
   ]
  },
  {
   "cell_type": "markdown",
   "id": "ada6e389",
   "metadata": {},
   "source": [
    "I eksemplene vi har sett hittil har vi gjort noen utrenginger, men vi har ikke kunnet ta vare på verdier eller bruke dem videre. Til det trenger vi variabler."
   ]
  },
  {
   "cell_type": "markdown",
   "id": "2f1fb0c9",
   "metadata": {},
   "source": [
    "En variabel er enkelt sagt en beholder som inneholder en gitt informasjon. Den har: <br>\n",
    "- Et navn\n",
    "- Et innhold\n",
    "- Innholdet er av en bestemt type\n",
    "- En plassering i minnet\n",
    "- Tar en gitt plass i minnet avhengig av innhold og type<br>\n",
    "\n",
    "Det fine er at vi ikke trenger å tenke på hvor den er i minnet og hvor stor plass den tar. Vi forholder oss bare til navnet. Og navnet lager vi selv når vi oppretter den.<br><br>\n",
    "Her er et ganske enkelt eksempel:"
   ]
  },
  {
   "cell_type": "code",
   "execution_count": 1,
   "id": "588ef11b",
   "metadata": {},
   "outputs": [
    {
     "name": "stdout",
     "output_type": "stream",
     "text": [
      "Summen av 4 og 3 er 7\n",
      "7 opphøyd i 3 er 343\n"
     ]
    }
   ],
   "source": [
    "a = 4\n",
    "b = 3\n",
    "\n",
    "c = a + b\n",
    "d = c**b\n",
    "\n",
    "print ('Summen av',a,'og',b,'er',c)\n",
    "print (c,'opphøyd i',b,'er',d)"
   ]
  },
  {
   "cell_type": "markdown",
   "id": "b198bc0b-af7f-4c98-93ab-39f536066eba",
   "metadata": {},
   "source": [
    "Vi kan bruke en variabel alle steder der vi kan bruke en verdi av samme type."
   ]
  },
  {
   "cell_type": "markdown",
   "id": "d3a84db6",
   "metadata": {},
   "source": [
    "### Viktig: En variabel må få navn og innhold før den brukes."
   ]
  },
  {
   "cell_type": "markdown",
   "id": "35ee8d21",
   "metadata": {},
   "source": [
    "Vi oppretter en variabel ved å gi den et navn og en verdi.  \n",
    "Vi bruker operatoren = for å gi en variabel verdi.  \n",
    "Variabelen som skal få verdi må stå til venstre for __=__ .  \n",
    "Dersom den ikke finnes fra før blir den opprettet.  \n",
    "Dersom den finnes fra før får den bare en ny verdi.  \n",
    "Verdien den skal få kommer fram av det som står på høyre side av =.  \n",
    "Det å gi en variabel en verdi kalles for tilordning.  \n",
    "```   <variabelnavn> = <verdi>```"
   ]
  },
  {
   "cell_type": "markdown",
   "id": "15bc3168",
   "metadata": {},
   "source": [
    "En linje med kode (kommando) kalles for en programsetning eller bare en setning.<br>\n",
    "Ofte sier vi også noe om hva setningen gjør.<br>\n",
    "De to første linjene kalles derfor tilordningssetninger og de to siste printsetninger.<br>\n",
    "Der ser man hvordan man enkelt kan lage en fornuftig utskrift av resultatet."
   ]
  },
  {
   "cell_type": "markdown",
   "id": "1720485e",
   "metadata": {},
   "source": [
    "Måten det er gjort på i eksemplet med å først sette opp de variablene/verdiene som trengs, så gjøre utregningene og til slutt presentere resultatet er en vanlig og god praksis.  \n",
    "\n",
    "På denne måten kan man sette opp beregninger man har bruk for flere ganger der man setter inn de aktuelle verdiene for hver gang og kjører utregningen på nytt.  \n",
    "Senere skal vi se på andre måter å få inn de aktuelle verdiene.  "
   ]
  },
  {
   "cell_type": "markdown",
   "id": "e450a6b8-912d-4f64-a28d-3f76b4d03c6c",
   "metadata": {},
   "source": [
    "Flere eksemplerpå variabler og bruk av dem:\n",
    "```python \n",
    "radius = 7.8\n",
    "areal = m.pi * radius**2\n",
    "hypotenus = m.sqrt(katetA**2 + katetB**2)\n",
    "samlet_sum = samlet_sum + oekning\n",
    "\n",
    "**2 betyr opphøyd i andre\n",
    "```"
   ]
  },
  {
   "cell_type": "code",
   "execution_count": 2,
   "id": "76579f7f-591a-4c40-a876-0bd03f84ea65",
   "metadata": {},
   "outputs": [
    {
     "name": "stdout",
     "output_type": "stream",
     "text": [
      "bmi:  23.1\n"
     ]
    }
   ],
   "source": [
    "vekt = 75\n",
    "hoyde = 1.80\n",
    "bmi = vekt/hoyde**2\n",
    "print('bmi: ', round(bmi,1))"
   ]
  },
  {
   "cell_type": "code",
   "execution_count": 3,
   "id": "4327b6f9-4b0a-4112-a538-e19e23034663",
   "metadata": {},
   "outputs": [
    {
     "name": "stdout",
     "output_type": "stream",
     "text": [
      "volumet er 37.7 Overflaten er 62.83\n"
     ]
    }
   ],
   "source": [
    "import math as m\n",
    "\n",
    "radius = 2\n",
    "hoyde = 3\n",
    "\n",
    "omkrets = 2 * m.pi * radius\n",
    "grunnflate = m.pi * radius ** 2\n",
    "\n",
    "volum = grunnflate * hoyde\n",
    "overflate = 2 * grunnflate + omkrets * hoyde\n",
    "\n",
    "print('volumet er', round(volum,2), 'Overflaten er', round(overflate,2))"
   ]
  },
  {
   "cell_type": "markdown",
   "id": "7b247589-df43-44a6-bdf7-a3142c1fc72f",
   "metadata": {
    "tags": []
   },
   "source": [
    "Vi kan bruke variabler for å dele opp kompliserte uttrykk.  \n",
    "Vi så tidligere en omfattende brudden brøk: \n",
    "$\\Large \\frac{x^(2-y)+\\frac{z}{3}}{\\frac{3}{4}-\\frac{a+b}{5}}$ I stedet for å skrive alt på en linje <br><br>\n",
    "``` (x**(2-y) + z/3) / ( 3/4 - (a+b)/5)``` \n",
    "kan vi dele opp slik:  \n",
    "\n",
    "```\n",
    "teller = x^(2–y) + z/3  \n",
    "nevner = 3/4 – (a+b)/5  \n",
    "svar = teller / nevner\n",
    "```  \n",
    "  \n",
    "Prøv dette selv *(Hint: I tillegg til de tre linjene med utregning trenger du en linje for å skrive ut svaret.)*  \n",
    "Vi har sett at vi kan bruke print for å se svaret. Men det er også nok å skrive variabelnavne på en egen linje."
   ]
  },
  {
   "cell_type": "code",
   "execution_count": null,
   "id": "c8e1df17",
   "metadata": {},
   "outputs": [],
   "source": []
  },
  {
   "cell_type": "markdown",
   "id": "d5044242-b94f-4c0b-9592-64e487987bb2",
   "metadata": {},
   "source": [
    "Hvis du vi vite hvilke variabler vi har i notaboken og hvilke verdier de har så kan du bruke kommandoen ***%whos***  \n",
    "Type kommer vi snart tilbake til"
   ]
  },
  {
   "cell_type": "code",
   "execution_count": 4,
   "id": "e9539b1f-c939-40a7-beb4-48fa5ff3cf1e",
   "metadata": {},
   "outputs": [
    {
     "name": "stdout",
     "output_type": "stream",
     "text": [
      "Variable     Type      Data/Info\n",
      "--------------------------------\n",
      "a            int       4\n",
      "b            int       3\n",
      "bmi          float     23.148148148148145\n",
      "c            int       7\n",
      "d            int       343\n",
      "grunnflate   float     12.566370614359172\n",
      "hoyde        int       3\n",
      "m            module    <module 'math' from '/usr<...>-39-x86_64-linux-gnu.so'>\n",
      "omkrets      float     12.566370614359172\n",
      "overflate    float     62.83185307179586\n",
      "radius       int       2\n",
      "vekt         int       75\n",
      "volum        float     37.69911184307752\n"
     ]
    }
   ],
   "source": [
    "%whos"
   ]
  },
  {
   "cell_type": "code",
   "execution_count": null,
   "id": "38449c82-793a-440c-beff-7f02f5fcbc9e",
   "metadata": {},
   "outputs": [],
   "source": []
  }
 ],
 "metadata": {
  "kernelspec": {
   "display_name": "Python 3 (ipykernel)",
   "language": "python",
   "name": "python3"
  },
  "language_info": {
   "codemirror_mode": {
    "name": "ipython",
    "version": 3
   },
   "file_extension": ".py",
   "mimetype": "text/x-python",
   "name": "python",
   "nbconvert_exporter": "python",
   "pygments_lexer": "ipython3",
   "version": "3.9.13"
  }
 },
 "nbformat": 4,
 "nbformat_minor": 5
}
