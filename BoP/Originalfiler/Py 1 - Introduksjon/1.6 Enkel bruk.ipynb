{
 "cells": [
  {
   "cell_type": "markdown",
   "id": "325be60b-282e-4fae-9ef6-c12bec123182",
   "metadata": {},
   "source": [
    "## Enkel bruk"
   ]
  },
  {
   "cell_type": "markdown",
   "id": "2da00ddc-2c2a-48f8-b72e-8cca82754853",
   "metadata": {},
   "source": [
    "Selvfølgelig starter man ikke Jupyter Lab og Python hvis man bare trenger en kalkulator  \n",
    "– Men å begynne med å bruke den som en kalkulator er en fin måte å bli kjent med hvordan de virker.  \n",
    "– Vi kommer snart langt forbi mulighetene på en kalkulator.  \n",
    "\n",
    "Det som her menes med enkel bruk er at vi skriver matematiske uttrykk inn i celler for å få resultat uten å bruke programeringselementer."
   ]
  },
  {
   "cell_type": "markdown",
   "id": "f63c0c66-8937-4d0f-9ddf-5ea8873dcc0c",
   "metadata": {},
   "source": [
    "### Skrive matematiske uttrykk i Python"
   ]
  },
  {
   "cell_type": "markdown",
   "id": "7934d20a-b2d1-4f76-bd7e-a4bc885fc544",
   "metadata": {},
   "source": [
    "I Python, de fleste andre programmeringsspråk og mange program for nummerisk mattematikk skriver vi matematiske utrykk på enlinjet form. Dette er ikke så elegant som i en del andre matematikkapper, men har sine store fordeler når matematikk skal programmeres.  \n",
    "\n",
    "Se kompendiet «Enlinjet matematikk» for å lære mer om dette. Kompendiet er skrevet for Matlab, men man klarer ganske enkelt og overføre det til Python.  \n",
    "\n",
    "Ved hjelp av funksjoner og reserverte ord kan vi stable opp komplekse regneuttrykk."
   ]
  },
  {
   "cell_type": "markdown",
   "id": "be6de7eb-e3f6-4db2-ac6e-b828cda58673",
   "metadata": {
    "tags": []
   },
   "source": [
    "I algebra sløyfes gjerne gangetegnet mellom tall og variabler som består av en bokstav. Det samme mellom et tall eller variabel og en parentes.,\n",
    "$ x(2+3 y)=x⋅(2+3⋅y) $ . Som vi tidligere har sett nekter Python å forstå seg på slike usynlige gangetegn og vil gi feilmelding om vi ikke skriver ```x*(2+3*y)```.  \n",
    "\n",
    "Arealet av en sirkel: $ 2\\pi r^2 $ må skrives (vi setter r = 4,7 for å få et resultat):"
   ]
  },
  {
   "cell_type": "code",
   "execution_count": 1,
   "id": "4f336b0f-267d-4491-9394-e5e85c2c6422",
   "metadata": {},
   "outputs": [
    {
     "name": "stdout",
     "output_type": "stream",
     "text": [
      "En sirkel med areal 4.7 har areal 138.8\n"
     ]
    }
   ],
   "source": [
    "import math as m\n",
    "\n",
    "r = 4.7\n",
    "\n",
    "A = 2 * m.pi * r**2\n",
    "A = round(A,2) # runder av til maks 2 desimaler\n",
    "print('En sirkel med areal', r, 'har areal', A)"
   ]
  },
  {
   "cell_type": "markdown",
   "id": "ca62775b-95a7-439e-8cb0-9e4bae991eea",
   "metadata": {},
   "source": [
    "Et sammensatt uttrykk med brøk:  \n",
    "$ 1+2*3-\\frac{4}{5} = $"
   ]
  },
  {
   "cell_type": "code",
   "execution_count": 2,
   "id": "28d75dbf-5d88-4aa9-98fb-4dd8fbfa4646",
   "metadata": {
    "tags": []
   },
   "outputs": [
    {
     "data": {
      "text/plain": [
       "6.2"
      ]
     },
     "execution_count": 2,
     "metadata": {},
     "output_type": "execute_result"
    }
   ],
   "source": [
    "1+2*3-4/5"
   ]
  },
  {
   "cell_type": "markdown",
   "id": "f89700f1-9f9a-49c2-88b6-e335563a89aa",
   "metadata": {},
   "source": [
    "På grunn av operatorprioritet var det ikke nødvendig med parenteser her."
   ]
  },
  {
   "cell_type": "markdown",
   "id": "01b5706b-4bd9-40f9-b4ec-b3f55f84f163",
   "metadata": {},
   "source": [
    "Brøk plus brøk:  \n",
    "$ \\frac{5}{4}+ \\frac{7}{5}= $"
   ]
  },
  {
   "cell_type": "code",
   "execution_count": 3,
   "id": "4fa949e7-1322-4d5b-bd62-68d053335ce5",
   "metadata": {},
   "outputs": [
    {
     "data": {
      "text/plain": [
       "2.65"
      ]
     },
     "execution_count": 3,
     "metadata": {},
     "output_type": "execute_result"
    }
   ],
   "source": [
    "5/4 + 7/5"
   ]
  },
  {
   "cell_type": "markdown",
   "id": "ee7238d3-193b-4ddc-996e-630109ccd56a",
   "metadata": {},
   "source": [
    "Et sammensatt uttrykk med kvadratrot og potens:  \n",
    "$\\sqrt{2} + 8^{\\frac{1}{3}} = $"
   ]
  },
  {
   "cell_type": "code",
   "execution_count": 4,
   "id": "ed086b3e-8c43-48eb-9057-fc7b453dfa51",
   "metadata": {},
   "outputs": [
    {
     "data": {
      "text/plain": [
       "3.414213562373095"
      ]
     },
     "execution_count": 4,
     "metadata": {},
     "output_type": "execute_result"
    }
   ],
   "source": [
    "m.sqrt(2) + 8**(1/3)"
   ]
  },
  {
   "cell_type": "markdown",
   "id": "b98ea3cd-63ee-4dce-a86e-428308f947eb",
   "metadata": {
    "tags": []
   },
   "source": [
    "Et  uttrykk med trigonometrisk funksjon:  \n",
    "$\\sin(\\frac{\\pi}{6}) = $"
   ]
  },
  {
   "cell_type": "code",
   "execution_count": 5,
   "id": "4bfa15cb-b591-4ae0-b197-13e5f2b0aad6",
   "metadata": {},
   "outputs": [
    {
     "data": {
      "text/plain": [
       "0.49999999999999994"
      ]
     },
     "execution_count": 5,
     "metadata": {},
     "output_type": "execute_result"
    }
   ],
   "source": [
    "m.sin(m.pi/6)"
   ]
  },
  {
   "cell_type": "markdown",
   "id": "dcff6b43-095a-4875-b9a8-3ee0300521f4",
   "metadata": {},
   "source": [
    "Det siste eksemplet viser et viktig problem i nummerisk databehandlig. Svaret skal være nøyaktig 0,5. Men på grunn av at tall representeres i 2-tall-systemet i en datamskin vil slike ting som dette kunne oppstå. Problemet blir nærmere belyst senere."
   ]
  },
  {
   "cell_type": "markdown",
   "id": "e4db86f4-b62d-42d5-86ce-8039a433b2e8",
   "metadata": {
    "tags": []
   },
   "source": [
    "Et sammensatt uttrykk med trigonometrisk funksjon, brøk og rot:  \n",
    "$ \\large \\frac{2 cos(\\pi)}{\\sqrt(24.68^2)} = $"
   ]
  },
  {
   "cell_type": "code",
   "execution_count": 6,
   "id": "0e4fcab9-9de0-440c-8926-a2acb9f56430",
   "metadata": {},
   "outputs": [
    {
     "data": {
      "text/plain": [
       "-0.08103727714748785"
      ]
     },
     "execution_count": 6,
     "metadata": {},
     "output_type": "execute_result"
    }
   ],
   "source": [
    "(2 * m.cos(m.pi)) / m.sqrt(24.68**2)"
   ]
  },
  {
   "cell_type": "markdown",
   "id": "d6f5a39a-ccb4-403f-b54d-96d8b0bd3ee9",
   "metadata": {},
   "source": [
    "#### Brudne brøker"
   ]
  },
  {
   "cell_type": "markdown",
   "id": "ebdba324-2e3a-4669-862c-c1053c0b7419",
   "metadata": {
    "tags": []
   },
   "source": [
    "Ved brudne brøker er det viktig å holde rede på hva som er hovedbrøkstreken.  \n",
    "\n",
    "Uttrykkene  $ \\Large a=\\frac{\\frac{72}{6}}{2}$ og $ \\Large b=\\frac{72}{\\frac{6}{2}}$ er begge OK matematisk. Hvordan brøkstrekene er plassert i forhold til likhetstegnet styrer hvodan de skal evalueres og dermed hvordan de skal skrives i python. Vi bruker parenteser for å få det riktig."
   ]
  },
  {
   "cell_type": "code",
   "execution_count": 7,
   "id": "eb49d200-4b13-4553-b64a-1875aa3dff4b",
   "metadata": {},
   "outputs": [
    {
     "name": "stdout",
     "output_type": "stream",
     "text": [
      "6.0\n",
      "24.0\n"
     ]
    }
   ],
   "source": [
    "a = (72/6)/2\n",
    "b = 72/(6/2)\n",
    "\n",
    "print(a)\n",
    "print(b)"
   ]
  },
  {
   "cell_type": "markdown",
   "id": "3fbbe5a2-5097-4ac8-ae72-e6ef74aafb0e",
   "metadata": {
    "tags": []
   },
   "source": [
    "Her er en litt mer omfattende brøk:\n",
    "$\\Large \\frac{x^{(2-y)}+\\frac{z}{3}}{\\frac{3}{4}-\\frac{a+b}{5}}$ Den må skrives inn slik:  \n",
    "\n",
    "```(x**(2-y) + z/3) / ( 3/4 - (a+b)/5)```\n",
    "\n",
    "Et så komplekst uttrykk kan lett bli uoversiktlig. Det kan derfor være lurt å dele det opp i mindre deler. Det skal vi se på når vi har lært om variabler."
   ]
  },
  {
   "cell_type": "markdown",
   "id": "6d84dc38-3f55-42da-b8f5-79d5ac4f16a2",
   "metadata": {},
   "source": [
    "I en del programmer som er spesieltlaget for matematikk, som for eksempel MATLAB, håndteres deling på 0 og lignende uvanlige ting uten at det oppstår feil. I Python og de fleste andre programeringsspråk gir det feilmelding, slik som på kalkulatoren."
   ]
  },
  {
   "cell_type": "code",
   "execution_count": 8,
   "id": "c736fce9-a545-4c85-9b54-997a236d0942",
   "metadata": {},
   "outputs": [
    {
     "ename": "ZeroDivisionError",
     "evalue": "division by zero",
     "output_type": "error",
     "traceback": [
      "\u001b[0;31m---------------------------------------------------------------------------\u001b[0m",
      "\u001b[0;31mZeroDivisionError\u001b[0m                         Traceback (most recent call last)",
      "\u001b[0;32m<ipython-input-8-f6cc6d14333b>\u001b[0m in \u001b[0;36m<module>\u001b[0;34m\u001b[0m\n\u001b[0;32m----> 1\u001b[0;31m \u001b[0;36m3\u001b[0m\u001b[0;34m/\u001b[0m\u001b[0;36m0\u001b[0m\u001b[0;34m\u001b[0m\u001b[0;34m\u001b[0m\u001b[0m\n\u001b[0m",
      "\u001b[0;31mZeroDivisionError\u001b[0m: division by zero"
     ]
    }
   ],
   "source": [
    "3/0"
   ]
  },
  {
   "cell_type": "markdown",
   "id": "3d0f16b1-40b7-4277-9be4-5d190ae9137e",
   "metadata": {},
   "source": [
    "I cellene nedenfor kan du prøve ting på egen hånd. Blant annet eksemplene fra «Enlinjet matematikk»."
   ]
  },
  {
   "cell_type": "code",
   "execution_count": null,
   "id": "499597ca-51e5-4c4d-8b50-254ca9fe633a",
   "metadata": {},
   "outputs": [],
   "source": []
  },
  {
   "cell_type": "code",
   "execution_count": null,
   "id": "9acb04f3-a4c0-4e8f-a776-dbb09a87a6c0",
   "metadata": {},
   "outputs": [],
   "source": []
  },
  {
   "cell_type": "code",
   "execution_count": null,
   "id": "d6696665-d1b5-42e3-a8c2-1e181dbb4806",
   "metadata": {},
   "outputs": [],
   "source": []
  }
 ],
 "metadata": {
  "kernelspec": {
   "display_name": "Python 3 (ipykernel)",
   "language": "python",
   "name": "python3"
  },
  "language_info": {
   "codemirror_mode": {
    "name": "ipython",
    "version": 3
   },
   "file_extension": ".py",
   "mimetype": "text/x-python",
   "name": "python",
   "nbconvert_exporter": "python",
   "pygments_lexer": "ipython3",
   "version": "3.8.13"
  }
 },
 "nbformat": 4,
 "nbformat_minor": 5
}
