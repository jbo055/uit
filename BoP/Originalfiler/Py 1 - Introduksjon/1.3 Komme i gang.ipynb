{
 "cells": [
  {
   "cell_type": "markdown",
   "id": "7e1c562d",
   "metadata": {},
   "source": [
    "# <font color=blue> Så, hvordan kommer jeg i gang?\n",
    "    \n",
    "Vi skal bruke et web-basert miljø som heter Jupyter Lab. Dette driftes av UiT og filer lagres i Office-365.<br><br>\n",
    "Gå til https://jupyter.uit.no/ og logg på med din vanlige UiT-pålogging.  "
   ]
  },
  {
   "cell_type": "code",
   "execution_count": null,
   "id": "5e3e4954",
   "metadata": {},
   "outputs": [],
   "source": []
  },
  {
   "cell_type": "markdown",
   "id": "dfad3720",
   "metadata": {},
   "source": [
    "Du vil blant annet lære elementære progarmmeringselementer, kontrollstrukturer og noe terminologi."
   ]
  },
  {
   "cell_type": "code",
   "execution_count": null,
   "id": "282bd42d",
   "metadata": {},
   "outputs": [],
   "source": []
  },
  {
   "cell_type": "code",
   "execution_count": 1,
   "id": "830353ea",
   "metadata": {},
   "outputs": [
    {
     "name": "stdout",
     "output_type": "stream",
     "text": [
      "Jeg skal lære å programere i Python\n"
     ]
    }
   ],
   "source": [
    "print('Jeg skal lære å programere i Python')"
   ]
  },
  {
   "cell_type": "code",
   "execution_count": 2,
   "id": "91e5979e",
   "metadata": {},
   "outputs": [
    {
     "name": "stdout",
     "output_type": "stream",
     "text": [
      "The Zen of Python, by Tim Peters\n",
      "\n",
      "Beautiful is better than ugly.\n",
      "Explicit is better than implicit.\n",
      "Simple is better than complex.\n",
      "Complex is better than complicated.\n",
      "Flat is better than nested.\n",
      "Sparse is better than dense.\n",
      "Readability counts.\n",
      "Special cases aren't special enough to break the rules.\n",
      "Although practicality beats purity.\n",
      "Errors should never pass silently.\n",
      "Unless explicitly silenced.\n",
      "In the face of ambiguity, refuse the temptation to guess.\n",
      "There should be one-- and preferably only one --obvious way to do it.\n",
      "Although that way may not be obvious at first unless you're Dutch.\n",
      "Now is better than never.\n",
      "Although never is often better than *right* now.\n",
      "If the implementation is hard to explain, it's a bad idea.\n",
      "If the implementation is easy to explain, it may be a good idea.\n",
      "Namespaces are one honking great idea -- let's do more of those!\n"
     ]
    }
   ],
   "source": [
    "import this"
   ]
  },
  {
   "cell_type": "code",
   "execution_count": null,
   "id": "8b9f2c85-81af-4f96-a808-118ac82ed328",
   "metadata": {},
   "outputs": [],
   "source": []
  }
 ],
 "metadata": {
  "kernelspec": {
   "display_name": "Python 3 (ipykernel)",
   "language": "python",
   "name": "python3"
  },
  "language_info": {
   "codemirror_mode": {
    "name": "ipython",
    "version": 3
   },
   "file_extension": ".py",
   "mimetype": "text/x-python",
   "name": "python",
   "nbconvert_exporter": "python",
   "pygments_lexer": "ipython3",
   "version": "3.8.13"
  }
 },
 "nbformat": 4,
 "nbformat_minor": 5
}
