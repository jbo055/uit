{
 "cells": [
  {
   "cell_type": "markdown",
   "id": "0dc88c71",
   "metadata": {
    "button": false,
    "deletable": true,
    "new_sheet": false,
    "run_control": {
     "read_only": false
    }
   },
   "source": [
    "## Mer om bruk av Jupiter og Python"
   ]
  },
  {
   "cell_type": "markdown",
   "id": "2512d93f",
   "metadata": {
    "button": false,
    "deletable": true,
    "new_sheet": false,
    "run_control": {
     "read_only": false
    }
   },
   "source": [
    "### Kodeceller\n",
    "I Jupyter skriver man Python-koden i kodeceller. De kjenner man igjen ved at det står [ ]: i blått foran. <br>\n",
    "For å få resultatet må vi utføre/kjøre det som står i cellen ved å trykke  på ▶ (run) oppe i menyen eller ⇧ &#8629; på tastaturet.  \n",
    "Det er bare det som står i den cellen skrivemarkøren er i som utføres."
   ]
  },
  {
   "cell_type": "code",
   "execution_count": 1,
   "id": "d582fbec",
   "metadata": {
    "button": false,
    "collapsed": false,
    "deletable": true,
    "jupyter": {
     "outputs_hidden": false
    },
    "new_sheet": false,
    "run_control": {
     "read_only": false
    }
   },
   "outputs": [
    {
     "data": {
      "text/plain": [
       "4"
      ]
     },
     "execution_count": 1,
     "metadata": {},
     "output_type": "execute_result"
    }
   ],
   "source": [
    "2 + 2"
   ]
  },
  {
   "cell_type": "markdown",
   "id": "cec88d7f",
   "metadata": {
    "button": false,
    "deletable": true,
    "new_sheet": false,
    "run_control": {
     "read_only": false
    }
   },
   "source": [
    "Resultatet vises under cellen. Foran resultatet står det [ ]:  i rødt.  \n",
    "Inni klammeparentesene står det nå et tall som er et sekvensnummer for den utførte operasjonen. Dette oppdateres hver gang vi kjører koden.  \n",
    "Vi kan nå endre koden, men resultatet oppdateres ikke før vi kjører den på nytt."
   ]
  },
  {
   "cell_type": "markdown",
   "id": "56f5c2d7",
   "metadata": {
    "button": false,
    "deletable": true,
    "new_sheet": false,
    "run_control": {
     "read_only": false
    }
   },
   "source": [
    "### Programflyt\n",
    "Når vi kjører koden i en celle blir linjene utført en for en fra toppen og nedover. Det som er gjort i en celle er kjent for en ettrfølgende celle når den blir utført. Det vil for eksempel si at når vi har importert en modul i en celle så kan vi bruke den også i de neste cellene, i samme notatbok, uten å importerie den på nytt.  \n",
    "\n",
    " Hva som er en ettfølgende celle bestemmes av nummereringen i klammene foran dem."
   ]
  },
  {
   "cell_type": "markdown",
   "id": "0c21d902",
   "metadata": {
    "button": false,
    "deletable": true,
    "new_sheet": false,
    "run_control": {
     "read_only": false
    }
   },
   "source": [
    "### Jeg forstår ikke hva du sier"
   ]
  },
  {
   "cell_type": "markdown",
   "id": "02e6c956",
   "metadata": {
    "button": false,
    "deletable": true,
    "new_sheet": false,
    "run_control": {
     "read_only": false
    }
   },
   "source": [
    "Programeringsspråk har den særegenheten at man må skrive alt på helt riktig måte for at det skal bli forstått. Hvis vi gjør den minste feil får vi feilmelding når vi prøver å kjøre koden.  \n",
    "\n",
    "Hvis vi skriver stor forbokstav i navn som bare skrives med små (for eksempel Print() ) eller skriver et ord/tegn som Python ikke forstår så går det galt. En annen ting Python reagerer på er om linja begynner med et mellomrom dersom det ikke hører hjemme der. Hvor det hører hjemme kommer vi til senere.  "
   ]
  },
  {
   "cell_type": "markdown",
   "id": "b18a5786",
   "metadata": {
    "button": false,
    "deletable": true,
    "new_sheet": false,
    "run_control": {
     "read_only": false
    }
   },
   "source": [
    "### Verktøylinja"
   ]
  },
  {
   "attachments": {
    "51d3d1a5-7a81-47c8-8e51-44d27435ea56.png": {
     "image/png": "[encoded data removed]"
    }
   },
   "cell_type": "markdown",
   "id": "e6b19a25",
   "metadata": {
    "button": false,
    "deletable": true,
    "new_sheet": false,
    "run_control": {
     "read_only": false
    }
   },
   "source": [
    "![Verktøylinja 1.png](attachment:51d3d1a5-7a81-47c8-8e51-44d27435ea56.png)"
   ]
  },
  {
   "cell_type": "markdown",
   "id": "d690bc6b",
   "metadata": {
    "button": false,
    "deletable": true,
    "new_sheet": false,
    "run_control": {
     "read_only": false
    }
   },
   "source": [
    "Verktøylinja inneholder funksjoner vi trenger for å lage og vedlikeholde en «notatbok». Når vi peker på et av symbolene får vi opp en forklaring.  \n",
    "\n",
    "I Jupyter lagres «notatboka» automatisk med jevne mellomrom. Men det finnes også en lagreknapp helt til venstre på verktøylinja. Hvis ringen helt til høyre for verktøylinja er helt svart betyr det at ting ikke fungerer slik det skal. Da hjelper det å lagre.\n",
    "\n",
    "For å få en ny celle trykker man på **+** . En ny celle er som stanard satt til å være kode-celle. Fra nedtrekksmenyen kan vi velge markdown for å gjøre det til en celle hvor man kan skrive tekst. Teksten kan formateres med html, latex med mer. Man kan for eksempel lage en komplett lab-rapport eller innlevering i en Jupyter kladdebok."
   ]
  },
  {
   "cell_type": "markdown",
   "id": "35272b16",
   "metadata": {
    "button": false,
    "deletable": true,
    "new_sheet": false,
    "run_control": {
     "read_only": false
    }
   },
   "source": [
    "Klipp, kopier og lim inn (på verktøylinja) virker på celler.  \n",
    "Stopp (Interrupt the kernel), Restart og Restart og re-run brukes når Python/Jupyter ikke reagerer. For eksempel hvis man har startet en uendelig løkke."
   ]
  },
  {
   "cell_type": "markdown",
   "id": "11ce7a22",
   "metadata": {
    "button": false,
    "deletable": true,
    "new_sheet": false,
    "run_control": {
     "read_only": false
    }
   },
   "source": [
    "For å komme videre må vi lære om variabler, datatyper, tilordning og noen andre operatorer. Det skal vi en neste modul."
   ]
  },
  {
   "cell_type": "markdown",
   "id": "fbb21da5",
   "metadata": {
    "button": false,
    "deletable": true,
    "new_sheet": false,
    "run_control": {
     "read_only": false
    }
   },
   "source": [
    "### Hjelp"
   ]
  },
  {
   "cell_type": "markdown",
   "id": "e58c1d15",
   "metadata": {
    "button": false,
    "deletable": true,
    "new_sheet": false,
    "run_control": {
     "read_only": false
    }
   },
   "source": [
    "Det er alltid behov for hjelp. Både til Python og Jupyter.  \n",
    "\n",
    "De fleste vil vel bare «google» det de leter etter og det fungerer ofte bra. Husk å ta med «python» eventuelt «jupyter» i søket. Det kan også være en fordel å skrive de andre søkeordene på engelsk.  \n",
    "\n",
    "I de videre notatbøkene kurset består av er det noen nettsteder det vil refereres til for mer informasjon. De er gode steder for å finne hjelp:  \n",
    "\n",
    "https://docs.python.org/3/  \n",
    "https://www.w3schools.com/python/"
   ]
  }
 ],
 "metadata": {
  "kernelspec": {
   "display_name": "Python 3 (ipykernel)",
   "language": "python",
   "name": "python3"
  },
  "language_info": {
   "codemirror_mode": {
    "name": "ipython",
    "version": 3
   },
   "file_extension": ".py",
   "mimetype": "text/x-python",
   "name": "python",
   "nbconvert_exporter": "python",
   "pygments_lexer": "ipython3",
   "version": "3.8.13"
  }
 },
 "nbformat": 4,
 "nbformat_minor": 5
}
