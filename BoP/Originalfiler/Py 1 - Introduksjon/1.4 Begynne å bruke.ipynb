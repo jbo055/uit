{
 "cells": [
  {
   "cell_type": "markdown",
   "id": "346ba1f9-a61f-4746-8a5c-92772a14adf4",
   "metadata": {},
   "source": [
    "## Begynne å bruke"
   ]
  },
  {
   "cell_type": "markdown",
   "id": "1aee152a",
   "metadata": {},
   "source": [
    "Vi begynner med å prøve noen helt enkle eksempler for å se hvordan Jypyter og Python fungerer. Det betyr at vi en del ganger får presentert nye ting og forklaringen kommer senere. De første eksempler og bruk vil være å prøve den ut som en tekstbasert kalkulator.  \n",
    "\n",
    "Regneoperasjon skrives på vanlig måte. Vi skriver ikke = , men trykker på run (&#9654;) for å få regnet ut."
   ]
  },
  {
   "cell_type": "code",
   "execution_count": 1,
   "id": "947ae3af",
   "metadata": {},
   "outputs": [
    {
     "data": {
      "text/plain": [
       "5"
      ]
     },
     "execution_count": 1,
     "metadata": {},
     "output_type": "execute_result"
    }
   ],
   "source": [
    "2+3"
   ]
  },
  {
   "cell_type": "code",
   "execution_count": 2,
   "id": "ce57169a-e81e-46e6-b06a-766287d8d536",
   "metadata": {},
   "outputs": [
    {
     "data": {
      "text/plain": [
       "4.5"
      ]
     },
     "execution_count": 2,
     "metadata": {},
     "output_type": "execute_result"
    }
   ],
   "source": [
    "9 / 2"
   ]
  },
  {
   "cell_type": "markdown",
   "id": "c4a7100c",
   "metadata": {},
   "source": [
    "Mellomrom i uttrykket er valfritt. Vi bruker det slik at det blir lett leselig. Men linja skal ikke begynne med mellomrom.  \n",
    "Legg også merke til at det er punktum som er desimalskilleteng, ikke komma.  \n",
    "\n",
    "For de fire regneartene brukes operatorene __+ - * /__  \n",
    "Det finnes flere operatorer som vi skal komme tilbake til senere.  \n",
    "Vi kan sette sammen uttrykk slik vi er vant til og utregningen skjer etter vanlige regler for operatorprioritet."
   ]
  },
  {
   "cell_type": "code",
   "execution_count": 3,
   "id": "05dab367",
   "metadata": {},
   "outputs": [
    {
     "name": "stderr",
     "output_type": "stream",
     "text": [
      "<>:1: SyntaxWarning: 'int' object is not callable; perhaps you missed a comma?\n",
      "<>:1: SyntaxWarning: 'int' object is not callable; perhaps you missed a comma?\n",
      "/var/folders/7j/qbd25v3j4vb0123z4z71v27w0000gp/T/ipykernel_2415/3818352438.py:1: SyntaxWarning: 'int' object is not callable; perhaps you missed a comma?\n",
      "  5 + 4(3 + 2)\n",
      "/var/folders/7j/qbd25v3j4vb0123z4z71v27w0000gp/T/ipykernel_2415/3818352438.py:1: SyntaxWarning: 'int' object is not callable; perhaps you missed a comma?\n",
      "  5 + 4(3 + 2)\n",
      "/var/folders/7j/qbd25v3j4vb0123z4z71v27w0000gp/T/ipykernel_2415/3818352438.py:1: SyntaxWarning: 'int' object is not callable; perhaps you missed a comma?\n",
      "  5 + 4(3 + 2)\n"
     ]
    },
    {
     "ename": "TypeError",
     "evalue": "'int' object is not callable",
     "output_type": "error",
     "traceback": [
      "\u001b[0;31m---------------------------------------------------------------------------\u001b[0m",
      "\u001b[0;31mTypeError\u001b[0m                                 Traceback (most recent call last)",
      "Input \u001b[0;32mIn [3]\u001b[0m, in \u001b[0;36m<cell line: 1>\u001b[0;34m()\u001b[0m\n\u001b[0;32m----> 1\u001b[0m \u001b[38;5;241m5\u001b[39m \u001b[38;5;241m+\u001b[39m \u001b[38;5;241;43m4\u001b[39;49m\u001b[43m(\u001b[49m\u001b[38;5;241;43m3\u001b[39;49m\u001b[43m \u001b[49m\u001b[38;5;241;43m+\u001b[39;49m\u001b[43m \u001b[49m\u001b[38;5;241;43m2\u001b[39;49m\u001b[43m)\u001b[49m\n",
      "\u001b[0;31mTypeError\u001b[0m: 'int' object is not callable"
     ]
    }
   ],
   "source": [
    "5 + 4(3 + 2)"
   ]
  },
  {
   "cell_type": "markdown",
   "id": "04df04f7",
   "metadata": {},
   "source": [
    "Her fikk vi en feilmelding. Det skyldes at Pyton ikke tolker et tall foran en parentes (eller foran en variabel) som mulitplikasjon. Vi må sette inn operatoren __*__ eksplisit."
   ]
  },
  {
   "cell_type": "code",
   "execution_count": 4,
   "id": "0393a862",
   "metadata": {},
   "outputs": [
    {
     "data": {
      "text/plain": [
       "25"
      ]
     },
     "execution_count": 4,
     "metadata": {},
     "output_type": "execute_result"
    }
   ],
   "source": [
    "5 + 4*(3 + 2)"
   ]
  },
  {
   "cell_type": "markdown",
   "id": "1724785f",
   "metadata": {},
   "source": [
    "Phyton har også en rekke matematiske funksjoner. Vi prøver å regne ut kvadratroten med funksjonen for det som heter sqrt(). Vi må sett tallet som skal brukes i parentesen."
   ]
  },
  {
   "cell_type": "code",
   "execution_count": 5,
   "id": "0125ee8a",
   "metadata": {},
   "outputs": [
    {
     "ename": "NameError",
     "evalue": "name 'sqrt' is not defined",
     "output_type": "error",
     "traceback": [
      "\u001b[0;31m---------------------------------------------------------------------------\u001b[0m",
      "\u001b[0;31mNameError\u001b[0m                                 Traceback (most recent call last)",
      "Input \u001b[0;32mIn [5]\u001b[0m, in \u001b[0;36m<cell line: 1>\u001b[0;34m()\u001b[0m\n\u001b[0;32m----> 1\u001b[0m \u001b[43msqrt\u001b[49m(\u001b[38;5;241m9\u001b[39m)\n",
      "\u001b[0;31mNameError\u001b[0m: name 'sqrt' is not defined"
     ]
    }
   ],
   "source": [
    "sqrt(9)"
   ]
  },
  {
   "cell_type": "markdown",
   "id": "d8a68137",
   "metadata": {},
   "source": [
    "Her fikk vi på ny en feilmelding. Det skyldes at sqrt() og en del andre matte-funksjoner ligger i en modul som heter math. For å bruke den må vi importere den og gi den et alias som vi må ha først med punktum mellom."
   ]
  },
  {
   "cell_type": "code",
   "execution_count": 6,
   "id": "ae9c23dc",
   "metadata": {},
   "outputs": [
    {
     "data": {
      "text/plain": [
       "3.0"
      ]
     },
     "execution_count": 6,
     "metadata": {},
     "output_type": "execute_result"
    }
   ],
   "source": [
    "import math as m\n",
    "m.sqrt(9)"
   ]
  },
  {
   "cell_type": "markdown",
   "id": "dca79b47",
   "metadata": {},
   "source": [
    "Har vi først importert den i en celle er det ikke nødvendig å importere den på nytt i en senere celle i samme notatbok.  \n",
    "\n",
    "Modulen math har også noen matematiske konstanter:"
   ]
  },
  {
   "cell_type": "code",
   "execution_count": 7,
   "id": "6d7aa870",
   "metadata": {},
   "outputs": [
    {
     "data": {
      "text/plain": [
       "2.718281828459045"
      ]
     },
     "execution_count": 7,
     "metadata": {},
     "output_type": "execute_result"
    }
   ],
   "source": [
    "m.pi\n",
    "m.e"
   ]
  },
  {
   "cell_type": "markdown",
   "id": "a0802d47-66e8-46a6-b0dc-8a28678a29b9",
   "metadata": {},
   "source": [
    "Vi ser her at vi bare fikk den siste verdien."
   ]
  },
  {
   "cell_type": "markdown",
   "id": "5c890e3d-246c-4e50-bf80-7ff335b7138a",
   "metadata": {},
   "source": [
    "Til nå har vi skrevet bare (regne)uttrykket i cellen og fått resultatet under. Det fungerer i Jupyter Lab/Notebook og så lenge det er bare en linje med kode.\n",
    "For å få resultat fra flere linjer kode i samme celle kan vi bruke print() funksjonen og sette regneuttrykkene inn i parentesen til den .<br>"
   ]
  },
  {
   "cell_type": "code",
   "execution_count": 8,
   "id": "31e29931-0f94-4ea3-92b4-d3f9d855b5dc",
   "metadata": {
    "tags": []
   },
   "outputs": [
    {
     "name": "stdout",
     "output_type": "stream",
     "text": [
      "15\n",
      "64\n"
     ]
    }
   ],
   "source": [
    "print(3 * 5)\n",
    "print(pow(4, 3))"
   ]
  },
  {
   "cell_type": "markdown",
   "id": "25658fed-9319-45c9-87b9-61b9032dd1e0",
   "metadata": {
    "tags": []
   },
   "source": [
    "Prøv selv i cellen under. Sett hvert regneuttrykk i parentesen til print() og kjør cellen.  \n",
    "\n",
    "```\n",
    "(2 - 3)/4  # parentesen regnes ut før divisjon  \n",
    "2.5 * 3  \n",
    "6 * 7 - 3\n",
    "```"
   ]
  },
  {
   "cell_type": "code",
   "execution_count": null,
   "id": "71ad7d8a-17ea-4137-a4c3-dc8f4ab76c7e",
   "metadata": {},
   "outputs": [],
   "source": []
  }
 ],
 "metadata": {
  "kernelspec": {
   "display_name": "Python 3 (ipykernel)",
   "language": "python",
   "name": "python3"
  },
  "language_info": {
   "codemirror_mode": {
    "name": "ipython",
    "version": 3
   },
   "file_extension": ".py",
   "mimetype": "text/x-python",
   "name": "python",
   "nbconvert_exporter": "python",
   "pygments_lexer": "ipython3",
   "version": "3.8.13"
  }
 },
 "nbformat": 4,
 "nbformat_minor": 5
}
