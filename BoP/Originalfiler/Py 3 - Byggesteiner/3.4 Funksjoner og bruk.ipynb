{
 "cells": [
  {
   "cell_type": "markdown",
   "id": "a4100c47-0baa-4559-8a33-ff16ffc388c6",
   "metadata": {},
   "source": [
    "## Funksjoner og bruk av dem"
   ]
  },
  {
   "cell_type": "markdown",
   "id": "8196af48-1cd8-4d80-9ba3-20e93c0496c5",
   "metadata": {},
   "source": [
    "Vi skal nå se nærmere på hva funksjoner er og en del muligheter når vi skal bruke dem. Så skal vi lære mer om noen av de funksjonene vi har brukt og noen av de vi får bruk for.  \n",
    "\n",
    "Måten vi kan kjenne igjen en funksjon er at den alltid har en parentes bak navnet. De fleste funksjoner skal ha «noe» inni parentesen når vi skal bruke den. Men hvis vi bare skal omtale funksjonen i tekst bruker vi ofte bare navnet med en tom parentes bak."
   ]
  },
  {
   "cell_type": "markdown",
   "id": "95168ae7-bd0f-4bab-b3ef-f0cf112eaac9",
   "metadata": {},
   "source": [
    "For å bruke en funksjon skriver vi navnet (med parentes bak). Siden vi bruker navnet sier vi derfor at vi kaller (på) funksjonen.  \n",
    "\n",
    "En funksjon er en kodeblokk som bare kjører når vi kaller den. \n",
    "* Den skal løse en bestemt oppgave\n",
    "* Ofte trenger den noen opplysninger (data) for å gjøre det den skal\n",
    "    * De settes inni parentesen\n",
    "* Den kan returnere et resultat  \n",
    "\n",
    "Hva vi kan, og skal, sette i parentesen er ikke opp til oss selv når vi bruker funksjonen. Det er spesifisert når den ble laget og vil stå i dokumentasjonen. Det vi setter i parentesen kalles for argumenter eller parameter. I dokumentasjon forkortes de gjerne til __args__. \n",
    "* Dersom funksjonen returnerer en verdi kan vi bruke funksjonskallet der vi kan bruke en variabel av samme datatype.\n",
    "* Et funksjonskall kan derfor brukes som argument til en annen funksjon såfremt den returnerer en verdi av den typen som trengs."
   ]
  },
  {
   "cell_type": "markdown",
   "id": "dd0164be-1e9f-4bce-9ed4-4807f03ed9f9",
   "metadata": {},
   "source": [
    "Funksjonen ```print()``` skriver ut på skjermen det vi sender til den. Vi setter det den skal skrive ut i parentesen. Den kan skrive ut ett objekt eller flere som er adskilt med komma. I utgangspunktet er det streng(er) den skriver ut. Men vi kan også sende tall eller andre objekter. I så fall konverteres de automatisk til streng av printfunkjonen. \n",
    "\n",
    "Blir linjen lengre enn cellen er bred kan vi dele den over flere linjer. Det beste er å gjøre det  mellom to elementer (ved et komma). Dette kan også gjøres for andre kommandoer.\n",
    "\n",
    "Funksjonen ```round()``` har vi brukt til å runde av et desimaltall til nærmeste heltall. Da brukte vi ett argument: **round**(_tall_). Vi har også brukt den til å runde av til et bestemt antall desimaler. Da tar vi med ett argument til som spesifiserer antallet: **round**(_tall_, _desimaler_).  \n",
    "\n",
    "Det er ikke likegyldig hvor man gjør avrundingen. Vi kan runde av den utregnede verdien før vi tilordner den til variabelen. Men ofte er det en god ide å la variabelen være uten avrunding og så gjøre avrundingen i utskriften.  \n",
    "\n",
    "Eksempel:"
   ]
  },
  {
   "cell_type": "code",
   "execution_count": 1,
   "id": "6c7fdefe-dfde-4322-af2f-fcb58ec44949",
   "metadata": {},
   "outputs": [
    {
     "name": "stdout",
     "output_type": "stream",
     "text": [
      "Omkretsen av en sirkel med radius  23  er  144.51\n"
     ]
    }
   ],
   "source": [
    "import numpy as np\n",
    "\n",
    "radius = 23\n",
    "\n",
    "omkrets = 2 * np.pi * radius\n",
    "\n",
    "print(\"Omkretsen av en sirkel med radius \", radius, \" er \", round(omkrets, 2))"
   ]
  },
  {
   "cell_type": "code",
   "execution_count": 2,
   "id": "471ad7b0-142d-4d9c-8e8c-896d5ca34e30",
   "metadata": {},
   "outputs": [
    {
     "name": "stdout",
     "output_type": "stream",
     "text": [
      "145\n",
      "145.0\n"
     ]
    }
   ],
   "source": [
    "print(round(omkrets))\n",
    "print(round(omkrets, 0))"
   ]
  },
  {
   "cell_type": "markdown",
   "id": "bb16a2e2-02d8-4410-9533-740d82fa6920",
   "metadata": {},
   "source": [
    "Legg merke til at selv om begge returnerer samme verdi så returnerer ```round(omkrets)``` et heltall mens ```round(omkrets, 0)``` returnerer et flyttall.  \n",
    "\n",
    "For å få vite mer om en funksjon kan vi bruke funksjonen help()"
   ]
  },
  {
   "cell_type": "code",
   "execution_count": 3,
   "id": "d7fd47ff-0668-43c6-a9a5-4d89b3b7e84d",
   "metadata": {},
   "outputs": [
    {
     "name": "stdout",
     "output_type": "stream",
     "text": [
      "Help on built-in function round in module builtins:\n",
      "\n",
      "round(number, ndigits=None)\n",
      "    Round a number to a given precision in decimal digits.\n",
      "    \n",
      "    The return value is an integer if ndigits is omitted or None.  Otherwise\n",
      "    the return value has the same type as the number.  ndigits may be negative.\n",
      "\n"
     ]
    }
   ],
   "source": [
    "help(round)"
   ]
  },
  {
   "cell_type": "markdown",
   "id": "f80a8315-f467-4ec7-9c72-be543e462a8b",
   "metadata": {},
   "source": [
    "Både print() og round() er innebygde funksjoner i Python. Her er noen flere som brukes med de enkle datatypene vi har lært så langt:   \n",
    "> ```abs()    ```Returnerer absoluttverdien av argumentet. Må ha tall som argument  \n",
    "> ```chr()    ```Returnerer tegnet som har den spesifiserte Unicode  \n",
    "> ```divmod() ```Returnerer både heltallsdel og rest av en heltallsdivisjon. Må ha to tall som argument.  \n",
    "> ```float()  ```Returnerer et flyttall når argumentet er et tall eller en streng som består av et tall.   \n",
    "> ```int()    ```Returnerer et heltall (tilsvarende som float() )  \n",
    "> ```pow()    ```Reurnerer argument1 opphøyd i argument2 (tilsvarer **)  \n",
    "> ```str()    ```Returnerer en streng. (tilsvarende som float() og int() )  "
   ]
  },
  {
   "cell_type": "code",
   "execution_count": 4,
   "id": "eaa3da6b-2779-4dc7-998e-10b8c3f4b095",
   "metadata": {},
   "outputs": [
    {
     "name": "stdout",
     "output_type": "stream",
     "text": [
      "14.5\n",
      "λ\n",
      "(5, 2)\n",
      "17.0 <class 'float'>\n",
      "23.0 <class 'float'>\n",
      "5 <class 'int'>\n",
      "12 <class 'int'>\n",
      "64 <class 'int'>\n",
      "403 <class 'str'>\n"
     ]
    }
   ],
   "source": [
    "print(abs(-14.5))\n",
    "print(chr(955))\n",
    "print(divmod(17,3))\n",
    "print(float(17), type(float(17)))\n",
    "print(float('23'), type(float('23')))\n",
    "print(int(17/3), type(int(17/3)))\n",
    "print(int('12'), type(int('12')))\n",
    "print(pow(4,3), type(pow(4,3)))\n",
    "print(str(403), type(str(403)))"
   ]
  },
  {
   "cell_type": "markdown",
   "id": "d4e0a823-3d54-412e-adc4-3a595c034700",
   "metadata": {},
   "source": [
    "Det er mange flere innebygde funksjoner. Noen av dem kommer vi tilbake til når vi har lært det som trengs for å bruke dem.  \n",
    "For mer informasjon se: https://www.w3schools.com/python/python_ref_functions.asp"
   ]
  },
  {
   "cell_type": "markdown",
   "id": "f189094d-27d2-4f63-9e6e-d4169e184424",
   "metadata": {},
   "source": [
    "Vi har også brukt funksjoner som ligger i moduler. For eksempel sqrt() som ligger modulen math. Funksjoner i math-modulen omtales gjerne som metoder. Når funksjoner fra moduler omtales tar man med modulnavnet.   \n",
    "```math.sqrt() ```returnerer kvadratroten av tallet som er argument. hvis argumentet er mindre enn 0 eller ikke et tall returneres en feil.  \n",
    "Vi har også sett ```math.sin()``` i bruk. Den returnerer sinus av argumentet. Sinus tilører gruppen trigonometriske funksjoner. I denne gruppen finner vi også som forventet funksjoner for cosinus og tangens, arcus (invers) versjonene av dem og de hyperbolske versjonene av dem. math-modulen har funksjoner for alle disse.  \n",
    "\n",
    "I python (og andre), blir navnene forkortet slik:  \n",
    "> cosinus blir __cos__  \n",
    "> arcus (invers) cosinus blir __acos__  \n",
    "> hyperbolsk cosinus blir __cosh__  \n",
    "> invers hyperbolsk cosinus blir __acosh__  \n",
    "\n",
    "Så er det tilsvarende for de andre (sinus og tangens). "
   ]
  },
  {
   "cell_type": "markdown",
   "id": "43ea705a-9c05-4f62-8c2e-30e5fc773fef",
   "metadata": {
    "tags": []
   },
   "source": [
    "> De vanlige trigonometriske funksjoner, ```mat.sin(), mat.cos(), mat.tan()``` brukes som regel på vinkler. Fra skolegangen er vi stort sett vant til å angi vinkler i grader. Og på de fleste kalkulatorer opererer de trigometriske funnksjonene også i grader. Men dette har ingen basis i matematikken. Vi vet at omkretsen av en sirkel er $ 2\\pi r $ Da kan vi også si at en full omdreining er $ 2\\pi\\,radianer $. I de fleste programmeringsspråk, inklusive Python, og matematikksystemer er det derfor radianer som er basis for vinkler. Se: https://www.matematikk.org/side.html?tid=195519"
   ]
  },
  {
   "cell_type": "markdown",
   "id": "9e6909aa-cfda-45b1-94b4-53d390d74c3b",
   "metadata": {},
   "source": [
    "For å avhjelpe dette har ```math``` fine funksjoner for å konvertere mellom grader og radianer.  \n",
    "> ```math.radians()   ```Konverterer en vinkel i grader til radianer.  \n",
    "> ```math.degreees()  ```Konverterer en vinkel i radianer til grader.  \n",
    "\n"
   ]
  },
  {
   "cell_type": "code",
   "execution_count": 5,
   "id": "bff9c160-a67c-4856-9b27-c7ba5a53b100",
   "metadata": {},
   "outputs": [
    {
     "name": "stdout",
     "output_type": "stream",
     "text": [
      "0.5\n",
      "0.5\n"
     ]
    }
   ],
   "source": [
    "import math as m\n",
    "print(round( m.cos( m.radians(60) ),2) ) # cosinus til 60 grader\n",
    "print(round( m.sin( m.radians(30) ),2) ) # sinus til 30 grader"
   ]
  },
  {
   "cell_type": "markdown",
   "id": "a1582022-162f-4d22-b604-d1a9424bfc4d",
   "metadata": {
    "tags": []
   },
   "source": [
    "Noen andre funksjoner som er grei å ha: \n",
    "> ```math.factorial()  ``` Returnerer ```N!``` når N er argument til funksjonen.  \n",
    "> ```math.gcd()        ``` Returnerer største felles faktor (divisor). Må ha to heltall som argument. Se: https://www.matematikk.org/oss.html?tid=223700  \n",
    "> ```math.exp()        ``` Returnerer $ E^x $ når argumentet er x"
   ]
  },
  {
   "cell_type": "code",
   "execution_count": 6,
   "id": "9531473d-8c00-443b-a978-ee430c094eea",
   "metadata": {},
   "outputs": [
    {
     "name": "stdout",
     "output_type": "stream",
     "text": [
      "120\n",
      "12\n"
     ]
    }
   ],
   "source": [
    "print( m.factorial(5) ) # 5!\n",
    "print( m.gcd(24,36) )   # Største felles faktor til 24 og 36"
   ]
  },
  {
   "cell_type": "markdown",
   "id": "f65ed549-792d-4792-8cdc-18f2a88f934f",
   "metadata": {},
   "source": [
    "```math```har egne versjoner av noen de innebygde funksjonene:  \n",
    "```math.ceil()``` (tak) og ```math.floor``` (gulv) for avrunding henholdsvis opp eller ned til nærmeste integer.  \n",
    "Det er også en egen funksjon for absoluttverdi ```math.fabs()``` forskjellen fra den innebygde er at denne alltid returnerer en float.  \n",
    "Den har også funksjoner for logarimer og en del annet. For mer informasjon se: https://www.w3schools.com/python/module_math.asp  \n",
    "\n",
    "Funksjoner fra andre moduler ser vi nærmere på når vi skal bruke dem."
   ]
  },
  {
   "cell_type": "code",
   "execution_count": 7,
   "id": "e7b25387-4f48-4cb0-b042-c7e77218f26d",
   "metadata": {},
   "outputs": [
    {
     "data": {
      "text/plain": [
       "1.2246467991473532e-16"
      ]
     },
     "execution_count": 7,
     "metadata": {},
     "output_type": "execute_result"
    }
   ],
   "source": [
    "m.sin(m.pi)"
   ]
  },
  {
   "cell_type": "markdown",
   "id": "e4d1304b-2839-4d18-854d-c2e64ffec6c2",
   "metadata": {},
   "source": [
    "Her tar vi sinus av $\\pi$. Stemmer svaret?. Hvorfor blir det slik?"
   ]
  },
  {
   "cell_type": "code",
   "execution_count": null,
   "id": "233c7d39-e6d0-4cdb-87b2-0aa0a9d7a59d",
   "metadata": {},
   "outputs": [],
   "source": []
  }
 ],
 "metadata": {
  "kernelspec": {
   "display_name": "Python 3 (ipykernel)",
   "language": "python",
   "name": "python3"
  },
  "language_info": {
   "codemirror_mode": {
    "name": "ipython",
    "version": 3
   },
   "file_extension": ".py",
   "mimetype": "text/x-python",
   "name": "python",
   "nbconvert_exporter": "python",
   "pygments_lexer": "ipython3",
   "version": "3.8.13"
  }
 },
 "nbformat": 4,
 "nbformat_minor": 5
}
