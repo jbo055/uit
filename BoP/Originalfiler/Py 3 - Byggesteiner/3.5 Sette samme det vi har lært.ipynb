{
 "cells": [
  {
   "cell_type": "markdown",
   "id": "6228705b-be18-425b-8200-185ba804bbe3",
   "metadata": {},
   "source": [
    "## Sette sammen det vi har lært"
   ]
  },
  {
   "cell_type": "markdown",
   "id": "62641cb8-df92-4637-9063-e8ab3503e425",
   "metadata": {
    "tags": []
   },
   "source": [
    "Vi skal nå se på et litt større eksempel der vi bruker det vi har lært. Dette eksempelet skal vi komme til bak til flere ganger og tilføre nye ting vi lærer."
   ]
  },
  {
   "cell_type": "markdown",
   "id": "e4a944b7-3c54-48fa-af7b-2c67565252e6",
   "metadata": {},
   "source": [
    "I en del av markedsføringen av el-biler poengteres det hvor rask aksellerasjonen er.  \n",
    "\n",
    "Den første som brukte dette som et salgsargument kom på markedet i 2013. En versjon som kom da skulle kunne gjøre 0-100 km/t 4,4 sek.  \n",
    "\n",
    "Vi kan da spørre hvor langt den har kjørt da.  \n",
    "Vi må ofte ta noen forutsetninger som forenkler virkeligheten litt for at beregningene ikke skal bli for kompliserte. Her forutsetter vi at akselerasjonen er konstant fra 0-100, og litt videre. Det er ikke helt riktig, men er godt nok for våre beregninger. "
   ]
  },
  {
   "cell_type": "markdown",
   "id": "7210491d-cb29-42c6-9343-3d4a7e8e222e",
   "metadata": {
    "tags": []
   },
   "source": [
    "Fra fysikken har vi formlene:  \n",
    "  \n",
    "$ \\large v = a·t\\,\\, ⇔ \\,\\, a = \\frac{v}{t} \\,\\, $ v er hastighet (velocity), a er akselerasjon og t er tid.  \n",
    "                                                    Akselerasjon er den deriverte av hastighet.  \n",
    "$ \\large s = \\frac{1}{2} ·a·t^2 \\,\\, $                  s er strekning. Strekning er det deriverte av akselerasjon.  \n",
    "  \n",
    "Vi trenger også å gjøre om fra km/t til m/s.   $ \\large v_{(m/s)} = \\frac{v_{(km/t)}}{3.6} $  \n",
    "  \n",
    "I python blir dette:"
   ]
  },
  {
   "cell_type": "code",
   "execution_count": 1,
   "id": "a7a6198f-fb4a-4a42-a818-d694f84ac19d",
   "metadata": {
    "tags": []
   },
   "outputs": [
    {
     "name": "stdout",
     "output_type": "stream",
     "text": [
      "Akselerassjon 6.31 m/s^2\n",
      "Strekning 61 meter\n"
     ]
    }
   ],
   "source": [
    "v = 100/3.6  # gjør 100 km/t om til m/s\n",
    "t = 4.4      # tiden blien skulle bruke på 0-100 km/t\n",
    "\n",
    "a = v / t    # beregner akselerasjon\n",
    "s = 0.5 * a * t**2    # beregner strekningen i meter\n",
    "\n",
    "print('Akselerassjon', round(a,2), 'm/s^2')\n",
    "print('Strekning', round(s),'meter')"
   ]
  },
  {
   "cell_type": "markdown",
   "id": "8ff779bc-13bb-4057-be36-e5a00af3538c",
   "metadata": {},
   "source": [
    "Vi brukte her bokstavene fra fysikkformlene som variabler. Det er helt greit. Men for at dette skal kunne brukes av de som ikke husker hva bokstavene betyr er det enda bedre å bruke beskrivende navn."
   ]
  },
  {
   "cell_type": "code",
   "execution_count": 2,
   "id": "b9b4d757-d369-4c79-bb0f-fe1b91d7787b",
   "metadata": {},
   "outputs": [
    {
     "name": "stdout",
     "output_type": "stream",
     "text": [
      "En bil som akselererer fra 0-100 km/t på 4.4 sekund har en akselerasjon på 6.31 m/s^2\n",
      "Den har da kjørt 61 meter\n"
     ]
    }
   ],
   "source": [
    "hastighet_100 = 100/3.6  # gjør 100 km/t om til m/s\n",
    "t_0_100 = 4.4      # tiden blien skulle bruke på 0-100 km/t\n",
    "\n",
    "akselerasjon = hastighet_100 / t_0_100    # beregner akselerasjon\n",
    "strekning = 0.5 * akselerasjon * t_0_100**2    # beregner strekningen i meter\n",
    "\n",
    "print('En bil som akselererer fra 0-100 km/t på', t_0_100, \n",
    "      'sekund har en akselerasjon på', round(akselerasjon,2), 'm/s^2')\n",
    "print('Den har da kjørt', round(strekning),'meter')"
   ]
  },
  {
   "cell_type": "markdown",
   "id": "da203862-d47a-479e-a6f5-d03d1caa439d",
   "metadata": {},
   "source": [
    "Vi kan nå finne 0-100 tiden for andre biler og sette det inn for t_0_100 og kjøre cella på nytt.  \n",
    "\n",
    "Det vi har her er komplett kode for å gjøre en oppgave. Det kaller vi gjerne for et skript."
   ]
  },
  {
   "cell_type": "code",
   "execution_count": null,
   "id": "afae45f9-7b4d-4eaa-8f2b-5812ef717bf9",
   "metadata": {},
   "outputs": [],
   "source": []
  }
 ],
 "metadata": {
  "kernelspec": {
   "display_name": "Python 3 (ipykernel)",
   "language": "python",
   "name": "python3"
  },
  "language_info": {
   "codemirror_mode": {
    "name": "ipython",
    "version": 3
   },
   "file_extension": ".py",
   "mimetype": "text/x-python",
   "name": "python",
   "nbconvert_exporter": "python",
   "pygments_lexer": "ipython3",
   "version": "3.8.13"
  }
 },
 "nbformat": 4,
 "nbformat_minor": 5
}
