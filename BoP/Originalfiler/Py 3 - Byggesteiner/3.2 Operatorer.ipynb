{
 "cells": [
  {
   "cell_type": "markdown",
   "id": "d4e57c64-da06-4eb5-8828-95a0cff63a85",
   "metadata": {},
   "source": [
    "## Operatorer"
   ]
  },
  {
   "cell_type": "markdown",
   "id": "6699fbc5-3a80-4f89-a625-de62d446d38b",
   "metadata": {},
   "source": [
    "Vi begynner med å se på de operatorene som vi allerede har sett i brukt. Så skal vi se på noen nye. <br>\n",
    "\n",
    "Men aller først må vi se på hva operatorer er.<br>\n",
    "En operator er et symbol som spesifiserer en (matematisk) operasjon på en eller flere 'verdier'. Disse 'verdiene' kalles formelt for opperander.<br>\n",
    "Symbolet som utgjør operatoren kan bestå av ett eller flere tegn.\n",
    "Operatorene kan operere på en eller flere operander. <br>\n",
    "Dersom den bare bruker en operand kalles den for en unær operator. Bruker den to er det en binær operator. Binære operatorer står (som regel) mellom operandene.  \n",
    "\n",
    "Først skal vi \n",
    "se litt nærmere på  tilordningsoperatoren **=** , som vi allerede har brukt. Den er binær, men det er ikke uvesentlig hva som er på høyre og venstre side. Den har nemlig en bestemt retning i det den gjør. Fra matematikken er vi vant til å sette likhetstegnet etter (til høyre for) regnestykke og så få resultatet til høyre for det. Her er det helt motsatt.  \n",
    "\n",
    "På venstresiden må det stå det som skal få en verdi. På høyresiden skal det stå det som skal gi verdi. Det kan være en enkelt verdi/variabel eller et sammensatt uttrykk. Operatoren sørger først for at det som står på høyresiden blir evaluert, så tar den reslutatet og tilordner det til variabelen som står på venstresiden.  \n",
    "\n",
    "### Aritmetiske operatorer\n",
    "Operatorene for de fire vanlige regneartene har vi sett før. De er binære og fungerer sånn som vi er vant til når de opererer på tall. Derfor kalles de for aritmetiske operatorer.\n"
   ]
  },
  {
   "cell_type": "code",
   "execution_count": 1,
   "id": "035d7b99-c780-4556-acee-3be41e138c75",
   "metadata": {},
   "outputs": [
    {
     "name": "stdout",
     "output_type": "stream",
     "text": [
      "5.5\n"
     ]
    }
   ],
   "source": [
    "x = 3\n",
    "y = x + 5 / 2\n",
    "\n",
    "print(y)"
   ]
  },
  {
   "cell_type": "markdown",
   "id": "957fc18a-f8ee-490e-894a-f01087d35111",
   "metadata": {},
   "source": [
    "Husk på operatorprioritet.\n",
    "For å styre rekkefølgen på beregning kan man bruke parenteser.<br>\n",
    "Man må spesielt ta hensyn når det er sammensatte brøker som skal regnes ut. Se det lille kompendiet som heter Enlinjet matematikk av Tore Gaupseth som det er lenket til i *Python 1 - Introduksjon*."
   ]
  },
  {
   "cell_type": "markdown",
   "id": "750890a3-f209-4e28-9fcb-343727b5c93c",
   "metadata": {
    "tags": []
   },
   "source": [
    "Vi har også sett at **+** operatoren kan brukes på strenger for å koble dem sammen til en ny. Vi får en ny streng som består av strengen foran + etterfulgt av strengen bak +. Det settes ikke inn noe mellomrom slik som det gjøres i printsetninger der strengene listes opp med komma mellom.  \n",
    "\n",
    "Operatoren **-** finnes også som unær operator. Den brukes for å skifte fortegn på tall og variabler med tall. Den må stå foran tallet/variabelen den skal skifte fortegn på. Vi setter den intill for lesbarhetens skyld."
   ]
  },
  {
   "cell_type": "raw",
   "id": "23203b52-8cce-4376-9d3e-f407c7422a81",
   "metadata": {},
   "source": [
    "3 - -2"
   ]
  },
  {
   "cell_type": "code",
   "execution_count": 3,
   "id": "5512bbda-7edd-4e6c-b2f3-d80aa5973e80",
   "metadata": {},
   "outputs": [
    {
     "name": "stdout",
     "output_type": "stream",
     "text": [
      "-16.5\n"
     ]
    }
   ],
   "source": [
    "print(y * -x)"
   ]
  },
  {
   "cell_type": "markdown",
   "id": "95da74c3-4a1b-4640-9975-e54f2e441df8",
   "metadata": {},
   "source": [
    "Mange progarmmeringsspråk bruker tegnet ^ som operator for potens (opphøyd i). Det bruker vi også ofte når vi skriver matametiske uttrykk i tekst. I Python bruker vi __**__.<br>\n",
    "\n",
    "For eksempel $y^3$ kan også skrives y^3 og blir i Python:"
   ]
  },
  {
   "cell_type": "code",
   "execution_count": 4,
   "id": "b4bafcb3-d36e-4b98-88f1-7f38b4eeb540",
   "metadata": {},
   "outputs": [
    {
     "data": {
      "text/plain": [
       "166.375"
      ]
     },
     "execution_count": 4,
     "metadata": {},
     "output_type": "execute_result"
    }
   ],
   "source": [
    "y**3"
   ]
  },
  {
   "cell_type": "markdown",
   "id": "f6a7465c-0692-4cde-bc62-c1364d09e78c",
   "metadata": {},
   "source": [
    "### Heltalldivisjon\n",
    "Vi har tidligeere sett at hvis man deler et heltall på et annet får man et desimaltall som resultat. I de fleste andre programmeringsspråk vil det gi et heltall som svar.  \n",
    "\n",
    "I en del tilfeller er det heltallssvaret vi er ute etter. For dette har Python en egen operator __//__ . Den runder svaret ned til nærmeste hele tall og gir oss resultatet som et heltall. På engelsk heter denne operatoren Floor division.  \n",
    "\n",
    "> Her kan vi ikke bruke mellomrom mellom deletegnene. Siden det er *en* operator må tegnene skrives uten mellomrom. Det gjelder alle operatorer som består av flere tegn."
   ]
  },
  {
   "cell_type": "code",
   "execution_count": 5,
   "id": "618246eb-c177-4a25-8290-2cf4e730f4cd",
   "metadata": {},
   "outputs": [
    {
     "data": {
      "text/plain": [
       "2"
      ]
     },
     "execution_count": 5,
     "metadata": {},
     "output_type": "execute_result"
    }
   ],
   "source": [
    "5 // 2"
   ]
  },
  {
   "cell_type": "markdown",
   "id": "6b0e16e3-b527-4555-a728-076138e7cfa5",
   "metadata": {},
   "source": [
    "Operatoren fungerer også om det er desimaltall som inngår i divisjonen. Men da blir resulatet et desimaltall som er avrundet ned."
   ]
  },
  {
   "cell_type": "code",
   "execution_count": 6,
   "id": "a119f4f9-ca81-4398-9c85-4d3332394371",
   "metadata": {},
   "outputs": [
    {
     "data": {
      "text/plain": [
       "2.0"
      ]
     },
     "execution_count": 6,
     "metadata": {},
     "output_type": "execute_result"
    }
   ],
   "source": [
    "5.7 // 2.2"
   ]
  },
  {
   "cell_type": "markdown",
   "id": "c4daa771-801b-4dfb-856c-d800c191c749",
   "metadata": {},
   "source": [
    "Enda oftere enn heltallssvaret er det resten av en heltallsdivisjon vi er ute etter. Dette kaller vi for en modulus-operasjon og operatoren er __%__ . Denne operasjonen, med samme operator, finner vi i mange programmeringsspråk."
   ]
  },
  {
   "cell_type": "code",
   "execution_count": 7,
   "id": "b1c281a6-79f3-45bd-a3e5-7433e75dc767",
   "metadata": {},
   "outputs": [
    {
     "name": "stdout",
     "output_type": "stream",
     "text": [
      "1\n",
      "3\n"
     ]
    }
   ],
   "source": [
    "print (5 % 2)\n",
    "print (15 % 4)"
   ]
  },
  {
   "cell_type": "markdown",
   "id": "d5590b92-8f5c-42ed-86b0-512bee14e6ae",
   "metadata": {},
   "source": [
    "### Flere tilordningsoperatorer\n",
    "I mange tilfeller har vi behov for å gjøre en aritmetisk operasjon på en variabel for så å legge resltatet tilbake i variablen.  \n",
    "\n",
    "For å legge til en verdi gjøres det prinsipielt slik: x = x + 4.  \n",
    "Det som skjer her er at man tar den verdien som x har, legger til 4 og legger resultatet i x igjen.  \n",
    "\n",
    "Python har egne operatorer for å skrive dette kortere. For addisjon er operatoren __+=__ .  \n",
    "Så i stedet for x = x + 4 kan vi skrive x += 4.  \n",
    "Det tilsvarer __M+__ knappen på en del kalkulatorer."
   ]
  },
  {
   "cell_type": "code",
   "execution_count": 9,
   "id": "2510c9e8-374f-4263-84a7-e7ad69e3f58a",
   "metadata": {},
   "outputs": [
    {
     "name": "stdout",
     "output_type": "stream",
     "text": [
      "x før = 3\n",
      "x etter = 7\n"
     ]
    }
   ],
   "source": [
    "print('x før =', x) # Hvorfor inneholder x akkurat dene verdien?\n",
    "\n",
    "x += 4\n",
    "\n",
    "print('x etter =', x)"
   ]
  },
  {
   "cell_type": "markdown",
   "id": "a247dafb-d12c-4c77-aad1-32e4af1e4a56",
   "metadata": {},
   "source": [
    "Det er tilsvarende operatorer for de andre aritmetiske operasjonene.  \n",
    "\n",
    "__-=__ ,  __*=__ ,  __/=__ ,  __**=__ ,  __//=__ og  __%=__"
   ]
  },
  {
   "cell_type": "markdown",
   "id": "73b9a1f7-db11-4842-8d7f-c8a2854fd4fc",
   "metadata": {},
   "source": [
    "Phyton har en del andre operatorer. Vi skal se på noen av dem, senere, når vi får bruk for dem."
   ]
  }
 ],
 "metadata": {
  "kernelspec": {
   "display_name": "Python 3 (ipykernel)",
   "language": "python",
   "name": "python3"
  },
  "language_info": {
   "codemirror_mode": {
    "name": "ipython",
    "version": 3
   },
   "file_extension": ".py",
   "mimetype": "text/x-python",
   "name": "python",
   "nbconvert_exporter": "python",
   "pygments_lexer": "ipython3",
   "version": "3.9.13"
  }
 },
 "nbformat": 4,
 "nbformat_minor": 5
}
