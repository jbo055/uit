{
 "cells": [
  {
   "cell_type": "markdown",
   "id": "7a6ea901-967b-46f4-8b66-cfc2038b4ea8",
   "metadata": {},
   "source": [
    "## Moduler i Phyton"
   ]
  },
  {
   "cell_type": "markdown",
   "id": "61e1f9e1-1c3f-48d8-9d47-ac126222083e",
   "metadata": {},
   "source": [
    "Python har en del innebygde funksjoner som kan brukes uten videre. Dette er basisfunksjoner som er nødvendige i et programmerinsspråk. Sammen med datatypene, forhåndsdefinerte verdier og reserverte ord er de med på å definere programmeringsspråket.  \n",
    "\n",
    "Vi har flere ganger brukt den innebygde funksjonen print() til å skrive ut resultat(ene) vi har fått. Funksjonen __round()__ har vi også sett brukt."
   ]
  },
  {
   "cell_type": "code",
   "execution_count": 1,
   "id": "eee24ace-cb7e-4886-bcc5-86b2e5b2e9f7",
   "metadata": {},
   "outputs": [
    {
     "name": "stdout",
     "output_type": "stream",
     "text": [
      "2.3333333333333335\n",
      "2\n",
      "2.6666666666666665\n",
      "3\n"
     ]
    }
   ],
   "source": [
    "svar1 = 7 / 3\n",
    "svar2 = round(svar1)\n",
    "svar3 = 8 / 3\n",
    "svar4 = round(svar3)\n",
    "\n",
    "print(svar1)\n",
    "print(svar2)\n",
    "print(svar3)\n",
    "print(svar4)"
   ]
  },
  {
   "cell_type": "markdown",
   "id": "d72ea7e9-985e-4a03-9c2d-e819daac50bc",
   "metadata": {},
   "source": [
    "Vi har også brukt funksjonen sqrt(). Da måtte vi først importere modulen __math__ for å kunne bruke den. math er et kodebibliotek med matamatiske funksjoner og konstanter (verdier) som følger med Python.  \n",
    "\n",
    "Det finnes en rekke slike kodebibliotek som er samlinger av funksjoner med mere. I Python kalles de for moduler. Noe som ikke må forveksles med modulene i Canvas.  \n",
    "\n",
    "Noen av modulene er laget av de samme som lager Pyton og følger med instalasjon. Andre lages av andre grupperinger for generelt eller spesielt bruk. Noen av disse følger likevel med og installeres sammen med Python i en del distribusjoner. ```jupyter.uit.no``` ineholder alle modulene vi trenger og mere til.  \n",
    "\n",
    "Vi skal bruke noen av disse. Først og fremst NumPy og Matplotlib. NumPy er for numerisk matamatikk spesielt med tanke på lister med tall (arrays). Ikke bare inneholder NumPy mer, men det er også mer effektiv enn math.  \n",
    "  \n",
    "Vi vil finne mange av de samme matematiske funksjoner og konstanter i flere tilgjengelige moduler. Forskjellen kan ligge i hva mer de tilbyr og hvordan modulen er implementert. Det vil være litt smak og behag hva man velger.  \n",
    "  \n",
    "For en oversikt over hva man har tilgjengelig i modulen **math** se: https://docs.python.org/3/library/math.html  \n",
    "  \n",
    "  "
   ]
  },
  {
   "cell_type": "markdown",
   "id": "aed9f5ac-ba77-49f6-8179-c9025c2497b4",
   "metadata": {},
   "source": [
    "For å kunne ta i bruk en modul må vi importere den med det reserverte ordet __import__. Det kan vi gjøre på tre måter og her tar vi i bruk flere av de reserverte ordene:"
   ]
  },
  {
   "cell_type": "code",
   "execution_count": 2,
   "id": "cb381341-ebe7-479f-a5a1-0790df679fd2",
   "metadata": {},
   "outputs": [
    {
     "name": "stdout",
     "output_type": "stream",
     "text": [
      "3.141592653589793\n",
      "1.0\n",
      "0.5235987755982988\n"
     ]
    }
   ],
   "source": [
    "# Vi kan importere modulen slik at vi bruker hele navnet hver gang vi skal bruke noe derfra\n",
    "import scipy\n",
    "pi = scipy.pi\n",
    "print(pi)\n",
    "\n",
    "# Vi kan importere modulen og gi den et alias vi bruker hver gang vi skal bruke noe derfra\n",
    "import numpy as np\n",
    "print(np.sin(pi/2)) # trionometriske funksjoner jobber i radianer, ikke i grader.\n",
    "\n",
    "# Vi kan importere modulen slik at vi ikke trenger modulnavn når vi skal bruke noe derfra\n",
    "from math import *\n",
    "print(radians(30)) # radians konverterer grader (vinkel) til radianer"
   ]
  },
  {
   "cell_type": "markdown",
   "id": "5fa74730-920d-474a-b74e-e30f07cf9350",
   "metadata": {},
   "source": [
    "Hvis vi har importert en modul med en av de to første måtene å gjøre det på så må vi skrive navnet/aliaset på mudulen, punktum og så den funksjonen/verdien man skal bruke.  \n",
    "\n",
    "Med __from__ [modulnavn] __import__ kan man importere en bestemt funksjon/del fra en modul. Etter import må man spesifisere hva man skal importere. __*__ betyr at man importerer alt. Det som importeres på denne måten kan så brukes uten å spesifisere modulnavn. For å unngå navneforvirring bør man ikke importere alt fra en modul på denne måten. Men den er veldig bra hvis man bare trenger en enkelt del fra en modul.  \n",
    "\n",
    "> En god grunn til å ikke importere en hel modul er at den tar plass i minnet. Når vi jobber med små programmer på egen maskin eller på ```jupyter.uit.no``` trenger vi ikke bekymre oss om det.  \n",
    "Python er veldig populært å bruke på små mikrokontrollere. Der er det ofte mye mer begrenset med plass. Da er det lut å ikke importere mer enn nødvendig.  \n",
    "  \n",
    "Legg merke til at det er forskjell på å importere en hel modul og alt fra en modul."
   ]
  },
  {
   "cell_type": "markdown",
   "id": "9b3231e0-209f-4fbe-9c2a-436440b421d8",
   "metadata": {
    "tags": []
   },
   "source": [
    "### Undermoduler"
   ]
  },
  {
   "cell_type": "markdown",
   "id": "3334f12c-6d3a-4af8-a278-332dc77e5ecd",
   "metadata": {},
   "source": [
    "En del av de modulene vi kommer til å bruke er inndelt i undermoduler (Sub modules) som igjen kan inneholde submoduler.  \n",
    "\n",
    "> Numpy har blant annet undermodulene ```linalg``` for å jobbe med lineær algebra og ```polynominal``` for polynomer.  \n",
    "\n",
    "Vi kan da importere bare den undermodulen vi trenger. Vi bruker da navnet på modulen, punktum, navnet på undermodulen.  \n",
    "\n",
    "For eksempel: \n",
    "```python \n",
    "import numpy.polynominal as poly \n",
    "``` "
   ]
  },
  {
   "cell_type": "markdown",
   "id": "fc2fd2af-c63b-4d70-998f-8a2f63cb7e8c",
   "metadata": {},
   "source": [
    "Hvis vi ikke gjør det på denne måten må vi ta med punktum og navnet på undermodulen når vi skal bruke en funksjon som ligger i den."
   ]
  },
  {
   "cell_type": "code",
   "execution_count": null,
   "id": "c3c167f7-4a21-428a-b423-797f8ad3eff9",
   "metadata": {},
   "outputs": [],
   "source": []
  }
 ],
 "metadata": {
  "kernelspec": {
   "display_name": "Python 3 (ipykernel)",
   "language": "python",
   "name": "python3"
  },
  "language_info": {
   "codemirror_mode": {
    "name": "ipython",
    "version": 3
   },
   "file_extension": ".py",
   "mimetype": "text/x-python",
   "name": "python",
   "nbconvert_exporter": "python",
   "pygments_lexer": "ipython3",
   "version": "3.9.13"
  }
 },
 "nbformat": 4,
 "nbformat_minor": 5
}
