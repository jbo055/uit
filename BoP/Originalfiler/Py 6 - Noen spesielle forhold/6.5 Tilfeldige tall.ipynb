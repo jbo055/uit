{
 "cells": [
  {
   "cell_type": "markdown",
   "id": "e4097ab7-cb8e-44cc-b118-60a04840d6d7",
   "metadata": {},
   "source": [
    "## Tilfeldige tall"
   ]
  },
  {
   "cell_type": "markdown",
   "id": "b7ae22e7-cdaa-42af-b570-6d6a22a9aaca",
   "metadata": {},
   "source": [
    "Tilfeldige tall har mange anvendelsområder i programmering. Det er en god del bilioteker/moduler til Python som har generatorer for pseudotilfeldige tall. Grunnen til at det kalles pseudo- er at det er omtrent umulig å generere helt tilfeldige tall og de generatorene vi har genererer nesten tilfeldige tall. Det er også grunnen til at det finnes å mange forskjellige biblioteker som har dene muligheten. Forskjellen på dem er i stor grad hvordan og hor godt de gjør jobben.  \n",
    "\n",
    "Vi skal bruke den som ligger i modulen random som følger med standard Pyton. Den er ikke så veldig god med tanke tilfeldighet, men den holder til det vi skal bruke den til i dette kurset. Det kan nevnes at numpy har en egen som man kan velge å bruke."
   ]
  },
  {
   "cell_type": "markdown",
   "id": "f4a50276-4f99-40c8-884b-f1feff093521",
   "metadata": {},
   "source": [
    "Vi må importere modulen random på vanlig måte. Fra denne er det i hovedsak tre funksjoner vi trenger å bruke.  \n",
    "\n",
    "> ```seed()```     «Sår et frø» som randomgeneratoren trenger som startpunkt  \n",
    "> ```random()```   Returnerer et flyttall mellom 0 og 1  \n",
    "> ```randint()```  Returnerer et heltall i området som spesifiseres i parentesen  "
   ]
  },
  {
   "cell_type": "markdown",
   "id": "7faa5907-4fbe-4eb7-a181-0f8a3531a20a",
   "metadata": {},
   "source": [
    "**seed()** trenger vi bare å bruke en gang for hver oppgave/notatbok for våre formål. Man kan derfor sette den rett under import. Man kan spesifisere et tall i parentesen som skal være dette frøet. Hvis vi lar parentesen være tom brukes systemklokka. Og det er like bra.  \n",
    "\n",
    "**random()** kan gi 0 som resutat, men ikke 1. Vi må ofte gjøre regneoperasjoner på resultatet for å få det innenfor det området som ønskes.  \n",
    "\n",
    "**randint()** tar to parameter som spesifiserer starten og slutten på det området vi vil ha verdier i.  Begge verdiene kan være mulge resultat."
   ]
  },
  {
   "cell_type": "code",
   "execution_count": 1,
   "id": "489488e2-5a5d-4298-86ff-a43bdd9050cc",
   "metadata": {},
   "outputs": [
    {
     "name": "stdout",
     "output_type": "stream",
     "text": [
      "0.09647500889161909\n",
      "0.8524452784231644\n",
      "8\n",
      "7\n"
     ]
    }
   ],
   "source": [
    "import random as rnd\n",
    "rnd.seed()\n",
    "\n",
    "a = rnd.random()\n",
    "b = rnd.random()\n",
    "\n",
    "c = rnd.randint(0, 10)\n",
    "d = rnd.randint(0, 10)\n",
    "\n",
    "print(a)\n",
    "print(b)\n",
    "print(c)\n",
    "print(d)"
   ]
  },
  {
   "cell_type": "markdown",
   "id": "57f4f03a-4f75-4609-aac5-5d6e3913c82b",
   "metadata": {},
   "source": [
    "Om du kjører cella på nytt vil du få nye verdier.  \n",
    "\n",
    "De funksjonene vi har sett på her gir gjevn (uniform) distribusjon av resultatene. Modulen random har en rekke andre funksjoner. Blant annet gauss(), som gir gausfordeling av resultatene og funksjonen choice() som trekker fra en liste.  \n",
    "\n",
    "For mer informasjon om modulen random og funksjonene den har se:  \n",
    "https://docs.python.org/3/library/random.html  \n",
    "https://www.w3schools.com/python/module_random.asp"
   ]
  },
  {
   "cell_type": "code",
   "execution_count": null,
   "id": "62785eea-c407-4f84-96f3-1e6f37b73c29",
   "metadata": {},
   "outputs": [],
   "source": []
  }
 ],
 "metadata": {
  "kernelspec": {
   "display_name": "Python 3 (ipykernel)",
   "language": "python",
   "name": "python3"
  },
  "language_info": {
   "codemirror_mode": {
    "name": "ipython",
    "version": 3
   },
   "file_extension": ".py",
   "mimetype": "text/x-python",
   "name": "python",
   "nbconvert_exporter": "python",
   "pygments_lexer": "ipython3",
   "version": "3.9.13"
  }
 },
 "nbformat": 4,
 "nbformat_minor": 5
}
