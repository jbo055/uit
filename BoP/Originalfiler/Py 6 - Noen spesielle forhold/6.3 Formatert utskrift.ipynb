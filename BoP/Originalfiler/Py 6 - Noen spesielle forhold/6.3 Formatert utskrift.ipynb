{
 "cells": [
  {
   "cell_type": "markdown",
   "id": "cac9b551-7da7-4de5-b9d4-540f279fe5d9",
   "metadata": {},
   "source": [
    "## Formatert utskrift"
   ]
  },
  {
   "cell_type": "markdown",
   "id": "40f2d1fe-6fb2-4ac5-b42f-5f3ccfcf6f0a",
   "metadata": {},
   "source": [
    "Vi har to måter å formatere utskriften slik at vi får den som vi vil:  \n",
    "- Det vi kan gjøre i print-setningen\n",
    "- Bruke f-string"
   ]
  },
  {
   "cell_type": "markdown",
   "id": "d362a5b5-d554-406b-99d7-2e63c548150a",
   "metadata": {},
   "source": [
    "### print-setningen"
   ]
  },
  {
   "cell_type": "markdown",
   "id": "68116ba1-c0f1-4582-8bb6-1b669d62d2dd",
   "metadata": {},
   "source": [
    "Vi har tidligere sett dette i bruk.  \n",
    "\n",
    "Med printsetningen kan vi:  \n",
    "- Skrive ut flere strenger adskilt med komma\n",
    "- Nummeriske veridier blir automatisk konvertert til streng slik at de kan brukes\n",
    "- Tall/variabler/uttrykk og funksjonkall som returner tall/tekst kan derfor brukes\n",
    "- Vi kan for eksempel avrunde et svar med round() før det skrives ut  \n",
    "\n",
    "Men vi kan ikke spesifisere tallformat, antall desimaler hvor stor plass elementet skal ta. Det er derfor ikke tilstrekkelig hvis vi for eksempel skal skrive ut tabeller/informasjon i kolonner.\n"
   ]
  },
  {
   "cell_type": "markdown",
   "id": "a6ac9304-16c2-468b-b2a1-2e8746e64676",
   "metadata": {},
   "source": [
    "### f-string"
   ]
  },
  {
   "cell_type": "markdown",
   "id": "62f63f0e-51cd-4489-8ddf-8f7934aa81ab",
   "metadata": {},
   "source": [
    "Med **f-string** har man stor fleksibilitet til å bygge en opp en streng med innhold. I tilleg til det man kan gjøre med print() har **f-string** de nevnte muligheter som print() mangler og en rekke andre."
   ]
  },
  {
   "cell_type": "markdown",
   "id": "2b337012-c4e7-4192-aaa1-568d46ecdfc1",
   "metadata": {},
   "source": [
    "For å se mulighetene man har med **f-string** og hvordan man bruker dem, se notatet «Formattering av tekst med f-string» som er laget av Frode Næsje."
   ]
  },
  {
   "cell_type": "code",
   "execution_count": null,
   "id": "933c8d08-60d5-47b1-826a-00f4b63bee77",
   "metadata": {},
   "outputs": [],
   "source": []
  }
 ],
 "metadata": {
  "kernelspec": {
   "display_name": "Python 3 (ipykernel)",
   "language": "python",
   "name": "python3"
  },
  "language_info": {
   "codemirror_mode": {
    "name": "ipython",
    "version": 3
   },
   "file_extension": ".py",
   "mimetype": "text/x-python",
   "name": "python",
   "nbconvert_exporter": "python",
   "pygments_lexer": "ipython3",
   "version": "3.9.13"
  }
 },
 "nbformat": 4,
 "nbformat_minor": 5
}
