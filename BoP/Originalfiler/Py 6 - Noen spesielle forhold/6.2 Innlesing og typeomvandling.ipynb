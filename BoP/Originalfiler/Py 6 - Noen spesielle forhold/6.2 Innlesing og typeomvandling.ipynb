{
 "cells": [
  {
   "cell_type": "markdown",
   "id": "ac5e4c59-3915-4aba-b14a-73ea089573be",
   "metadata": {},
   "source": [
    "## Innlesing og typeomvandling"
   ]
  },
  {
   "cell_type": "markdown",
   "id": "4bc924dd-1a30-4cca-946d-4e819813a8aa",
   "metadata": {},
   "source": [
    "Hittil har alle verdier vi har brukt blitt skrevet direkte inn i koden. Det kan være greit nok når vi skal prøve ut små biter med kode, men i praktisk bruk er det lite fleksibelt. Det er ofte lurt å la bruker komme med aktuelle verdier når koden kjører.  \n",
    "\n",
    "Senere vil dette bli enda mer aktuelt når vi lærer hvordan vi får koden eller deler av den til å kjøre flere ganger uten å starte på nytt."
   ]
  },
  {
   "cell_type": "markdown",
   "id": "b180a0a0-a5fb-4728-9c3c-c3424f1eaf9e",
   "metadata": {},
   "source": [
    "### Innlesing fra bruker"
   ]
  },
  {
   "cell_type": "markdown",
   "id": "2ec3dc10-2bdf-40aa-a775-646544b563f6",
   "metadata": {},
   "source": [
    "\n",
    "For å få respons fra brukeren bruker vi den innebygde funksjonen ```ìnput()```. For å ta vare på og kunne bruke det som brukeren skriver inn setter vi input() til høyre for **=** og tilordner det som leses inn til en variabel."
   ]
  },
  {
   "cell_type": "code",
   "execution_count": 1,
   "id": "35fc71f3-1f65-4b8d-93a8-eb532cb5a4cd",
   "metadata": {},
   "outputs": [
    {
     "name": "stdin",
     "output_type": "stream",
     "text": [
      " 3\n"
     ]
    },
    {
     "data": {
      "text/plain": [
       "'3'"
      ]
     },
     "execution_count": 1,
     "metadata": {},
     "output_type": "execute_result"
    }
   ],
   "source": [
    "a = input()\n",
    "a"
   ]
  },
  {
   "cell_type": "markdown",
   "id": "420a77e4-854f-47c2-9d1f-895a13da7874",
   "metadata": {},
   "source": [
    "Når vi kjører cella stopper kjøringen opp med blinkende skrivemarkør i et felt under cella. Når vi så skriver inn noe og trykker return fortsetter kjøringen av koden. Vi får se hva vi skrev inn og resultatet.  \n",
    "\n",
    "Prøv å kjør cella på nytt flere ganger og gi forkjellig respons: heltall, desimaltall, tekst og blanding av tekst og tall.  \n",
    "\n",
    "Det vi kan legge merke til er at resultatet alltid vises i enkle anførselstegn. "
   ]
  },
  {
   "cell_type": "markdown",
   "id": "6078a5c0-efca-41fc-b77d-0c70a34dfa32",
   "metadata": {},
   "source": [
    "En annen ting er at markøren står å blinker og venter på imput uten at brukeren er informert om hva som forventes. Det kan vi rette på ved å sette en ledesetning i parentesen til input(). Det kalles en Promt på engeslsk. Dette er en streng som skal fortelle hva det forentes at brukeren skal gjøre.\n",
    "\n",
    "Vi prøver ett nytt eksempel, leser inn to verdier og legger dem sammen:"
   ]
  },
  {
   "cell_type": "code",
   "execution_count": 2,
   "id": "6816e20c-111b-4387-8226-17aae0cf467a",
   "metadata": {},
   "outputs": [
    {
     "name": "stdin",
     "output_type": "stream",
     "text": [
      "Skriv inn ett tall:  3\n",
      "Skriv inn ett tall til:  4\n"
     ]
    },
    {
     "data": {
      "text/plain": [
       "'34'"
      ]
     },
     "execution_count": 2,
     "metadata": {},
     "output_type": "execute_result"
    }
   ],
   "source": [
    "b = input('Skriv inn ett tall: ')\n",
    "c = input('Skriv inn ett tall til: ')\n",
    "d = b + c\n",
    "d"
   ]
  },
  {
   "cell_type": "markdown",
   "id": "8962a0b6-c48a-42df-b3a7-e43d9ebc2527",
   "metadata": {},
   "source": [
    "Vi ser at selv om vi skriver inn enkle tall blir det strenger av det og summeringen gir da strengsammenkobling. Og slik er det, input leser bare inn strenger, alltid.  \n",
    "\n",
    "Hva kan vi da gjøre når vi trenger å lese inn tall?"
   ]
  },
  {
   "cell_type": "markdown",
   "id": "d368b9c9-346e-42cc-afe5-a0c06bd54554",
   "metadata": {},
   "source": [
    "### Typeomvandling (Typecasting)"
   ]
  },
  {
   "cell_type": "markdown",
   "id": "798b7f9f-a7f0-4cf9-b515-77457cb3350f",
   "metadata": {},
   "source": [
    "Heldigvis har Python innebygde funksjoner som kan hjelpe oss. Det er egentlig funksjoner som lager et objekt av en bestemt datatype.  \n",
    "  \n",
    "Python har en rekke slike, men vi skal i først rekke se på ```ìnt(), float() og str()```.  \n",
    "\n",
    "Det vi setter i parentesen forsøkes tolket som en verdi av den datatypen som funksjonen spesifiserer.  \n",
    "For å se hvordan dette fungerer forsøker vi følgende:"
   ]
  },
  {
   "cell_type": "code",
   "execution_count": 3,
   "id": "dfb7da8e-7b85-4370-bddd-99cc5ec6ee69",
   "metadata": {},
   "outputs": [
    {
     "name": "stdout",
     "output_type": "stream",
     "text": [
      "Variable   Type     Data/Info\n",
      "-----------------------------\n",
      "a          int      34\n",
      "b          int      3\n",
      "c          float    3.4\n",
      "d          float    3.0\n",
      "e          str      34\n"
     ]
    }
   ],
   "source": [
    "a = int('34')\n",
    "b = int(3.4)\n",
    "c = float('3.4')\n",
    "d = float(3)\n",
    "e = str(34)\n",
    "%whos"
   ]
  },
  {
   "cell_type": "markdown",
   "id": "d95e5fa0-512f-4bdd-a633-693280740f44",
   "metadata": {
    "tags": []
   },
   "source": [
    "Om det er mellomrom før og/eller etter et tall går det også bra."
   ]
  },
  {
   "cell_type": "code",
   "execution_count": 4,
   "id": "86438daa-ac97-4e1f-a623-16c76fde5c00",
   "metadata": {},
   "outputs": [
    {
     "data": {
      "text/plain": [
       "2"
      ]
     },
     "execution_count": 4,
     "metadata": {},
     "output_type": "execute_result"
    }
   ],
   "source": [
    "int(' 2 ')"
   ]
  },
  {
   "cell_type": "markdown",
   "id": "c8adb2cf-5ec9-4c68-a9fe-de0762e6b39d",
   "metadata": {
    "tags": []
   },
   "source": [
    "Men om vi sender en streng som inneholder andre tegn til int() eller float() så går det galt."
   ]
  },
  {
   "cell_type": "code",
   "execution_count": 5,
   "id": "5f8ddb36-9123-453e-afa1-5996460189f4",
   "metadata": {},
   "outputs": [
    {
     "ename": "ValueError",
     "evalue": "invalid literal for int() with base 10: '34kr'",
     "output_type": "error",
     "traceback": [
      "\u001b[0;31m---------------------------------------------------------------------------\u001b[0m",
      "\u001b[0;31mValueError\u001b[0m                                Traceback (most recent call last)",
      "Input \u001b[0;32mIn [5]\u001b[0m, in \u001b[0;36m<cell line: 1>\u001b[0;34m()\u001b[0m\n\u001b[0;32m----> 1\u001b[0m \u001b[38;5;28;43mint\u001b[39;49m\u001b[43m(\u001b[49m\u001b[38;5;124;43m'\u001b[39;49m\u001b[38;5;124;43m34kr\u001b[39;49m\u001b[38;5;124;43m'\u001b[39;49m\u001b[43m)\u001b[49m\n",
      "\u001b[0;31mValueError\u001b[0m: invalid literal for int() with base 10: '34kr'"
     ]
    }
   ],
   "source": [
    "int('34kr')"
   ]
  },
  {
   "cell_type": "markdown",
   "id": "e9e20051-e878-45be-ab2a-74b60ec4caa5",
   "metadata": {},
   "source": [
    "Det gjør det også om vi sender flere tall adskilt med mellomrom eller annet"
   ]
  },
  {
   "cell_type": "code",
   "execution_count": 6,
   "id": "6811aae5-9b72-4381-95ab-52903826158a",
   "metadata": {},
   "outputs": [
    {
     "ename": "ValueError",
     "evalue": "invalid literal for int() with base 10: '2 3'",
     "output_type": "error",
     "traceback": [
      "\u001b[0;31m---------------------------------------------------------------------------\u001b[0m",
      "\u001b[0;31mValueError\u001b[0m                                Traceback (most recent call last)",
      "Input \u001b[0;32mIn [6]\u001b[0m, in \u001b[0;36m<cell line: 1>\u001b[0;34m()\u001b[0m\n\u001b[0;32m----> 1\u001b[0m \u001b[38;5;28;43mint\u001b[39;49m\u001b[43m(\u001b[49m\u001b[38;5;124;43m'\u001b[39;49m\u001b[38;5;124;43m2 3\u001b[39;49m\u001b[38;5;124;43m'\u001b[39;49m\u001b[43m)\u001b[49m\n",
      "\u001b[0;31mValueError\u001b[0m: invalid literal for int() with base 10: '2 3'"
     ]
    }
   ],
   "source": [
    "int('2 3')"
   ]
  },
  {
   "cell_type": "markdown",
   "id": "21b55d75-aad0-4d85-b8bc-99ea4d531525",
   "metadata": {},
   "source": [
    "#### Innlesing av tall"
   ]
  },
  {
   "cell_type": "markdown",
   "id": "0f9e2cd0-90d2-4918-8324-15e867816c56",
   "metadata": {},
   "source": [
    "For å bruke dette ved innlesing setter vi rett og slett input() i parentesen til typeomvandlingsfunksjonen."
   ]
  },
  {
   "cell_type": "code",
   "execution_count": 7,
   "id": "3a8021c2-ff9c-4806-bd7c-e4f6e1cd285d",
   "metadata": {},
   "outputs": [
    {
     "name": "stdin",
     "output_type": "stream",
     "text": [
      "Skriv inn ett heltall:  56\n",
      "Skriv inn ett flyttall:  7.3\n"
     ]
    },
    {
     "data": {
      "text/plain": [
       "63.3"
      ]
     },
     "execution_count": 7,
     "metadata": {},
     "output_type": "execute_result"
    }
   ],
   "source": [
    "t1 = int(input('Skriv inn ett heltall: '))\n",
    "t2 = float(input('Skriv inn ett flyttall: '))\n",
    "s = t1 + t2\n",
    "s"
   ]
  },
  {
   "cell_type": "markdown",
   "id": "95615ec9-3da3-41fc-9759-c4667da5a208",
   "metadata": {},
   "source": [
    "For at det skal fungere må vi stole på at brukeren ikke skriver inn noe annet enn det som ønskes."
   ]
  },
  {
   "cell_type": "code",
   "execution_count": null,
   "id": "9b177111-283f-4514-a8f1-a44d09409618",
   "metadata": {},
   "outputs": [],
   "source": []
  }
 ],
 "metadata": {
  "kernelspec": {
   "display_name": "Python 3 (ipykernel)",
   "language": "python",
   "name": "python3"
  },
  "language_info": {
   "codemirror_mode": {
    "name": "ipython",
    "version": 3
   },
   "file_extension": ".py",
   "mimetype": "text/x-python",
   "name": "python",
   "nbconvert_exporter": "python",
   "pygments_lexer": "ipython3",
   "version": "3.9.13"
  }
 },
 "nbformat": 4,
 "nbformat_minor": 5
}
