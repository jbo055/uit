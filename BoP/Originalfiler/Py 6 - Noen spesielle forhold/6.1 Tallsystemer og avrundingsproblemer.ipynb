{
 "cells": [
  {
   "cell_type": "markdown",
   "id": "05cce503-9ada-44a4-a6cd-45e562ff6d74",
   "metadata": {},
   "source": [
    "## Tallsystemer og avrundingsproblemer"
   ]
  },
  {
   "cell_type": "markdown",
   "id": "d747b0b1-d2e4-4581-a3e0-02bfee4043f4",
   "metadata": {},
   "source": [
    "Vi forholder oss stort sett til 10-tallsystemet (desimalsystemet). Det er veldig greit for oss. Men vi vet at det for eksempel er noen brøker som ikke kan uttrykkes presist med et endelig antall desimaler."
   ]
  },
  {
   "cell_type": "code",
   "execution_count": 8,
   "id": "383da521-3bb1-41bc-96ba-b45531d3cd47",
   "metadata": {},
   "outputs": [
    {
     "data": {
      "text/plain": [
       "0.3333333333333333"
      ]
     },
     "execution_count": 8,
     "metadata": {},
     "output_type": "execute_result"
    }
   ],
   "source": [
    "1/3"
   ]
  },
  {
   "cell_type": "markdown",
   "id": "f81070c2-5bca-42fa-8ed5-0fd6ffa67a43",
   "metadata": {},
   "source": [
    "Tallet vises her med et endelig antall desimaler, men vi vet at det egentlig har uendelig antall desimaler.  \n",
    "Python/Jupyter viser som standard 17 gjeldene siffer.  \n",
    "\n",
    "Datamaskiner opererer i 2-tallsystemet (binærsystemet). Tallene vi skriver inn i desiamsystemet blir konvertert til binærall. De lagres binært og beregninger gjøres binært. Når vi skal se resultatet konverteres det til desimalsystemet igjen.  \n",
    "\n",
    "På samme måte som i desimalsystemet er det en del tall som ikke kan representeres eksakt i binærsystemet. 0,1 i desimalsystemet får samme problem når det skal representeres binært som 1/3 har i desimalsystmet.  \n",
    "Python vet hva det binære representasjonen for slike tall er og kan gi oss tilbake det korrekte tallet desimalt i mange tilfeller."
   ]
  },
  {
   "cell_type": "code",
   "execution_count": 11,
   "id": "16b3d6f2-dd43-4dba-a218-c2c41352b020",
   "metadata": {},
   "outputs": [
    {
     "data": {
      "text/plain": [
       "0.1"
      ]
     },
     "execution_count": 11,
     "metadata": {},
     "output_type": "execute_result"
    }
   ],
   "source": [
    "0.1"
   ]
  },
  {
   "cell_type": "markdown",
   "id": "a549817e-db2d-4d8b-97cd-83bfff8ed63e",
   "metadata": {},
   "source": [
    "Men når vi gjør beregninger vil den binære represetnasjonen ofte ikke stemme."
   ]
  },
  {
   "cell_type": "code",
   "execution_count": 14,
   "id": "f114e16c-2b09-467d-a7eb-697b3ab7f977",
   "metadata": {},
   "outputs": [
    {
     "name": "stdout",
     "output_type": "stream",
     "text": [
      "0.09999999999999998\n"
     ]
    }
   ],
   "source": [
    "desimal = 0.3 - 0.2\n",
    "print(desimal)"
   ]
  },
  {
   "cell_type": "markdown",
   "id": "843d2325-3d7c-4e7b-85f3-f3583ccd4e3f",
   "metadata": {},
   "source": [
    "I slike tilfeller kan det løse seg med avrunding."
   ]
  },
  {
   "cell_type": "code",
   "execution_count": 15,
   "id": "e9f34a88-e7e4-4a17-9f15-e803fc061127",
   "metadata": {},
   "outputs": [
    {
     "data": {
      "text/plain": [
       "0.1"
      ]
     },
     "execution_count": 15,
     "metadata": {},
     "output_type": "execute_result"
    }
   ],
   "source": [
    "round(desimal,2)"
   ]
  },
  {
   "cell_type": "markdown",
   "id": "1bf72ea2-7caa-42f7-82c7-dabe87ecb1d3",
   "metadata": {},
   "source": [
    "Hvis tallet har 5 som siste desimal kan avrunding noen ganger virke litt merkelig."
   ]
  },
  {
   "cell_type": "code",
   "execution_count": 17,
   "id": "e7e8aef4-0013-4743-baa1-d6f9ec7fff27",
   "metadata": {},
   "outputs": [
    {
     "name": "stdout",
     "output_type": "stream",
     "text": [
      "2\n",
      "4\n"
     ]
    }
   ],
   "source": [
    "tall1 = round(2.5)\n",
    "tall2 = round(3.5)\n",
    "\n",
    "print(tall1)\n",
    "print(tall2)"
   ]
  },
  {
   "cell_type": "markdown",
   "id": "f3f64e5f-9f6d-4566-b54d-6985f85bd5b9",
   "metadata": {},
   "source": [
    "Vi ser at 2,5 rundes ned til 2 mens 3,5 rundes opp til 4. Det skyldes at Python ser på sifferet foran og runder av slik at sifferet foran 5 blir et partall. Men i noen tilfeller kommer representasjonsproblemet inn og gjør at resultatet ikke blir som forventet."
   ]
  },
  {
   "cell_type": "code",
   "execution_count": 18,
   "id": "81e22912-2aec-4bdf-851a-6470201ba51d",
   "metadata": {},
   "outputs": [
    {
     "data": {
      "text/plain": [
       "2.67"
      ]
     },
     "execution_count": 18,
     "metadata": {},
     "output_type": "execute_result"
    }
   ],
   "source": [
    "round(2.675, 2) # forventet verdi: 2.68"
   ]
  },
  {
   "cell_type": "code",
   "execution_count": 24,
   "id": "c7562150-be9e-4ede-9720-7f5fb8ad0d24",
   "metadata": {},
   "outputs": [
    {
     "data": {
      "text/plain": [
       "'verdien av n er 7.125'"
      ]
     },
     "execution_count": 24,
     "metadata": {},
     "output_type": "execute_result"
    }
   ],
   "source": [
    "n = 7.125\n",
    "f\"verdien av n er {n}\""
   ]
  },
  {
   "cell_type": "code",
   "execution_count": null,
   "id": "db1e2497-265f-4b8f-88a8-b5b86d268f64",
   "metadata": {},
   "outputs": [],
   "source": []
  }
 ],
 "metadata": {
  "kernelspec": {
   "display_name": "Python 3 (ipykernel)",
   "language": "python",
   "name": "python3"
  },
  "language_info": {
   "codemirror_mode": {
    "name": "ipython",
    "version": 3
   },
   "file_extension": ".py",
   "mimetype": "text/x-python",
   "name": "python",
   "nbconvert_exporter": "python",
   "pygments_lexer": "ipython3",
   "version": "3.9.13"
  }
 },
 "nbformat": 4,
 "nbformat_minor": 5
}
