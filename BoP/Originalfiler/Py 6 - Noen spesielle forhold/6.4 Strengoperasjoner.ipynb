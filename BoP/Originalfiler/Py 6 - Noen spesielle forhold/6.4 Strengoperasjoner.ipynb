{
 "cells": [
  {
   "cell_type": "markdown",
   "id": "a3e42b3d-903e-43a2-ae0e-63cfe7dc221e",
   "metadata": {},
   "source": [
    "## Strengoperasjoner"
   ]
  },
  {
   "cell_type": "markdown",
   "id": "336be815-8f03-4a03-ae18-d82cd08eb38f",
   "metadata": {},
   "source": [
    "Python har en rekke funksjoner som opererer på strenger og som enten returner en endret streng eller gir oss svar på et konkret spørsmål om strengen.  \n",
    "\n",
    "Vi skal se på noen av dem og for oversiktens skyld kan vi gruppere dem etter hva de returnerer."
   ]
  },
  {
   "cell_type": "markdown",
   "id": "54e386b1-a071-41e6-a390-ceed9e347fff",
   "metadata": {},
   "source": [
    "#### Funksjoner som returnerer en endret streng"
   ]
  },
  {
   "cell_type": "markdown",
   "id": "42954425-4103-4506-8245-9ca6fd1548da",
   "metadata": {},
   "source": [
    "Dette er funksjoner som returnerer en endret utgave av den strengen den brukes på.  \n",
    "Vi bruker punktnotasjon på følgende måte: Strengnavn/strengvariabel punktum funksjonsnavn(). Forutsetter vi har en variabel **txt** som inneholder en streng.  \n",
    "Disse funksjonene har ingen parametere (parentesen skal være to)\n",
    "\n",
    "> ```lower()``` txt.lower()  Returnerer en utgave av txt med bare små boskstaver  \n",
    "> ```strip()``` txt.strip()  Returnerer en utgave av txt der innledende og avsluttende mellomrom er fjernet  \n",
    "> ```title()``` txt.title()  Returnerer en utgave av txt med stor forbokstav i alle ord  \n",
    "> ```upper()``` txt.upper()  Returnerer en utgave av txt med bare store boskstaver  "
   ]
  },
  {
   "cell_type": "code",
   "execution_count": 1,
   "id": "f4d78bea-e891-4cae-ba8b-829cb11998cf",
   "metadata": {},
   "outputs": [
    {
     "name": "stdout",
     "output_type": "stream",
     "text": [
      "Dette er en teststreng\n",
      "Dette Er En Teststreng\n",
      "dette er en teststreng\n",
      "DETTE ER EN TESTSTRENG\n"
     ]
    }
   ],
   "source": [
    "streng = \"  Dette er en teststreng  \"\n",
    "streng2 = streng.strip()\n",
    "streng3 = streng2.title()\n",
    "streng4 = streng3.lower()\n",
    "streng5 = streng4.upper()\n",
    "\n",
    "print(streng2)\n",
    "print(streng3)\n",
    "print(streng4)\n",
    "print(streng5)"
   ]
  },
  {
   "cell_type": "markdown",
   "id": "0333fa19-7647-4244-8113-c88819ff5383",
   "metadata": {},
   "source": [
    "#### Funksjoner som returnerer en boolsk verdi (True/False)"
   ]
  },
  {
   "cell_type": "markdown",
   "id": "b0cd852c-96a7-4fa7-abce-6496aa17de71",
   "metadata": {},
   "source": [
    "Dette er funksjoner som svarer på et spørsmål om en konkret eganskap ved strengen. De brukes på samme måte som de funksjonene som returnerer strenger.  \n",
    "\n",
    "> ```isalnum()``` txt.isalnum()  Returnerer True dersom strengen bare inneholder bokstaver og tall. Takler æøå, men ikke mellomrom  \n",
    "> ```isalpha()``` txt.isalpha()  Returnerer True dersom strengen bare inneholder bokstaver. Takler æøå, men ikke mellomrom  \n",
    "> ```isnumeric()``` txt.islower()  Returnerer True dersom strengen bare inneholder tall. Takler ikke minus og desimalteggn  \n",
    "> ```islower()``` txt.islower()  Returnerer True dersom strengen bare inneholder små bokstaver  \n",
    "> ```isupper()``` txt.isupper()  Returnerer True dersom strengen bare inneholder store bokstaver "
   ]
  },
  {
   "cell_type": "code",
   "execution_count": 2,
   "id": "5a12631f-72ec-4228-b892-641aa71fe82a",
   "metadata": {},
   "outputs": [
    {
     "name": "stdout",
     "output_type": "stream",
     "text": [
      "True\n",
      "False\n",
      "True\n",
      "True\n",
      "False\n",
      "True\n",
      "True\n"
     ]
    }
   ],
   "source": [
    "print(\"tekstæøå123\".isalnum())\n",
    "print(\"tekst æøå 123\".isalnum())\n",
    "print(\"tekstæøå\".isalnum())\n",
    "print(\"123\".isnumeric())\n",
    "print(\"-12.3\".isnumeric())\n",
    "print(\"tekst æøå\".islower())\n",
    "print(\"TEKST ÆØÅ\".isupper())"
   ]
  },
  {
   "cell_type": "markdown",
   "id": "307fd3a0-b98b-459a-868e-127a439298a5",
   "metadata": {},
   "source": [
    "Python har flere slike strengfunksjoner.  \n",
    "\n",
    "For å mer om de funksjonene vi har sett på og de andre som finnes se:  \n",
    "https://www.w3schools.com/python/python_strings_methods.asp"
   ]
  },
  {
   "cell_type": "code",
   "execution_count": null,
   "id": "93825388-a7bf-4256-b08f-dedbcddb2e67",
   "metadata": {},
   "outputs": [],
   "source": []
  }
 ],
 "metadata": {
  "kernelspec": {
   "display_name": "Python 3 (ipykernel)",
   "language": "python",
   "name": "python3"
  },
  "language_info": {
   "codemirror_mode": {
    "name": "ipython",
    "version": 3
   },
   "file_extension": ".py",
   "mimetype": "text/x-python",
   "name": "python",
   "nbconvert_exporter": "python",
   "pygments_lexer": "ipython3",
   "version": "3.9.13"
  }
 },
 "nbformat": 4,
 "nbformat_minor": 5
}
