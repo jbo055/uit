{
 "cells": [
  {
   "cell_type": "markdown",
   "id": "e9dc9c6c-3fd5-4fa3-aa8c-a904096ab446",
   "metadata": {},
   "source": [
    "## Løsning av andregradsligning med abc-formelen"
   ]
  },
  {
   "cell_type": "markdown",
   "id": "cd973589-0514-4601-be10-d6ea3db88b42",
   "metadata": {},
   "source": [
    "Bruker abc-formelen for ligningen $ ax^2+bx+c $  \n",
    "som har løsningen \n",
    "$ \\large\\frac{-b\\pm \\sqrt{det}}{2a} $ der determinanten(*det*) er $ b^{2} -4ac $\n",
    "- Legger løsningen i en funksjon med navn roetter2g\n",
    "    - trenger koeffisientene a, b og c som parameter\n",
    "    - returnerer en tuple med røttene\n"
   ]
  },
  {
   "cell_type": "markdown",
   "id": "0ded7ef6-4c25-4846-8845-1f4819bd7002",
   "metadata": {},
   "source": [
    "Problemet er at det ikke er alle andregradsligninger som har reelle røtter. I funksjonen under er det sjekket for de to tilfellene der dette oppstår. Vi utnytter det at en variabel i Python kan inneholde verdier av ulike datatyper.  \n",
    "\n",
    "Dersom ligningen ikke har reelle røtter får variabelen for første rot verdien math.nan (Not a Number) og den andre en forklarende tekst. Det blir derfor opp til koden der funksjonen kalles fra å sjekke om det som returneres er tall som kan brukes videre eller om ligningen ikke hadde relle røtter."
   ]
  },
  {
   "cell_type": "code",
   "execution_count": 1,
   "id": "05388578-2785-4a3d-a408-40a440702e51",
   "metadata": {},
   "outputs": [],
   "source": [
    "def roetter2g(a, b, c):\n",
    "    '''\n",
    "    roetter løser andregradsligninger med abc-formelen roeter(a, b, c)\n",
    "    returnerer de to reelle røttene til polynomet f(x) = a*x^2 + b*x + c. \n",
    "    Hvis a = 0 eller det ikke finnes reelle røtter, vil rot1 bli satt lik 'NaN' \n",
    "    og rot to få en forklarende tekst\n",
    "    Røttene returneres i en tuple. den inneholder nummeriske verdier (tall)\n",
    "    bare når det finnes relle røtter.\n",
    "    '''\n",
    "    import math as m\n",
    "    \n",
    "    d = b**2 - 4*a*c # Beregner determinanten d\n",
    "    \n",
    "    if a==0: # Hvis f(x) ikke er et 2.gradsuttrykk\n",
    "        rot1 = m.nan # nan står for Not a Number\n",
    "        rot2 = 'Ikke 2.grads' # Setter rot1 og rot2 til NaN \n",
    "    elif d < 0: # Negativt under rottegnet, ingen reelle røtter\n",
    "        rot1 = m.nan # nan står for Not a Number\n",
    "        rot2 = 'Ikke relle røtter'\n",
    "    else:   # 2.gradsuttrkk med reelle røtter\n",
    "        rot1 = (-b - m.sqrt(d)) / (2*a)  # Finner rot nummer en\n",
    "        rot2 = (-b + m.sqrt(d)) / (2*a)  # og 2np.\n",
    "        \n",
    "    return (rot1, rot2)"
   ]
  },
  {
   "cell_type": "markdown",
   "id": "8a2100c1-dad5-4e61-bbe5-2fbdce381806",
   "metadata": {},
   "source": [
    "Vi prøver noen ligninger. Prøv de gjerne også i Geogebra eller lignende for å se grafen til likningene.  \n",
    "\n",
    "$ 1/2x^2-3x+4 $"
   ]
  },
  {
   "cell_type": "code",
   "execution_count": 2,
   "id": "94838ac4-542a-438d-81fd-9f8cf8749cf3",
   "metadata": {},
   "outputs": [
    {
     "data": {
      "text/plain": [
       "(2.0, 4.0)"
      ]
     },
     "execution_count": 2,
     "metadata": {},
     "output_type": "execute_result"
    }
   ],
   "source": [
    "roetter2g(1/2, -3, 4)"
   ]
  },
  {
   "cell_type": "markdown",
   "id": "87badda5-bbde-4349-aeb5-32a116c4315f",
   "metadata": {},
   "source": [
    "$ x^2+2x-3 $"
   ]
  },
  {
   "cell_type": "code",
   "execution_count": 3,
   "id": "64d16018-70bb-4560-b5de-d86fda010db7",
   "metadata": {},
   "outputs": [
    {
     "data": {
      "text/plain": [
       "(-3.0, 1.0)"
      ]
     },
     "execution_count": 3,
     "metadata": {},
     "output_type": "execute_result"
    }
   ],
   "source": [
    "roetter2g(1, 2, -3)"
   ]
  },
  {
   "cell_type": "markdown",
   "id": "f56c1fe9-dd2e-4147-891b-afb1f2572d72",
   "metadata": {},
   "source": [
    "$ 2x^2+3x+4 $"
   ]
  },
  {
   "cell_type": "code",
   "execution_count": 4,
   "id": "4f06eee6-f42b-4ee0-bf02-9d0c272bee9f",
   "metadata": {},
   "outputs": [
    {
     "data": {
      "text/plain": [
       "(nan, 'Ikke relle røtter')"
      ]
     },
     "execution_count": 4,
     "metadata": {},
     "output_type": "execute_result"
    }
   ],
   "source": [
    "roetter2g(2, 3, 4)"
   ]
  },
  {
   "cell_type": "markdown",
   "id": "88f9fd89-96c8-4242-afa5-f0096caac349",
   "metadata": {},
   "source": [
    "Som vi ser har ikke den siste ligningen vi prøvde reelle røtter. Det kan vi også se av grafen, men det kan ikke et dataprogram.  \n",
    "\n",
    "Vi kan legge inn en sjekk på om første verdi som returneres er nan. Til det bruker vi funsjonen math.isnan()."
   ]
  },
  {
   "cell_type": "code",
   "execution_count": 5,
   "id": "90537521-c989-4507-80b8-2aed62010369",
   "metadata": {},
   "outputs": [
    {
     "name": "stdout",
     "output_type": "stream",
     "text": [
      "finner røttene til en 2.gradsligning\n"
     ]
    },
    {
     "name": "stdin",
     "output_type": "stream",
     "text": [
      "koeffisienten foran 2.gradsleddet: 1\n",
      "koeffisienten foran 1.gradsleddet: 2\n",
      "konstanten: -3\n"
     ]
    },
    {
     "name": "stdout",
     "output_type": "stream",
     "text": [
      "Røttene er: -3.0 og 1.0\n"
     ]
    },
    {
     "name": "stdin",
     "output_type": "stream",
     "text": [
      "Vil du kjøre en gang til (j/n):  j\n"
     ]
    },
    {
     "name": "stdout",
     "output_type": "stream",
     "text": [
      "finner røttene til en 2.gradsligning\n"
     ]
    },
    {
     "name": "stdin",
     "output_type": "stream",
     "text": [
      "koeffisienten foran 2.gradsleddet: 2\n",
      "koeffisienten foran 1.gradsleddet: 3\n",
      "konstanten: -2\n"
     ]
    },
    {
     "name": "stdout",
     "output_type": "stream",
     "text": [
      "Røttene er: -2.0 og 0.5\n"
     ]
    },
    {
     "name": "stdin",
     "output_type": "stream",
     "text": [
      "Vil du kjøre en gang til (j/n):  j\n"
     ]
    },
    {
     "name": "stdout",
     "output_type": "stream",
     "text": [
      "finner røttene til en 2.gradsligning\n"
     ]
    },
    {
     "name": "stdin",
     "output_type": "stream",
     "text": [
      "koeffisienten foran 2.gradsleddet: 2\n",
      "koeffisienten foran 1.gradsleddet: 3\n",
      "konstanten: 2\n"
     ]
    },
    {
     "name": "stdout",
     "output_type": "stream",
     "text": [
      "Ligningen har ikke reelle røtter\n"
     ]
    },
    {
     "name": "stdin",
     "output_type": "stream",
     "text": [
      "Vil du kjøre en gang til (j/n):  n\n"
     ]
    }
   ],
   "source": [
    "import math as m\n",
    "enGangTil = 'J' # initialisering \n",
    "while enGangTil == 'J':\n",
    "    print('finner røttene til en 2.gradsligning')\n",
    "    a = float(input('koeffisienten foran 2.gradsleddet:'))\n",
    "    b = float(input('koeffisienten foran 1.gradsleddet:'))\n",
    "    c = float(input('konstanten:'))\n",
    "    roettene = roetter2g(a, b, c)    \n",
    "    if not m.isnan(roettene[0]):\n",
    "        rot_1 = roettene[0]\n",
    "        rot_2 = roettene[1]\n",
    "    \n",
    "        print('Røttene er:',rot_1, 'og',rot_2)\n",
    "    else:\n",
    "        print('Ligningen har ikke reelle røtter')\n",
    "\n",
    "    igjen = input('Vil du kjøre en gang til (j/n): ') \n",
    "    enGangTil = igjen.upper()"
   ]
  },
  {
   "cell_type": "markdown",
   "id": "5edd850a-a506-4135-93aa-6d07d5c196fd",
   "metadata": {},
   "source": [
    "Siden det krever litt kode i hovedprogrammet for å finne ut om resultatet fra funksjonen er reelle røtter er det egentlig ingenting å spare på å sjekke for det i funksjonen. I tillegg så bryter funksjonen litt av prinsippet om å bare gjøre en ting.  \n",
    "\n",
    "Det hadde egentlig vært bedre å sjekke om ligningen hadde reelle røtter før man kalte funksjoen. Utregningen av determinanten kan legges i en egen funksjon og kalles fra hovedprogrammet. Da kaller vi bare roetter2g() dersom determinaten > 0 og a != 0."
   ]
  },
  {
   "cell_type": "code",
   "execution_count": null,
   "id": "11653dc1-8556-42db-8d18-dafe7f6c2765",
   "metadata": {},
   "outputs": [],
   "source": []
  }
 ],
 "metadata": {
  "kernelspec": {
   "display_name": "Python 3 (ipykernel)",
   "language": "python",
   "name": "python3"
  },
  "language_info": {
   "codemirror_mode": {
    "name": "ipython",
    "version": 3
   },
   "file_extension": ".py",
   "mimetype": "text/x-python",
   "name": "python",
   "nbconvert_exporter": "python",
   "pygments_lexer": "ipython3",
   "version": "3.9.13"
  }
 },
 "nbformat": 4,
 "nbformat_minor": 5
}
