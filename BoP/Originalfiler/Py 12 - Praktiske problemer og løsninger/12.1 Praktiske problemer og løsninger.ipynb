{
 "cells": [
  {
   "cell_type": "markdown",
   "id": "e8094de8-3235-46a9-bec6-589e06cbf99c",
   "metadata": {},
   "source": [
    "## Praktiske problemer og løsninger"
   ]
  },
  {
   "cell_type": "markdown",
   "id": "ab9110c1-403b-4eb5-9063-63fb3961c158",
   "metadata": {},
   "source": [
    "#### Praktisk bruk av noe av det vi har lært"
   ]
  },
  {
   "cell_type": "markdown",
   "id": "8c897641-3c8f-4733-b8aa-99d88f579e99",
   "metadata": {},
   "source": [
    "Vi skal nå se på en del kjente problemstillinger fra matte. Hver får en egen notatbok."
   ]
  },
  {
   "cell_type": "markdown",
   "id": "959b0655-032b-40da-bc2f-3f2bfcfca6cf",
   "metadata": {},
   "source": [
    "- Løse andregradsligninger med abc-formelen\n",
    "- Unngå deling på null\n",
    "- Diskontinuerlige funksjoner og funksjoner med delt forskrift\n",
    "- Areal under kurve. Tillnærmingsmetoder for bestemt integral"
   ]
  },
  {
   "cell_type": "code",
   "execution_count": null,
   "id": "0bdc8515-7ac7-4c24-a6c7-5dfa3de99db5",
   "metadata": {},
   "outputs": [],
   "source": []
  }
 ],
 "metadata": {
  "kernelspec": {
   "display_name": "Python 3 (ipykernel)",
   "language": "python",
   "name": "python3"
  },
  "language_info": {
   "codemirror_mode": {
    "name": "ipython",
    "version": 3
   },
   "file_extension": ".py",
   "mimetype": "text/x-python",
   "name": "python",
   "nbconvert_exporter": "python",
   "pygments_lexer": "ipython3",
   "version": "3.9.13"
  }
 },
 "nbformat": 4,
 "nbformat_minor": 5
}
