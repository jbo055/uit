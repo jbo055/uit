{
 "cells": [
  {
   "cell_type": "markdown",
   "id": "3b54f2bf-105d-4831-8ae2-eba7c60585c3",
   "metadata": {},
   "source": [
    "## Programløkke"
   ]
  },
  {
   "cell_type": "markdown",
   "id": "3ff4b3b7-e284-48d6-b81a-57a8f7cda54e",
   "metadata": {},
   "source": [
    "+ Ofte vil man at et program skal kjøre flere ganger \n",
    "    + uten å måtte starte det på nytt\n",
    "    + Spør brukeren om å kjøre det en gang til\n",
    "+ Legger hele programmet i ei while-løkke  \n",
    "\n",
    "```Python\n",
    "enGangTil = 'J' # initialisering\n",
    "while enGangTil == 'J':\n",
    "    # Progamsetninger\n",
    "    \n",
    "\n",
    "\n",
    "    igjen = input('Vil du kjøre en gang til (j/n): ')\n",
    "    enGangTil = igjen.upper()\n",
    "```"
   ]
  },
  {
   "cell_type": "code",
   "execution_count": 1,
   "id": "6b1c71cd-2fc1-4e08-a740-42a344718446",
   "metadata": {},
   "outputs": [
    {
     "name": "stdin",
     "output_type": "stream",
     "text": [
      "Vil du kjøre en gang til (j/n):  j\n",
      "Vil du kjøre en gang til (j/n):  j\n",
      "Vil du kjøre en gang til (j/n):  j\n",
      "Vil du kjøre en gang til (j/n):  n\n"
     ]
    }
   ],
   "source": [
    "enGangTil = 'J' # initialisering\n",
    "while enGangTil == 'J':\n",
    "    # Progamsetninger\n",
    "    \n",
    "\n",
    "\n",
    "    igjen = input('Vil du kjøre en gang til (j/n): ')\n",
    "    enGangTil = igjen.upper() "
   ]
  },
  {
   "cell_type": "markdown",
   "id": "0e1a8af9-527a-4552-a510-c63778929d01",
   "metadata": {},
   "source": [
    "Vi kan ikke være sikker på om brukeren svarer med stor eller liten bokstav. Det er derfor lurt å teste på stor bokstav og gjøre svaret som leses inn om til stor.  \n",
    "\n",
    "Om brukeren trykker på **j** eller **J** vil programmet kjøre en gang til. Alle andre input vil avslutte kjøring.  \n"
   ]
  },
  {
   "cell_type": "markdown",
   "id": "202d4e14-806d-4c11-97bd-ba1eb1e753c4",
   "metadata": {},
   "source": [
    "Her er er et enkelt lite program som beregner volumet av en sylnder. Bruker blir spurt etter radius og høyde. I tillegg spørres bruker om programmet skal kjøres en gang til."
   ]
  },
  {
   "cell_type": "code",
   "execution_count": 2,
   "id": "12cc637e-eead-457d-b0e9-499296ac59bb",
   "metadata": {},
   "outputs": [
    {
     "name": "stdin",
     "output_type": "stream",
     "text": [
      "Hva er sylinderens radius? 4\n",
      "Hva er sylinderens høyde? 3\n"
     ]
    },
    {
     "name": "stdout",
     "output_type": "stream",
     "text": [
      "Volumet til en sylinder med radius 4.0 og høyde 3.0 er 150.8\n"
     ]
    },
    {
     "name": "stdin",
     "output_type": "stream",
     "text": [
      "Vil du kjøre en gang til (j/n):  j\n",
      "Hva er sylinderens radius? 3\n",
      "Hva er sylinderens høyde? 4\n"
     ]
    },
    {
     "name": "stdout",
     "output_type": "stream",
     "text": [
      "Volumet til en sylinder med radius 3.0 og høyde 4.0 er 113.1\n"
     ]
    },
    {
     "name": "stdin",
     "output_type": "stream",
     "text": [
      "Vil du kjøre en gang til (j/n):  n\n"
     ]
    }
   ],
   "source": [
    "from math import pi\n",
    "# program som beregner volum av en sylinder med radius r og høyde h\n",
    "enGangTil = 'J' # initialisering\n",
    "while enGangTil == 'J':\n",
    "    r = float(input('Hva er sylinderens radius?') )\n",
    "    h = float(input('Hva er sylinderens høyde?') )\n",
    "    \n",
    "    volum = pi * r**2 * h\n",
    "    \n",
    "    print('Volumet til en sylinder med radius', r, 'og høyde', h, 'er', round(volum, 2))\n",
    "          \n",
    "    igjen = input('Vil du kjøre en gang til (j/n): ')\n",
    "    enGangTil = igjen.upper() "
   ]
  },
  {
   "cell_type": "code",
   "execution_count": null,
   "id": "0da7115a-e3ac-4898-b1aa-0675afc919ba",
   "metadata": {},
   "outputs": [],
   "source": []
  },
  {
   "cell_type": "markdown",
   "id": "9b651d14-7e19-4144-bd9f-9f8bd9fc0f1b",
   "metadata": {},
   "source": [
    "Legger koden for utregning av fakultet (siste versjon) fra 10.2 inn i en slik løkke:"
   ]
  },
  {
   "cell_type": "code",
   "execution_count": 3,
   "id": "c3429bce-6ef1-4f01-b064-94e5a9051c1b",
   "metadata": {},
   "outputs": [
    {
     "name": "stdin",
     "output_type": "stream",
     "text": [
      "Oppgi tall som skal regnes fakultet av:  4\n"
     ]
    },
    {
     "name": "stdout",
     "output_type": "stream",
     "text": [
      "Fakultet av 4 er 4 * 3 * 2 * 1 = 24\n"
     ]
    },
    {
     "name": "stdin",
     "output_type": "stream",
     "text": [
      "Vil du kjøre en gang til (j/n):  j\n",
      "Oppgi tall som skal regnes fakultet av:  6\n"
     ]
    },
    {
     "name": "stdout",
     "output_type": "stream",
     "text": [
      "Fakultet av 6 er 6 * 5 * 4 * 3 * 2 * 1 = 720\n"
     ]
    },
    {
     "name": "stdin",
     "output_type": "stream",
     "text": [
      "Vil du kjøre en gang til (j/n):  n\n"
     ]
    }
   ],
   "source": [
    "enGangTil = 'J' # initialisering\n",
    "while enGangTil == 'J':\n",
    "\n",
    "    n = int( input('Oppgi tall som skal regnes fakultet av: ') )\n",
    "    resultat = f'Fakultet av {n} er '       # Første del av resultat-strengen\n",
    "\n",
    "    fakultet = 1     # Denne må gis verdi fordi den brukes i løkka\n",
    "    while (n > 0):\n",
    "        fakultet = fakultet * n  # Bruker her løkke til å regne ut fakultet\n",
    "                                 # n * n-1 * n-2 … * 1\n",
    "        resultat = resultat + f'{n} * '\n",
    "        n = n - 1                # Teller med n\n",
    "\n",
    "    resultat = resultat + f'\\b\\b= {fakultet}' # \\b\\b fjerner det siste gangetegnet som er lagt til i strengen\n",
    "    print(resultat)\n",
    "\n",
    "    igjen = input('Vil du kjøre en gang til (j/n): ')\n",
    "    enGangTil = igjen.upper()"
   ]
  },
  {
   "cell_type": "code",
   "execution_count": null,
   "id": "807e4d24-9377-4670-be69-87a183387702",
   "metadata": {},
   "outputs": [],
   "source": []
  }
 ],
 "metadata": {
  "kernelspec": {
   "display_name": "Python 3 (ipykernel)",
   "language": "python",
   "name": "python3"
  },
  "language_info": {
   "codemirror_mode": {
    "name": "ipython",
    "version": 3
   },
   "file_extension": ".py",
   "mimetype": "text/x-python",
   "name": "python",
   "nbconvert_exporter": "python",
   "pygments_lexer": "ipython3",
   "version": "3.9.13"
  }
 },
 "nbformat": 4,
 "nbformat_minor": 5
}
