{
 "cells": [
  {
   "cell_type": "markdown",
   "id": "6be20cae-88a0-4b83-98dd-d6518d80daad",
   "metadata": {},
   "source": [
    "## Løkker"
   ]
  },
  {
   "cell_type": "markdown",
   "id": "b83ba640-1a43-4b27-bc8e-ba4769f29073",
   "metadata": {},
   "source": [
    "+ Konstruksjon som gjør det mulig å gjenta deler av koden\n",
    "    + Når man er ferdig fortsetter programmet etter løkka"
   ]
  },
  {
   "cell_type": "markdown",
   "id": "08bd27d6-2871-4649-bdeb-6c282280b2f6",
   "metadata": {},
   "source": [
    "I forrige del, om valg, så vi hvordan man kan bestemme om en del av koden skal kjøres eller ikke.  \n",
    "\n",
    "I denne delen skal vi lære hvordan man kan gjenta deler av koden og kontrolere hor mange ganger det skal skje.  "
   ]
  },
  {
   "cell_type": "markdown",
   "id": "735da5a1-d77d-4c5e-8745-1fc9abdfe21b",
   "metadata": {},
   "source": [
    "Gjentakelsen kan være bassert på to forskjellige forutsetninger:\n",
    "+ Så lenge en betingelse er oppfyllt\n",
    "+ Et bestemt antall ganger. (For alle elementer i en array/liste/… )\n",
    "\n",
    "Python har to typer løkke for å dekke disse to variantene:\n",
    "+ while-løkke – Så lenge …\n",
    "+ for-løkke – for alle elementer …  \n",
    "\n"
   ]
  },
  {
   "cell_type": "markdown",
   "id": "0325a9f1-4ce7-40c6-a06e-bd1db78f416d",
   "metadata": {},
   "source": [
    "Syntaks for while-løkke:\n",
    "```Python\n",
    "while <betingelse>: # Kolon er viktig\n",
    "    <kommando1>\n",
    "    <kommando2>\n",
    "    ...\n",
    "```"
   ]
  },
  {
   "cell_type": "markdown",
   "id": "8fdd60c4-f636-4932-9fad-1ba691c5a6e6",
   "metadata": {},
   "source": [
    "Syntaks for for-løkke:\n",
    "```Python\n",
    "for <løkkevariabel> in <listetype>: # Kolon er viktig\n",
    "    <kommando1>\n",
    "    <kommando2>\n",
    "    ...\n",
    "```"
   ]
  },
  {
   "cell_type": "code",
   "execution_count": null,
   "id": "d2ce5028-ce52-4a65-a289-c919fa516a25",
   "metadata": {},
   "outputs": [],
   "source": []
  }
 ],
 "metadata": {
  "kernelspec": {
   "display_name": "Python 3 (ipykernel)",
   "language": "python",
   "name": "python3"
  },
  "language_info": {
   "codemirror_mode": {
    "name": "ipython",
    "version": 3
   },
   "file_extension": ".py",
   "mimetype": "text/x-python",
   "name": "python",
   "nbconvert_exporter": "python",
   "pygments_lexer": "ipython3",
   "version": "3.9.13"
  }
 },
 "nbformat": 4,
 "nbformat_minor": 5
}
