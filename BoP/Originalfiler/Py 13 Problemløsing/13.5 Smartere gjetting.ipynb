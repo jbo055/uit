{
 "cells": [
  {
   "cell_type": "markdown",
   "id": "4a6b01e4-9934-4643-9f2a-572c824f77f7",
   "metadata": {},
   "source": [
    "## 13.5 Smartere gjetting"
   ]
  },
  {
   "cell_type": "markdown",
   "id": "78b4c770-42b4-4b7c-9b7a-05b0b24e133c",
   "metadata": {},
   "source": [
    "#### Eller smartere telling"
   ]
  },
  {
   "cell_type": "markdown",
   "id": "707963ee-c4b3-4cf4-976f-b036692db399",
   "metadata": {},
   "source": [
    "Vi ønsker en måte å finne kvadratroten på som er mer effektiv en telling eller gjetting."
   ]
  },
  {
   "cell_type": "markdown",
   "id": "31e6b7b9-2d4d-4554-8247-9d055ff54f51",
   "metadata": {},
   "source": [
    "#### Kan vi løse dette ved å bruke en form for kvalifisert gjetting eller smartere telling?"
   ]
  },
  {
   "cell_type": "markdown",
   "id": "58329d6c-af46-42c0-bdc3-115ed4ed23d7",
   "metadata": {},
   "source": [
    "Vi må nok en gang se på hva vi har og hva vi vet.  \n",
    "\n",
    "Vi vet at svaret vi er på jakt etter ligger mellom 1 og tallet. Altså i et intervall.  \n",
    "Hva om vi gjetter på midten av intervallet og sjekker om det er for lite eller stort?  \n",
    "- Er midten for stor kan vi fjerne den delen av intervallet som er større.\n",
    "- Er midten for liten kan vi fjerne den delen av intervallet som er mindre.\n",
    "- Halverer altså intervallet og gjentar\n",
    "- Stopper når vi ikke kan redusere intervallet mer (husk at vi fortsatt bare jobber med heltall)"
   ]
  },
  {
   "cell_type": "markdown",
   "id": "784ad272-9816-49ea-a987-26e02c3c14bc",
   "metadata": {},
   "source": [
    "Programmeringsteknisk kan vi forenkle litt ved å bruke en tilleggsverdi i stedet for intervall. \n",
    "- Først setter vi tillegsverdien til halvparten av tallet og gjetter på denne. \n",
    "- For hver runde halverer vi tillegsverdien\n",
    "- Legger den til eller trekker den fra den forrige gjetting avhengig om den var for stor eller liten.  \n",
    "\n",
    "Dette løser også problemet med å vite når svaret er nært nok. Når tilleggsverdien er blitt ≤ 1 sier vi oss fornøyd.  \n",
    "\n",
    "En slik punktvis framgangsmåte (oppskrift) for å løse et bestemt problem kalles for en algoritme.  \n",
    "\n",
    "Legger inn litt utskrift for å kunne sjekke hvordan den fungerer under testing. Disse kan tas bort eller gjøres om til kommentarer når den skal brukes"
   ]
  },
  {
   "cell_type": "code",
   "execution_count": 2,
   "id": "65f5963e-5149-48dc-bc60-273870b3dfaa",
   "metadata": {},
   "outputs": [
    {
     "name": "stdin",
     "output_type": "stream",
     "text": [
      "Hvilket tall skal det finnes kvadratrot av? 5473\n"
     ]
    },
    {
     "name": "stdout",
     "output_type": "stream",
     "text": [
      " tillegg   svar   feil \n",
      "   2736    2736   -2734\n",
      "   1368    1368   -1364\n",
      "    684     684    -676\n",
      "    342     342    -326\n",
      "    171     171    -139\n",
      "     86      85     -21\n",
      "     43      42      88\n",
      "     22      64      22\n",
      "     11      75      -2\n",
      "      6      69      10\n",
      "      3      72       4\n",
      "      2      74       0\n",
      "Svar: 74 Iterasjoner: 12\n"
     ]
    }
   ],
   "source": [
    "# Kvadratroten av et tall uten å bruke sqrt()\n",
    "# Heltallsutgave (utgangspunkt og resultat)\n",
    "# Versjon 1 intervalldeling/tilleggshalvvering\n",
    "\n",
    "tallet = int(input('Hvilket tall skal det finnes kvadratrot av?'))\n",
    "\n",
    "tillegg = round(tallet/2) # vil bare jobbe med heltall\n",
    "svar = tillegg # utgangspunkt\n",
    "\n",
    "# Legger inn noe mer for å kunne sjekke hvor godt metoden fungerer\n",
    "iter = 1 #  antall iterasjoner \n",
    "feil = round(tallet/svar - svar) # estimering av feilen\n",
    "feilliste = [abs(feil)] # feilen ved hver iterasjon legges i en liste\n",
    "print(' tillegg   svar   feil ')\n",
    "print(f'{tillegg:7} {svar:7} {feil:7}')\n",
    "\n",
    "while abs(feil) > 1: \n",
    "    tillegg = round(tillegg/2)\n",
    "    if svar*svar > tallet:\n",
    "        svar = svar - tillegg\n",
    "    elif svar*svar < tallet:\n",
    "        svar = svar + tillegg \n",
    "    feil = round(tallet/svar - svar) # estimering av feilen\n",
    "    print(f'{tillegg:7} {svar:7} {feil:7}')\n",
    "    iter += 1\n",
    "    feilliste.append(feil) # legger feilen for denne iterasjonen til i lista\n",
    "print ('Svar:', svar, 'Iterasjoner:', iter)\n",
    "# print(feilliste)"
   ]
  },
  {
   "cell_type": "markdown",
   "id": "7224db8e-53b5-4a55-8e40-19290a57a162",
   "metadata": {},
   "source": [
    "For hver iterasjon/runde skrives ut tillegget som gjøres, svaret som gjettes på og et estimat på feilen i gjettingen. Det er noen ting vi bør legge merke til i det som skrives ut.  \n",
    "\n",
    "Til å begynne med er:\n",
    "- Tillegget, svaret og den beregnede feilen ganske lik.\n",
    "- Estimatet av feilen er alt for høyt.  \n",
    "\n",
    "Fortegnet på feilen er negativ når gjettingen er for høy og positiv når den er for lav.  \n",
    "For eksemplet som er vist (roten av 5473) ser vi også at feilen ikke nødvendigvis blir mindre for hver iterasjon. Det vil skje for mange tall.  \n",
    "Den kan være ganske liten for så å plutselig øke kraftig. Dette skyldes at forrige gjetting tilfeldigvis var ganske bra, men at tillegget fortsatt er så stort at det vil ta oss lengre bort fra rett svar. "
   ]
  },
  {
   "cell_type": "markdown",
   "id": "c1e2dfd9-19bd-421e-9cb3-3ffbb5105b97",
   "metadata": {},
   "source": [
    "#### Muligheter for forbedring"
   ]
  },
  {
   "cell_type": "markdown",
   "id": "89a9533e-1a81-40b5-b7c2-73feba36e0f6",
   "metadata": {},
   "source": [
    "Det er alltid interessant å forsøke å forbedre en løsning. Her er det pekt på noen problemer med den løsningen vi har kommet fram til. Kan vi unngå disse?  \n",
    "- Sørge for at vi kommer nærmere rett svar for hver iterasjon\n",
    "    - Kan vi bruke feilen i stedet for et tillegg som halveres?\n",
    "        - For eksempel halvparten av den\n",
    "        - Har fortegn slik at det ikke er nødvedig å sjekke om \"svaret\" er for høyt eller lavt\n",
    "- Bedre beregning av feilen?\n",
    "- Bedre første gjetting?"
   ]
  },
  {
   "cell_type": "code",
   "execution_count": null,
   "id": "d68ad834-e59a-4dcc-b8e7-004ef7fbc149",
   "metadata": {},
   "outputs": [],
   "source": []
  }
 ],
 "metadata": {
  "kernelspec": {
   "display_name": "Python 3 (ipykernel)",
   "language": "python",
   "name": "python3"
  },
  "language_info": {
   "codemirror_mode": {
    "name": "ipython",
    "version": 3
   },
   "file_extension": ".py",
   "mimetype": "text/x-python",
   "name": "python",
   "nbconvert_exporter": "python",
   "pygments_lexer": "ipython3",
   "version": "3.9.13"
  }
 },
 "nbformat": 4,
 "nbformat_minor": 5
}
