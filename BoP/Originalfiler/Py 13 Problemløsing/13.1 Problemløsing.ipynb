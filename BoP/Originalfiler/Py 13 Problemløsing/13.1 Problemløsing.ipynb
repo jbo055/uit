{
 "cells": [
  {
   "cell_type": "markdown",
   "id": "e6b49e03-7f20-4492-9ab3-cd25039ddba8",
   "metadata": {},
   "source": [
    "## Problemløsning"
   ]
  },
  {
   "cell_type": "markdown",
   "id": "04e6160a-ffeb-4488-bb27-514847fa3954",
   "metadata": {},
   "source": [
    "I denne avdelingen skal vi se litt enkle metoder brukt i problemløsing og så skal vi bruke kvadratrotutfordringen som eksempel."
   ]
  },
  {
   "cell_type": "markdown",
   "id": "8912c868-6ae2-4dd5-b14c-db8d879518af",
   "metadata": {},
   "source": [
    "####  Top-downmetoden"
   ]
  },
  {
   "cell_type": "markdown",
   "id": "f90a0cd0-2eed-4066-b9fc-ff21cee9312b",
   "metadata": {},
   "source": [
    "Mye brukt metode både i programmering og i annen problemløsing\n",
    "- Metoden går ut på starte med helheten og bryte det ned til håndterlige størrelser\n",
    "- Man planlegger ovenfra og ned\n",
    "- Begynn med å få en oversikt over hele problemet/oppgaven\n",
    "    - Overordnet oversikt, ikke detaljert\n",
    "    - Hva er målet? (hva skal man fram til?)\n",
    "- Noen ganger består målet av flere delmål\n",
    "- Hvilke forutsetninger er gitt\n",
    "    - Opplysninger\n",
    "    - Begrensinger"
   ]
  },
  {
   "cell_type": "markdown",
   "id": "2f85ae5c-0f98-428b-875c-8cc1f2889af2",
   "metadata": {},
   "source": [
    "#### Oppdeling"
   ]
  },
  {
   "cell_type": "markdown",
   "id": "fe0164a7-058d-4739-8138-b1326c8df1a0",
   "metadata": {},
   "source": [
    "- Del opp i moduler\n",
    "    - Er det definert delmål så ta utgangspunkt i disse\n",
    "    - Er det naturlige trinn så definer disse\n",
    "        - Først..., så...\n",
    "    - Planlegg slik at løsning av delmålene gir løsning på det overordnede\n",
    "        - Beskriv kort hva som må til for å sette sammen delløsningene til en helhet\n",
    "- Behandle hver modul på samme måte som hele oppgaven\n",
    "- Del videre opp i mindre deler\n",
    "    - I store oppgave må man ofte gjøre dette i flere runder"
   ]
  },
  {
   "cell_type": "markdown",
   "id": "9b960d7d-4022-4966-adba-51d4392eccc7",
   "metadata": {},
   "source": [
    "#### Enkeltoppgaver"
   ]
  },
  {
   "cell_type": "markdown",
   "id": "f93b9ef5-b3ed-4f5f-a4f1-32cbc15ecedb",
   "metadata": {},
   "source": [
    "- Se etter\n",
    "    - Veivalg\n",
    "        - Deler som blir utført på bakgrunn av betingelse\n",
    "    - Iterasjoner (løkker)\n",
    "        Gangetabell er et eksempel. Hver linje er samme oppgave med ny verdi\n",
    "- Ende opp med enkeltstående \"arbeids\"-oppgaver\n",
    "    - Konkrete\n",
    "    - Klart definerte\n",
    "    - Løsbare"
   ]
  },
  {
   "cell_type": "markdown",
   "id": "74a902ad-e556-42e8-8f77-82dcb8e1e716",
   "metadata": {},
   "source": [
    "####  Løse enkeltoppgaver"
   ]
  },
  {
   "cell_type": "markdown",
   "id": "a25be0a0-b60d-44e7-8474-84b58d4280db",
   "metadata": {},
   "source": [
    "- Forutsetninger må være tilstede\n",
    "- Nødvendige data/verdier\n",
    "    - Hvilke trengs for å kunne løse oppgaven\n",
    "        - gitt i oppgaven\n",
    "        - skrives inn av bruker\n",
    "        - ...\n",
    "- Teori/formler\n",
    "    - Finne manglende informasjon\n",
    "- Bruke teori og data til å lage løsning\n",
    "        - For hver del/modul\n",
    "        - Teste den"
   ]
  },
  {
   "cell_type": "markdown",
   "id": "42f62f95-74d4-4c0f-8198-7e4dafaaab5a",
   "metadata": {},
   "source": [
    "#### Algoritme"
   ]
  },
  {
   "cell_type": "markdown",
   "id": "29ba6d12-7549-4a36-9e1b-b1c5fb4d774e",
   "metadata": {},
   "source": [
    "Lage en oppskrift, gjerne punktvis, som beskriver framgangsmåten for å løse (enkelt)oppgaven.  \n",
    "\n",
    "Den skal være så klar og fullstendig av man ved å følge den kommer i mål.  \n",
    "\n",
    "En slik oppskrift kalles en algoritme."
   ]
  },
  {
   "cell_type": "markdown",
   "id": "9305e3f0-9a3a-4651-af01-a1a6f79ad4d6",
   "metadata": {},
   "source": [
    "####  Hovedløsning og oppsummering"
   ]
  },
  {
   "cell_type": "markdown",
   "id": "970fe698-e6b6-40bc-8fd9-86daa1df28c2",
   "metadata": {},
   "source": [
    "- Sette sammen løsningene på delene\n",
    "    - Teste etter hvert\n",
    "- Først ovenfra og ned\n",
    "    - Analyserer\n",
    "    - Dele opp\n",
    "    - Planlegge\n",
    "- Så nedenfra og opp\n",
    "    - Programmere\n",
    "    - Teste\n",
    "    - Sette sammen\n",
    "    - Teste"
   ]
  },
  {
   "cell_type": "markdown",
   "id": "98667194-5a60-4c50-aefc-bdb2ae33a637",
   "metadata": {},
   "source": [
    "#### Løsning i Python"
   ]
  },
  {
   "cell_type": "markdown",
   "id": "55e39ad7-6286-465e-b701-b43f6d6091d3",
   "metadata": {},
   "source": [
    "- Hovedprogram\n",
    "    - Programløkke\n",
    "        - Kjører til brukeren velger å avslutte\n",
    "    - Ofte flere valg\n",
    "- Deloppgaver og enkeltoppgavene\n",
    "    - funksjon dersom mulig  \n",
    "    \n",
    "Til sammen utgjør hovedprogram og funksjoner som trengs for å løse oppgaven et program"
   ]
  },
  {
   "cell_type": "code",
   "execution_count": null,
   "id": "39515c32-d495-4e19-95a5-1c09e40980c7",
   "metadata": {},
   "outputs": [],
   "source": []
  }
 ],
 "metadata": {
  "kernelspec": {
   "display_name": "Python 3 (ipykernel)",
   "language": "python",
   "name": "python3"
  },
  "language_info": {
   "codemirror_mode": {
    "name": "ipython",
    "version": 3
   },
   "file_extension": ".py",
   "mimetype": "text/x-python",
   "name": "python",
   "nbconvert_exporter": "python",
   "pygments_lexer": "ipython3",
   "version": "3.9.13"
  }
 },
 "nbformat": 4,
 "nbformat_minor": 5
}
