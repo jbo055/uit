{
 "cells": [
  {
   "cell_type": "markdown",
   "id": "f7edc499-7ffc-4d91-8bb3-1fbf81df0a39",
   "metadata": {},
   "source": [
    "## Finne kvadratrot ved hjelp av telling"
   ]
  },
  {
   "cell_type": "markdown",
   "id": "9de80d96-3d87-4fb5-b73c-e189835fb518",
   "metadata": {},
   "source": [
    "Det er fullt mulig å finne kvadratroten ved å telle.  \n",
    "\n",
    "Vi forutsetter at tallet vi skal finne kvadratrot av er større eller lik 1.  \n",
    "Framgangsmåte:\n",
    "- Starter med å sette *svar* til 1\n",
    "- Sjekker svar * svar mot tallet\n",
    "- hvis svar * svar er mindre enn tallet telles *svar* opp med en og det sjekkes på nytt\n",
    "- Tilslutt er *svar* lik eller litt større enn roten til tallet"
   ]
  },
  {
   "cell_type": "markdown",
   "id": "d47c51db-e0fd-44bf-a967-e6fdcc6e7c36",
   "metadata": {},
   "source": [
    "I Python bruker vi testen som en betingelse i en løkke. Så lenge svar * svar er mindre enn tallet kjører vi løkka en ang til."
   ]
  },
  {
   "cell_type": "code",
   "execution_count": null,
   "id": "83dc5114-dd07-40a6-9883-470d8617ec9d",
   "metadata": {},
   "outputs": [],
   "source": [
    "# Script for å finne kvadratrot ved hjelp av telling\n",
    "\n",
    "tallet = int(input('Hvilket tall skal det finnes kvadratrot av?'))\n",
    "\n",
    "svar = 1 \n",
    "\n",
    "print('Prøver med', svar)\n",
    "while svar*svar < tallet:\n",
    "    print ('Det var for lite')\n",
    "    svar +=1\n",
    "    print('Prøver med', svar)\n",
    "\n",
    "\n",
    "if svar*svar == tallet:\n",
    "  print ('Det stemmer')\n",
    "else:\n",
    "  print ('Det er for stort')"
   ]
  },
  {
   "cell_type": "markdown",
   "id": "3c821232-948d-41c2-987e-e49029173c75",
   "metadata": {},
   "source": [
    "For å se hvordan det går skriver vi ut hva vi forsøker og resultatet av testen.  \n",
    "\n",
    "Hvis vi kjører det mange ganger ser vi at antall forsøk vil være like mange som svaret vi kommer fram til. Altså tilnærmet rota av tallet som var utgangspunktet."
   ]
  },
  {
   "cell_type": "markdown",
   "id": "8633417b-474f-4872-91c7-b52fee3e40eb",
   "metadata": {},
   "source": [
    "I denne utgaven er det ikke tatt med noen vurdering på om det er siste verdi av svar eller nest siste som vil være best tilnærming."
   ]
  }
 ],
 "metadata": {
  "kernelspec": {
   "display_name": "Python 3 (ipykernel)",
   "language": "python",
   "name": "python3"
  },
  "language_info": {
   "codemirror_mode": {
    "name": "ipython",
    "version": 3
   },
   "file_extension": ".py",
   "mimetype": "text/x-python",
   "name": "python",
   "nbconvert_exporter": "python",
   "pygments_lexer": "ipython3",
   "version": "3.9.13"
  }
 },
 "nbformat": 4,
 "nbformat_minor": 5
}
