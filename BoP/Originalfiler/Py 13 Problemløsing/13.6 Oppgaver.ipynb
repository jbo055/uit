{
 "cells": [
  {
   "cell_type": "markdown",
   "id": "012b62cc-c416-4bf0-a556-840bb2f90e79",
   "metadata": {},
   "source": [
    "## Oppgaver til problemløsing"
   ]
  },
  {
   "cell_type": "markdown",
   "id": "a1f1e3d2-a9b4-4a6e-88c6-1660b537285e",
   "metadata": {},
   "source": [
    "#### Oppgave 1 (Obligatorisk)"
   ]
  },
  {
   "cell_type": "markdown",
   "id": "a033282f-cb9b-43da-b932-d004800340ac",
   "metadata": {},
   "source": [
    "Ta utgangspunkt i løsningen for kvadratrot som finnes i 13.5 og lag en versjon som reduserer feilen (bruker beregnet feil) i stedet for å halvere tillegget. Poenget er at den for hver runde skal komme nærmere riktig svar.  "
   ]
  },
  {
   "cell_type": "code",
   "execution_count": null,
   "id": "ba8005ba-20c2-44ce-a83b-17967e3dc569",
   "metadata": {},
   "outputs": [],
   "source": [
    "# Beregning av kvadratrot med reduksjon av feil for hver runde\n"
   ]
  },
  {
   "cell_type": "markdown",
   "id": "45d2dab6-c237-44a0-bbba-9fe2aa969fa9",
   "metadata": {},
   "source": [
    "Bekriv hvordan du har tenkt, resultatet og hva som eventuelt ikke fungerer slik du ville.  \n"
   ]
  },
  {
   "cell_type": "markdown",
   "id": "d48e879d-e5ec-4867-90eb-cb85abeef7fc",
   "metadata": {},
   "source": [
    "#### Oppgave 2"
   ]
  },
  {
   "cell_type": "raw",
   "id": "ccd3b14f-c717-48d5-abb2-eb792eea74ca",
   "metadata": {},
   "source": [
    "Prøv å forbedre andre av de problemene som er påpekt med løsningen i 13.5"
   ]
  },
  {
   "cell_type": "code",
   "execution_count": null,
   "id": "50d760b8-ebfe-4a27-bae7-f0eb22e80568",
   "metadata": {},
   "outputs": [],
   "source": [
    "# Forbedret utgave\n"
   ]
  },
  {
   "cell_type": "markdown",
   "id": "871f9916-71a8-4f77-859c-b6cec316f79f",
   "metadata": {},
   "source": [
    "Bekriv hvordan du har tenkt, resultatet og hva som eventuelt ikke fungerer slik du ville.  \n"
   ]
  },
  {
   "cell_type": "code",
   "execution_count": null,
   "id": "4553c03c-95f1-44dd-b018-824492fbd8cc",
   "metadata": {},
   "outputs": [],
   "source": []
  }
 ],
 "metadata": {
  "kernelspec": {
   "display_name": "Python 3 (ipykernel)",
   "language": "python",
   "name": "python3"
  },
  "language_info": {
   "codemirror_mode": {
    "name": "ipython",
    "version": 3
   },
   "file_extension": ".py",
   "mimetype": "text/x-python",
   "name": "python",
   "nbconvert_exporter": "python",
   "pygments_lexer": "ipython3",
   "version": "3.9.13"
  }
 },
 "nbformat": 4,
 "nbformat_minor": 5
}
