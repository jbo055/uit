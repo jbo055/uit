{
 "cells": [
  {
   "cell_type": "markdown",
   "id": "d9c6de1e-738a-4589-a0cd-5396d2a5abbf",
   "metadata": {},
   "source": [
    "## Finne kvadratrot ved hjelp av vilkårlig gjetting"
   ]
  },
  {
   "cell_type": "markdown",
   "id": "a054b362-32f5-492b-9e54-62045b0a836d",
   "metadata": {},
   "source": [
    "Det vil også la seg gjøre å løse oppgaven ved å gjette på et svar. Ved å bruke funksjonen randint() kan vi gjette tilfeldig i intervallet fra 1 til til tallet.  \n",
    "\n",
    "Det sier seg selv at det vil variere fra gang til gang hvor mange forsøk man må ha for å finne svaret, selv om man bruker samme tall som utgangspunkt.  \n",
    "\n",
    "Det er åpenbart at dette ikke er noen god framgangsmåte. I løsningen nedenfor er det derfor ikke lagt noe arbeid i å sjekke om svaret man gjetter på er mindre enn en fra rett svar (nært nok). Den virker derfor bare for kvadrattall. Derfor er også tallet som skal tas kvadratrot av satt som en fast verdi.  \n",
    "\n",
    "Kjør programmt flere ganger å se hvordan antall gjettinger for å finne rett svar varierer fra gang til gang."
   ]
  },
  {
   "cell_type": "code",
   "execution_count": 1,
   "id": "5d046a4d-2507-4f2a-8508-8e458d97421c",
   "metadata": {},
   "outputs": [
    {
     "name": "stdout",
     "output_type": "stream",
     "text": [
      "Det var rett\n",
      "Har gjettet 34 ganger\n"
     ]
    }
   ],
   "source": [
    "# Script for å finne kvadratrot ved hjelp av gjetting\n",
    "# OBS! Virker bare på kvadrattall\n",
    "\n",
    "import random as rnd \n",
    "rnd.seed()\n",
    "\n",
    "tallet = 16 # siden den bare virker med kvadrattall\n",
    "\n",
    "svar = 1; antall = 0; funnet = False\n",
    "\n",
    "if tallet == 1:\n",
    "  disp('Kvadratroten av 1 er 1 Det ble funnet uten gjetting') \n",
    "else:\n",
    "  while funnet == False:\n",
    "    gjetting = rnd.randint(1, tallet)\n",
    "    antall +=1\n",
    "    # print('Gjetter på', gjetting)\n",
    "    if gjetting*gjetting == tallet:\n",
    "       print ('Det var rett')\n",
    "       funnet = True;\n",
    "       print('Har gjettet', antall , 'ganger')\n",
    "    # else:\n",
    "       #print ('Det var feil')"
   ]
  },
  {
   "cell_type": "markdown",
   "id": "c399ceb5-f59c-4a11-bfe9-0238f4e570f5",
   "metadata": {},
   "source": [
    "Selv for et lite tall ser vi at det blir veldig mange gjettinger for å finne rett svar. Mange flere enn å telle. Når tallet øker vil gjennomsittlig antall gjettinger øke dramatisk."
   ]
  },
  {
   "cell_type": "code",
   "execution_count": null,
   "id": "fc507d44-4dfb-446a-b403-1941e30e3a1b",
   "metadata": {},
   "outputs": [],
   "source": []
  }
 ],
 "metadata": {
  "kernelspec": {
   "display_name": "Python 3 (ipykernel)",
   "language": "python",
   "name": "python3"
  },
  "language_info": {
   "codemirror_mode": {
    "name": "ipython",
    "version": 3
   },
   "file_extension": ".py",
   "mimetype": "text/x-python",
   "name": "python",
   "nbconvert_exporter": "python",
   "pygments_lexer": "ipython3",
   "version": "3.9.13"
  }
 },
 "nbformat": 4,
 "nbformat_minor": 5
}
