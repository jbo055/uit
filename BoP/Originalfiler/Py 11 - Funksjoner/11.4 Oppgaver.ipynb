{
 "cells": [
  {
   "cell_type": "markdown",
   "id": "620fbd88-88b1-48e4-8a61-e13306015983",
   "metadata": {},
   "source": [
    "## Oppgaver"
   ]
  },
  {
   "cell_type": "markdown",
   "id": "a07df041-c469-49a5-ada2-d5d980409272",
   "metadata": {},
   "source": [
    "Her er en del oppgaver til funksjoner. Noen går ut på å finne og rette feil i koden. Andre går ut på å lage nye funksjoner.  \n",
    "\n",
    "Disse oppgavene er grunnlag for spørsmålene i ***Py.11 Øving*** og ***Flere øvingsoppgaver med funksjoner***."
   ]
  },
  {
   "cell_type": "markdown",
   "id": "38f4c9a2-4212-49b4-9f4d-53fdc4fbd59d",
   "metadata": {},
   "source": [
    "#### Oppgave 1 -  Finn manglende katet"
   ]
  },
  {
   "cell_type": "markdown",
   "id": "a4755f6d-01b7-4820-ae3d-74cba43f5382",
   "metadata": {},
   "source": [
    "Ta utgangspunkt i funksjonen hypotenus fra **11.1**.  \n",
    "\n",
    "Den beregner hypotenus når vi kjenner katetene i rettvinklet trekant. Vi trenger også en funksjon som kan beregne manglende katet når vi kjenner hypotenus og en katet. Det er fortsatt Pytagoras som gjelder. Men formelen må kanskje snues litt på.  \n",
    "\n",
    "Gjør ferdig funksjonen i cella under slik at testprogrammet i neste celle virker uten modifikasjoner. "
   ]
  },
  {
   "cell_type": "code",
   "execution_count": null,
   "id": "0c8721e9-f456-42b7-9e6a-3b0c623d0c45",
   "metadata": {},
   "outputs": [],
   "source": [
    "def \n",
    "    ''' \n",
    "    beregner lengde av katet når vi kjenner hypotenus og den andre katet i en rettvinklet trekant \n",
    "    Første parameter \n",
    "    \n",
    "    '''\n",
    "    from math import sqrt\n",
    "    \n",
    "    return "
   ]
  },
  {
   "cell_type": "code",
   "execution_count": null,
   "id": "e100b19e-81b3-4845-ba92-34e5ce240ab0",
   "metadata": {},
   "outputs": [],
   "source": [
    "# Testprogram for å finne manglende katet når vi kjenner hypotenus og en katet\n",
    "enGangTil = 'J' # initialisering \n",
    "while enGangTil == 'J':\n",
    "    hyp = float(input('lengde på hypotenus:'))\n",
    "    kat1 = float(input('lengde på katet1:'))\n",
    "    \n",
    "    kat2 = katet(hyp, kat1)\n",
    "    \n",
    "    print('Den andre kateten til en rettviklet trekant med hypotenus', hyp, 'og katet', kat1, 'er', kat2)\n",
    "    \n",
    "    igjen = input('Vil du kjøre en gang til (j/n): ') \n",
    "    enGangTil = igjen.upper()"
   ]
  },
  {
   "cell_type": "markdown",
   "id": "a83b2581-acff-421f-9b67-e74b090d1a21",
   "metadata": {},
   "source": [
    "#### Oppgave 2 - Volumet av en sylinder"
   ]
  },
  {
   "cell_type": "markdown",
   "id": "a1988483-f852-4cc3-bc02-31c4c4569180",
   "metadata": {},
   "source": [
    "Ta utgangspunkt i funksjonen og testprogrammet for å beregne arealet av en sirkel fra **11.3**. Lag en ny funksjon som beregner volumet av en sylinder. Volumet av en sylinder er som kjent arealet av grunnflata multiplisert med høyden. For å regne ut trenger vi radien (eller diameteren) til grunnflata og høyden. La denne funksjonen kalle *sirkelareal_r* for beregning av grunnflata i sylinderen. Lag også testprogram til denne."
   ]
  },
  {
   "cell_type": "code",
   "execution_count": null,
   "id": "1a95934b-5e35-4610-b96f-7191c75c1242",
   "metadata": {},
   "outputs": [],
   "source": [
    "# funksjon som beregner arealet av en sirkel \n",
    "def sirkelareal_r(radi):\n",
    "    '''\n",
    "    sirkelareal_r beregner arealet av en sirkel ut fra radius\n",
    "    Den brukes også for å beregne bunn-/grunnflata i en sylinder\n",
    "    \n",
    "    Parameter: radius\n",
    "    \n",
    "    Returverdi: arealet av sirkelen\n",
    "    '''\n",
    "    \n",
    "    from math import pi\n",
    "    \n",
    "    return pi* radi**2"
   ]
  },
  {
   "cell_type": "code",
   "execution_count": null,
   "id": "447c30a0-4321-4f65-b8ad-d624c5dcd7d5",
   "metadata": {},
   "outputs": [],
   "source": [
    "# funksjon som beregner volumet av en sylinder\n",
    "def \n",
    "    '''\n",
    "    sylindervolum beregner volumet av en sylinder\n",
    "    benytter funksjonen sirkelareal_r for å beregne bunnflata\n",
    "    \n",
    "    Parametre: radius og høyde\n",
    "    \n",
    "    returverdi: volumeet av sylinderen\n",
    "    '''\n",
    "    \n",
    "    return "
   ]
  },
  {
   "cell_type": "code",
   "execution_count": null,
   "id": "0fc150a1-fe85-4843-84aa-a10dc5bac957",
   "metadata": {},
   "outputs": [],
   "source": [
    "# Program som beregner volumet av en sylinder\n",
    "import numpy as np\n",
    "\n",
    "enGangTil = 'J' # initialisering \n",
    "while enGangTil == 'J':\n",
    "    \n",
    "    \n",
    "    igjen = input('Vil du kjøre en gang til (j/n): ') \n",
    "    enGangTil = igjen.upper()"
   ]
  },
  {
   "cell_type": "markdown",
   "id": "27972f59-1a32-4f13-bcc0-c5af2c1f9437",
   "metadata": {},
   "source": [
    "#### Oppgave 3 - Konvertering av temperatur fra Celsius til Farenheit"
   ]
  },
  {
   "cell_type": "markdown",
   "id": "f0de2ed1-9880-439e-8236-3d58fa49e95e",
   "metadata": {},
   "source": [
    "Ta utgangspunkt i funksjonen for å konvertere temperatur fra Celsius til Farenheit i **11.3**. Lag en funksjon som konverterer andre veien: Fra temperatur i Farenheit til Celsius. Lag også testprogram med programløkke til denne. "
   ]
  },
  {
   "cell_type": "code",
   "execution_count": null,
   "id": "69c2822c-6291-43cb-afcb-994727a51763",
   "metadata": {},
   "outputs": [],
   "source": [
    "# Funksjon som konverterer fra temperatur i Farenheit til Celsius\n",
    "\n",
    "\n"
   ]
  },
  {
   "cell_type": "code",
   "execution_count": null,
   "id": "4f99d243-651e-4d30-ba9c-3d7839a7f5b6",
   "metadata": {},
   "outputs": [],
   "source": [
    "# Testprogram for funksjon som konverterer fra temperatur i Farenheit til Celsius\n",
    "\n",
    "\n"
   ]
  },
  {
   "cell_type": "markdown",
   "id": "f5681711-9274-4f43-b0d4-b06353196044",
   "metadata": {
    "tags": []
   },
   "source": [
    "#### Oppgave 4 - Omkrets av et rektangel"
   ]
  },
  {
   "cell_type": "markdown",
   "id": "f2b4973b-a8e0-4153-8f52-6ac88b447a69",
   "metadata": {},
   "source": [
    "Ta utgangspunkt i funksjonen og testprogrammet for å beregne arealet av et rektangel fra **11.3**. Lag en ny funksjon som beregner omkretsen av et rektangel. Lag også testprogram til denne."
   ]
  },
  {
   "cell_type": "code",
   "execution_count": null,
   "id": "67ae0d85-7552-4ee6-8435-312f51ef9e49",
   "metadata": {},
   "outputs": [],
   "source": [
    "# Funksjon som beregner omkrets av et rektangel\n",
    "\n",
    "\n"
   ]
  },
  {
   "cell_type": "code",
   "execution_count": null,
   "id": "8268b4e1-0005-4524-841d-4386e9fd26fc",
   "metadata": {},
   "outputs": [],
   "source": [
    "# Testprogram for funksjon som beregner omkrets av et rektangel\n",
    "\n",
    "\n"
   ]
  },
  {
   "cell_type": "markdown",
   "id": "ccf77199-5f0b-4812-ab60-c9c117fc33da",
   "metadata": {
    "tags": []
   },
   "source": [
    "#### Oppgave 5 - Omregning fra polare til kartesiske koordinater"
   ]
  },
  {
   "cell_type": "markdown",
   "id": "63c51e41-428a-4d7b-8cdb-bc2c4867182f",
   "metadata": {},
   "source": [
    "Ta utgangspunkt i funksjonen og testprogrammet for å konverterer fra kartesiske til polare koordinater fra **11.3**. Lag en ny funksjon som konverterer andre veien: fra polare til kartesiske koordinater. Lag også testprogram til denne."
   ]
  },
  {
   "cell_type": "code",
   "execution_count": null,
   "id": "2b0a8ce7-b4c3-4cbc-b464-a4415efc0502",
   "metadata": {},
   "outputs": [],
   "source": [
    "# Funksjon som konverterer fra polare til kartesiske koordinater\n",
    "\n",
    "\n"
   ]
  },
  {
   "cell_type": "code",
   "execution_count": null,
   "id": "10f0500c-f077-4ae7-8e89-df5d382463fb",
   "metadata": {},
   "outputs": [],
   "source": [
    "# Testprogram for funksjon som konverterer fra polare til kartesiske koordinater\n",
    "\n",
    "\n"
   ]
  },
  {
   "cell_type": "code",
   "execution_count": null,
   "id": "32cd2a2d-872e-44e6-a4aa-b4557dc3dd80",
   "metadata": {},
   "outputs": [],
   "source": []
  }
 ],
 "metadata": {
  "kernelspec": {
   "display_name": "Python 3 (ipykernel)",
   "language": "python",
   "name": "python3"
  },
  "language_info": {
   "codemirror_mode": {
    "name": "ipython",
    "version": 3
   },
   "file_extension": ".py",
   "mimetype": "text/x-python",
   "name": "python",
   "nbconvert_exporter": "python",
   "pygments_lexer": "ipython3",
   "version": "3.9.13"
  }
 },
 "nbformat": 4,
 "nbformat_minor": 5
}
