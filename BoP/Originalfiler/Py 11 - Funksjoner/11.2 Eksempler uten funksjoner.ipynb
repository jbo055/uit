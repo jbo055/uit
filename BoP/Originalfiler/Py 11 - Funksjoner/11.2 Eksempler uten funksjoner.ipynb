{
 "cells": [
  {
   "cell_type": "markdown",
   "id": "6c8c0496-bcc0-400d-a3c4-5b1e1b5682db",
   "metadata": {},
   "source": [
    "## Eksempler uten bruk av funksjoner"
   ]
  },
  {
   "cell_type": "markdown",
   "id": "e9472691-56ca-413a-beda-eccee941a2f1",
   "metadata": {},
   "source": [
    "Her er noen eksmepler på små program som vi i neste notatbok vil gjøre om til funksjoner. Kjør programmene flere ganger med forskjellige verdier. Studer koden og resultatene."
   ]
  },
  {
   "cell_type": "markdown",
   "id": "73fdb199-b1a4-48c5-8b68-1bab9944619f",
   "metadata": {},
   "source": [
    "#### Areal av rektangel"
   ]
  },
  {
   "cell_type": "code",
   "execution_count": 1,
   "id": "f4cd8017-2110-4580-9762-6557b8451810",
   "metadata": {},
   "outputs": [
    {
     "name": "stdin",
     "output_type": "stream",
     "text": [
      "Høyde: 3\n",
      "Bredde: 4\n"
     ]
    },
    {
     "name": "stdout",
     "output_type": "stream",
     "text": [
      "Arealet ble: 12.0\n"
     ]
    },
    {
     "name": "stdin",
     "output_type": "stream",
     "text": [
      "Vil du kjøre en gang til (j/n):  n\n"
     ]
    }
   ],
   "source": [
    "# Program for å beregne arealet av et rektangel\n",
    "\n",
    "enGangTil = 'J' # initialisering \n",
    "while enGangTil == 'J':\n",
    "    hoyde = float(input('Høyde:'))\n",
    "    bredde = float(input('Bredde:'))\n",
    "\n",
    "    areal = hoyde * bredde\n",
    "\n",
    "    print('Arealet ble:', areal)    \n",
    "    igjen = input('Vil du kjøre en gang til (j/n): ') \n",
    "    enGangTil = igjen.upper()\n"
   ]
  },
  {
   "cell_type": "markdown",
   "id": "b3acd18a-7171-43fc-ac72-e0361160a53a",
   "metadata": {},
   "source": [
    "#### Areal av en sirkel"
   ]
  },
  {
   "cell_type": "code",
   "execution_count": 2,
   "id": "f532e9d4-968f-44f0-b1af-c5398cc8cfb5",
   "metadata": {},
   "outputs": [
    {
     "name": "stdin",
     "output_type": "stream",
     "text": [
      "Radien til sirkelen: 3\n"
     ]
    },
    {
     "name": "stdout",
     "output_type": "stream",
     "text": [
      "Arealet av en sirkel med radius 3.0 er 28.274\n"
     ]
    },
    {
     "name": "stdin",
     "output_type": "stream",
     "text": [
      "Vil du kjøre en gang til (j/n):  n\n"
     ]
    }
   ],
   "source": [
    "# Program som beregner arealet av en sirkel\n",
    "import numpy as np\n",
    "\n",
    "enGangTil = 'J' # initialisering \n",
    "while enGangTil == 'J':\n",
    "    radius = float(input('Radien til sirkelen:'))\n",
    "   \n",
    "    areal = np.pi * radius**2\n",
    "    \n",
    "    print('Arealet av en sirkel med radius', radius, 'er', round(areal, 3))\n",
    "       \n",
    "    igjen = input('Vil du kjøre en gang til (j/n): ') \n",
    "    enGangTil = igjen.upper()"
   ]
  },
  {
   "cell_type": "markdown",
   "id": "659ecc58-9bc0-47e7-9b9a-1987809f3e5c",
   "metadata": {},
   "source": [
    "#### Konvertering av temperatur i Celsius til Farenheit"
   ]
  },
  {
   "cell_type": "code",
   "execution_count": 3,
   "id": "31bb7cab-56c1-4c55-89c2-84381393c645",
   "metadata": {},
   "outputs": [
    {
     "name": "stdin",
     "output_type": "stream",
     "text": [
      "Grader i Celsius: 16\n"
     ]
    },
    {
     "name": "stdout",
     "output_type": "stream",
     "text": [
      "Når temperaturen i Celsius er 16.0 er den 60.8 i Farenheit\n"
     ]
    },
    {
     "name": "stdin",
     "output_type": "stream",
     "text": [
      "Vil du kjøre en gang til (j/n):  n\n"
     ]
    }
   ],
   "source": [
    "# Program for å konverterer temperatur i grader Celsius til Farenheit\n",
    "enGangTil = 'J' # initialisering \n",
    "while enGangTil == 'J':\n",
    "    celstemp = float(input('Grader i Celsius:'))\n",
    "    \n",
    "    farntemp = celstemp * 9/5 + 32\n",
    "    \n",
    "    print('Når temperaturen i Celsius er', celstemp, 'er den', round(farntemp, 3), 'i Farenheit')\n",
    "    \n",
    "    igjen = input('Vil du kjøre en gang til (j/n): ') \n",
    "    enGangTil = igjen.upper()"
   ]
  },
  {
   "cell_type": "markdown",
   "id": "ab6abdc7-cdb0-4f2e-bcfb-c59ee7242ca1",
   "metadata": {},
   "source": [
    "### Konvertering fra kartesiske til polare koordinater"
   ]
  },
  {
   "cell_type": "code",
   "execution_count": 4,
   "id": "b6320c99-ea2c-4edf-a476-bcbc6036c152",
   "metadata": {},
   "outputs": [
    {
     "name": "stdout",
     "output_type": "stream",
     "text": [
      "Oppgi et punkt i polarkoordinater\n"
     ]
    },
    {
     "name": "stdin",
     "output_type": "stream",
     "text": [
      "Punktets avstand fra origo: 4\n",
      "Vinkelen mellom x-aksen og linja fra origo til punktet (i grader): 30\n"
     ]
    },
    {
     "name": "stdout",
     "output_type": "stream",
     "text": [
      "\n",
      "x-koordinat: 3.46\n",
      "y-koordinat: 2.0\n"
     ]
    },
    {
     "name": "stdin",
     "output_type": "stream",
     "text": [
      "Vil du kjøre en gang til (j/n):  n\n"
     ]
    }
   ],
   "source": [
    "# program for konverteringen fra polarkoordinater, der vinkelen oppgis i grader, til kartesiske koordinater. \n",
    "\n",
    "import numpy as np\n",
    "\n",
    "enGangTil = 'J' # initialisering \n",
    "while enGangTil == 'J':\n",
    "    print('Oppgi et punkt i polarkoordinater')\n",
    "    avstand = float(input('Punktets avstand fra origo:'))\n",
    "    vinkel = float(input('Vinkelen mellom x-aksen og linja fra origo til punktet (i grader):'))\n",
    "\n",
    "    x_koordinat = avstand * np.cos(vinkel * np.pi/180)\n",
    "    y_koordinat = avstand * np.sin(vinkel * np.pi/180)\n",
    "\n",
    "    print()\n",
    "    print('x-koordinat:', round(x_koordinat, 2))\n",
    "    print('y-koordinat:', round(y_koordinat, 2))\n",
    "    igjen = input('Vil du kjøre en gang til (j/n): ') \n",
    "    enGangTil = igjen.upper()"
   ]
  },
  {
   "cell_type": "code",
   "execution_count": null,
   "id": "6a756837-5fe1-4dc9-aca5-fc1c88cb45cd",
   "metadata": {},
   "outputs": [],
   "source": []
  }
 ],
 "metadata": {
  "kernelspec": {
   "display_name": "Python 3 (ipykernel)",
   "language": "python",
   "name": "python3"
  },
  "language_info": {
   "codemirror_mode": {
    "name": "ipython",
    "version": 3
   },
   "file_extension": ".py",
   "mimetype": "text/x-python",
   "name": "python",
   "nbconvert_exporter": "python",
   "pygments_lexer": "ipython3",
   "version": "3.9.13"
  }
 },
 "nbformat": 4,
 "nbformat_minor": 5
}
