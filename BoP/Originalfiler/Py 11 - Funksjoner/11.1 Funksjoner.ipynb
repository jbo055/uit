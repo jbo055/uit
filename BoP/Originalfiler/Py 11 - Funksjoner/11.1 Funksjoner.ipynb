{
 "cells": [
  {
   "cell_type": "markdown",
   "id": "f1784dc9-51ca-4523-bca4-3e785a96d7e2",
   "metadata": {},
   "source": [
    "## Funksjoner"
   ]
  },
  {
   "cell_type": "markdown",
   "id": "576bb800-d5fe-4d09-be6a-3be397d9a989",
   "metadata": {},
   "source": [
    "Vi har hele veien benyttet funksjoner i koden vår og i 3.4 så vi litt på hvordan de fungerer.  \n",
    "Nå skal vi lære å lage egne funksjoner.  \n",
    "\n",
    "Før du går videre bør du studere dokumentet Py 11 Funksjoner - Gjennomgang.pdf. Der får du vite om hensikt, regler, oppbygging med mer. Rett og slett teorien du trenger. "
   ]
  },
  {
   "cell_type": "markdown",
   "id": "7a26fc38-e02f-4b62-8d9e-552538739db7",
   "metadata": {},
   "source": [
    "Her er funksjonen fra ekempelet i pdf-fila:"
   ]
  },
  {
   "cell_type": "code",
   "execution_count": 1,
   "id": "ebd9cd78-26d1-4f42-bfd2-3c425225a305",
   "metadata": {},
   "outputs": [],
   "source": [
    "def hypotenus(katet1, katet2):\n",
    "    ''' \n",
    "    beregner lengde av hypotenusen i en rettvinklet trekant \n",
    "    lengdene av katetene må oppgis som parameter \n",
    "    '''\n",
    "    from math import sqrt\n",
    "    return sqrt(katet1**2 + katet2**2) # Bruker pytagoras"
   ]
  },
  {
   "cell_type": "markdown",
   "id": "72d17100-3c73-4364-93b6-1aca33299104",
   "metadata": {},
   "source": [
    "Når vi kjører cella med definisjonen av funksjonen skjer det tilsynelatende ingen ting. Men det er nødvendig å gjøre for at den skal være klar til bruk fra en annen celle.  \n",
    "\n",
    "Før vi bruker en funksjonen vi ikke kjenner godt kan det være lurt å sjekke hjelpeteksten. Da skjønner vi litt bedre hensikten med å skrive gode docstring."
   ]
  },
  {
   "cell_type": "code",
   "execution_count": 2,
   "id": "e7b55423-1d0e-45c0-8f5a-1a67a66df436",
   "metadata": {},
   "outputs": [
    {
     "name": "stdout",
     "output_type": "stream",
     "text": [
      "Help on function hypotenus in module __main__:\n",
      "\n",
      "hypotenus(katet1, katet2)\n",
      "    beregner lengde av hypotenusen i en rettvinklet trekant \n",
      "    lengdene av katetene må oppgis som parameter\n",
      "\n"
     ]
    }
   ],
   "source": [
    "help(hypotenus)"
   ]
  },
  {
   "cell_type": "markdown",
   "id": "1f440cf0-48c4-4af9-ba7a-ed8a9409381e",
   "metadata": {},
   "source": [
    "I testkoden brukes programløkke og innlesing fra bruker."
   ]
  },
  {
   "cell_type": "code",
   "execution_count": 3,
   "id": "25ebf0a0-63cc-4a4d-8cf7-37cc277ee351",
   "metadata": {},
   "outputs": [
    {
     "name": "stdin",
     "output_type": "stream",
     "text": [
      "lengde på katet1: 3\n",
      "lengde på katet2: 4\n"
     ]
    },
    {
     "name": "stdout",
     "output_type": "stream",
     "text": [
      "hypotenusen til en rettviklet trekant med katetene 3.0 og 4.0 er 5.0\n"
     ]
    },
    {
     "name": "stdin",
     "output_type": "stream",
     "text": [
      "Vil du kjøre en gang til (j/n):  n\n"
     ]
    }
   ],
   "source": [
    "enGangTil = 'J' # initialisering \n",
    "while enGangTil == 'J':\n",
    "    kat1 = float(input('lengde på katet1:'))\n",
    "    kat2 = float(input('lengde på katet2:'))\n",
    "    \n",
    "    hyp = hypotenus(kat1, kat2)\n",
    "    \n",
    "    print('hypotenusen til en rettviklet trekant med katetene', kat1, 'og', kat2, 'er', hyp)\n",
    "    \n",
    "    igjen = input('Vil du kjøre en gang til (j/n): ') \n",
    "    enGangTil = igjen.upper()"
   ]
  },
  {
   "cell_type": "markdown",
   "id": "d2ac1c7a-072f-457d-b5b2-c48cc1ff0087",
   "metadata": {},
   "source": [
    "Vi kan nå se vilke variable vi har brukt og innhold/type"
   ]
  },
  {
   "cell_type": "code",
   "execution_count": 4,
   "id": "93cbaf66-c874-4480-9dfc-a017e9847590",
   "metadata": {},
   "outputs": [
    {
     "name": "stdout",
     "output_type": "stream",
     "text": [
      "Variable    Type        Data/Info\n",
      "---------------------------------\n",
      "enGangTil   str         N\n",
      "hyp         float       5.0\n",
      "hypotenus   function    <function hypotenus at 0x7f40607a13a0>\n",
      "igjen       str         n\n",
      "kat1        float       3.0\n",
      "kat2        float       4.0\n"
     ]
    }
   ],
   "source": [
    "%whos"
   ]
  },
  {
   "cell_type": "markdown",
   "id": "604cc0a8-4a2e-486c-84e2-983f0e2e92b0",
   "metadata": {},
   "source": [
    "Vi ser at de formelle parametrene i funksjonen ikke blir listet opp av ***%whos***. Det er fordi de bare er gyldige i selve funksjonen. Det samme vil gjelde for variabler som defineres i funksjonen. Det samme gjelder motatt vei. Variabler vi har detfinert ellers i programmet/notatboken er ikke gyldig i funksjonen."
   ]
  },
  {
   "cell_type": "markdown",
   "id": "84bbe463-5153-4e57-b4b6-75bdcb9d4fa2",
   "metadata": {},
   "source": [
    "I de neste notatbøkene vises flere eksempler. Først en med eksemplene uten bruk av funksjoner, så med funksjoner. Til sist komer en notatbok med oppgaver"
   ]
  },
  {
   "cell_type": "code",
   "execution_count": null,
   "id": "31f346e2-d444-4d14-9131-a0ae26e00e57",
   "metadata": {},
   "outputs": [],
   "source": []
  }
 ],
 "metadata": {
  "kernelspec": {
   "display_name": "Python 3 (ipykernel)",
   "language": "python",
   "name": "python3"
  },
  "language_info": {
   "codemirror_mode": {
    "name": "ipython",
    "version": 3
   },
   "file_extension": ".py",
   "mimetype": "text/x-python",
   "name": "python",
   "nbconvert_exporter": "python",
   "pygments_lexer": "ipython3",
   "version": "3.9.13"
  }
 },
 "nbformat": 4,
 "nbformat_minor": 5
}
