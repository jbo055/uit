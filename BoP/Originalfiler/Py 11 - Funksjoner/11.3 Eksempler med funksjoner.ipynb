{
 "cells": [
  {
   "cell_type": "markdown",
   "id": "021ff5cc-961b-4639-93a6-6964c54b793c",
   "metadata": {},
   "source": [
    "## Eksempler med bruk av funksjoner"
   ]
  },
  {
   "cell_type": "markdown",
   "id": "6c34fbbb-0e0e-415a-9181-fa6595a145f3",
   "metadata": {
    "tags": []
   },
   "source": [
    "Vi skal nå se hvordan vi kan bruke funksjoner til å gjøre selve beregningene i de samme eksemplene som vi så i **11.2**.  \n",
    "\n",
    "Ved første øyekast kan det se ut som om vi bare får unødvendig mye mer kode å skrive. Men det har flere fordeler:  \n",
    "- En gang programmert, testet og dokumentert\n",
    "- Vet at de virker, trenger ikke å huske/vite hvordan\n",
    "- Trenger ikke tenke på hva formelen er hver gang vi har bruk for den\n",
    "- Formelle parametre og interne variable er uavhengig av det vi skriver i koden som skal bruke den\n",
    "- Kan inngå i verktøykassen vår\n",
    "\n",
    "Kjør programmene flere ganger med forskjellige verdier. Studer koden og resultatene. Husk at funksjonen må kjøres før testprogrammet selv om det tilsynelatende ikke skjer noe da."
   ]
  },
  {
   "cell_type": "markdown",
   "id": "7339795e-8d1c-4fca-9684-bcbb8ba8b72b",
   "metadata": {},
   "source": [
    "#### Areal av rektangel"
   ]
  },
  {
   "cell_type": "code",
   "execution_count": 1,
   "id": "26ca8605-ec6a-41d3-9763-955d9e0d8ab8",
   "metadata": {
    "tags": []
   },
   "outputs": [],
   "source": [
    "def flateAreal(h, b):\n",
    "    '''\n",
    "    flateareal beregner arealet av en rektangulær flate\n",
    "    Parametre: høyde og bredde\n",
    "    \n",
    "    Returverdi: arealet av rektanglet\n",
    "    '''\n",
    "    return h * b"
   ]
  },
  {
   "cell_type": "code",
   "execution_count": 2,
   "id": "ee2db79a-61d7-48b5-aecc-05b8a18b2b66",
   "metadata": {},
   "outputs": [
    {
     "name": "stdin",
     "output_type": "stream",
     "text": [
      "Høyde: 3\n",
      "Bredde: 4\n"
     ]
    },
    {
     "name": "stdout",
     "output_type": "stream",
     "text": [
      "Arealet ble: 12.0\n"
     ]
    }
   ],
   "source": [
    "# Testprogram for funksjonen flateareal()\n",
    "\n",
    "hoyde = float(input('Høyde:'))\n",
    "bredde = float(input('Bredde:'))\n",
    "\n",
    "areal = flateAreal (hoyde, bredde)\n",
    "\n",
    "print('Arealet ble:', areal)"
   ]
  },
  {
   "cell_type": "markdown",
   "id": "171998fd-af17-43fb-88ff-dae11aa44468",
   "metadata": {},
   "source": [
    "#### Areal av en sirkel"
   ]
  },
  {
   "cell_type": "code",
   "execution_count": 3,
   "id": "0154d076-d114-447f-b078-86fa76c9d1af",
   "metadata": {},
   "outputs": [],
   "source": [
    "# funksjon som beregner arealet av en sirkel \n",
    "def sirkelareal_r(radi):\n",
    "    '''\n",
    "    sirkelareal_r beregner arealet av en sirkel ut fra radius\n",
    "    Den brukes også for å beregne bunn-/grunnflata i en sylinder\n",
    "    \n",
    "    Parameter: radius\n",
    "    \n",
    "    Returverdi: arealet av sirkelen\n",
    "    '''\n",
    "    \n",
    "    from math import pi\n",
    "    \n",
    "    return pi* radi**2"
   ]
  },
  {
   "cell_type": "markdown",
   "id": "ab445562-68f5-49da-bf8b-4f281551af5b",
   "metadata": {},
   "source": [
    "Vi lager likegodt også en funksjon som beregner arealet av en sirkel med utgangspunkt i diameteren."
   ]
  },
  {
   "cell_type": "code",
   "execution_count": 4,
   "id": "59f67834-d40b-4ffb-8312-9c10c763f6fe",
   "metadata": {},
   "outputs": [],
   "source": [
    "# funksjon som beregner arealet av en sirkel \n",
    "def sirkelareal_d(diam):\n",
    "    '''\n",
    "    sirkelareal_d beregner arealet av en sirkel ut fra diameteren\n",
    "    Den brukes også for å beregne bunn-/grunnflata i en sylinder\n",
    "    \n",
    "    Parameter: diameter\n",
    "    \n",
    "    Returverdi: arealet av sirkelen    \n",
    "    '''\n",
    "    \n",
    "    from math import pi\n",
    "    \n",
    "    return pi* (diam/2)**2"
   ]
  },
  {
   "cell_type": "code",
   "execution_count": 5,
   "id": "ec48f452-5c4d-4561-a5ce-f2ff3682a3c5",
   "metadata": {},
   "outputs": [
    {
     "name": "stdin",
     "output_type": "stream",
     "text": [
      "Radien til sirkelen: 2\n"
     ]
    },
    {
     "name": "stdout",
     "output_type": "stream",
     "text": [
      "Arealet av en sirkel med radius 2.0 er 12.566\n"
     ]
    },
    {
     "name": "stdin",
     "output_type": "stream",
     "text": [
      "Vil du kjøre en gang til (j/n):  n\n"
     ]
    }
   ],
   "source": [
    "# Program som beregner arealet av en sirkel\n",
    "import numpy as np\n",
    "\n",
    "enGangTil = 'J' # initialisering \n",
    "while enGangTil == 'J':\n",
    "    radius = float(input('Radien til sirkelen:'))\n",
    "   \n",
    "    areal = sirkelareal_r(radius)\n",
    "    \n",
    "    print('Arealet av en sirkel med radius', radius, 'er', round(areal, 3))\n",
    "    \n",
    "    igjen = input('Vil du kjøre en gang til (j/n): ') \n",
    "    enGangTil = igjen.upper()"
   ]
  },
  {
   "cell_type": "markdown",
   "id": "097c2cb4-639e-45f2-83f2-34120a755a87",
   "metadata": {},
   "source": [
    "#### Konvertering av temperatur i Celsius til Farenheit"
   ]
  },
  {
   "cell_type": "code",
   "execution_count": 6,
   "id": "4a0eee4f-3ea1-4a13-b7e0-c25329e925c6",
   "metadata": {},
   "outputs": [],
   "source": [
    "def c2f(celsiustemp):\n",
    "    ''' \n",
    "    Konverterer fra grader Celsius til Fahrenheit  \n",
    "    \n",
    "    Parameter: Temperatur i Celsius\n",
    "    \n",
    "    Returnerer: Temperatur i Farenheit\n",
    "    '''\n",
    "    return celsiustemp * 9/5 + 32"
   ]
  },
  {
   "cell_type": "code",
   "execution_count": 7,
   "id": "2284ab45-9c1d-4569-bed9-fd006c0ed89d",
   "metadata": {},
   "outputs": [
    {
     "name": "stdin",
     "output_type": "stream",
     "text": [
      "Grader i Celsius: 16\n"
     ]
    },
    {
     "name": "stdout",
     "output_type": "stream",
     "text": [
      "Når temperaturen i Celsius er 16.0 er den 60.8 i Farenheit\n"
     ]
    },
    {
     "name": "stdin",
     "output_type": "stream",
     "text": [
      "Vil du kjøre en gang til (j/n):  n\n"
     ]
    }
   ],
   "source": [
    "# Program for å teste funksjonen som konverterer temperatur i grader Celsius til Farenheit\n",
    "enGangTil = 'J' # initialisering \n",
    "while enGangTil == 'J':\n",
    "    celstemp = float(input('Grader i Celsius:'))\n",
    "    \n",
    "    farntemp = c2f(celstemp)\n",
    "    \n",
    "    print('Når temperaturen i Celsius er', celstemp, 'er den', round(farntemp, 3), 'i Farenheit')\n",
    "    \n",
    "    igjen = input('Vil du kjøre en gang til (j/n): ') \n",
    "    enGangTil = igjen.upper()"
   ]
  },
  {
   "cell_type": "markdown",
   "id": "dce906cf-a6bb-4350-9bba-f666b508c8c1",
   "metadata": {},
   "source": [
    "### Konvertering fra kartesiske til polare koordinater"
   ]
  },
  {
   "cell_type": "markdown",
   "id": "1e0e5039-eee3-47f0-a356-771bf082943e",
   "metadata": {},
   "source": [
    "Her er det definert en funksjon for konverteringen fra polarkoordinater, der vinkelen oppgis i grader, til kartesiske koordinater. "
   ]
  },
  {
   "cell_type": "code",
   "execution_count": 8,
   "id": "2ac18d3a-9db7-42fe-884f-3430ecce1267",
   "metadata": {},
   "outputs": [],
   "source": [
    "def polar2kart_deg(lengden, vinkelen):\n",
    "    '''\n",
    "    konverterer polarkoordinater for et punkt til x og y-verdier\n",
    "    \n",
    "    Første parameter (lengden):\n",
    "        Avstanden fra origo til punktet\n",
    "        eventuelt vektorens lengde\n",
    "    Andre parameter (vinkelen) i grader:\n",
    "        vinkelen mellom linja fra origo til punktet og x-aken\n",
    "    \n",
    "    Returnerer en tuple med to elementer\n",
    "        Førte element er x-verdi\n",
    "        Andre element er y-verdi\n",
    "    '''\n",
    "    import numpy as np\n",
    "    x_verdi = lengden * np.cos(vinkelen * np.pi/180)\n",
    "    y_verdi = lengden * np.sin(vinkelen * np.pi/180)\n",
    "    kartesisk = (x_verdi, y_verdi)  # Kartesisk blir av datatypen tuple\n",
    "    \n",
    "    return kartesisk"
   ]
  },
  {
   "cell_type": "code",
   "execution_count": 9,
   "id": "cf8db973-c962-45dd-b713-be2e138c4c72",
   "metadata": {},
   "outputs": [
    {
     "name": "stdout",
     "output_type": "stream",
     "text": [
      "Oppgi et punkt i polarkoordinater\n"
     ]
    },
    {
     "name": "stdin",
     "output_type": "stream",
     "text": [
      "Punktets avstand fra origo: 4\n",
      "Vinkelen mellom x-aksen og linja fra origo til punktet (i grader): 30\n"
     ]
    },
    {
     "name": "stdout",
     "output_type": "stream",
     "text": [
      "\n",
      "x-koordinat: 3.46\n",
      "y-koordinat: 2.0\n"
     ]
    }
   ],
   "source": [
    "print('Oppgi et punkt i polarkoordinater')\n",
    "avstand = float(input('Punktets avstand fra origo:'))\n",
    "vinkel = float(input('Vinkelen mellom x-aksen og linja fra origo til punktet (i grader):'))\n",
    "xogy = polar2kart_deg(avstand, vinkel) # xog y er en tuple med to verdier\n",
    "\n",
    "x_koordinat = xogy[0] # x-verdi har indeks 0 i xogy\n",
    "y_koordinat = xogy[1] # y-verdi har indeks 1 i xogy\n",
    "\n",
    "print()\n",
    "print('x-koordinat:', round(x_koordinat, 2))\n",
    "print('y-koordinat:', round(y_koordinat, 2))"
   ]
  },
  {
   "cell_type": "markdown",
   "id": "a30e65fe-72e1-4386-81ea-0a315b2e29e4",
   "metadata": {},
   "source": []
  }
 ],
 "metadata": {
  "kernelspec": {
   "display_name": "Python 3 (ipykernel)",
   "language": "python",
   "name": "python3"
  },
  "language_info": {
   "codemirror_mode": {
    "name": "ipython",
    "version": 3
   },
   "file_extension": ".py",
   "mimetype": "text/x-python",
   "name": "python",
   "nbconvert_exporter": "python",
   "pygments_lexer": "ipython3",
   "version": "3.9.13"
  }
 },
 "nbformat": 4,
 "nbformat_minor": 5
}
