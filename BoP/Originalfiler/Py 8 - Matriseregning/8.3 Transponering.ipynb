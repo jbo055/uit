{
 "cells": [
  {
   "cell_type": "markdown",
   "id": "08bf3ccb-375d-4b3e-a579-509a603a4060",
   "metadata": {},
   "source": [
    "## Transponering av matriser"
   ]
  },
  {
   "cell_type": "markdown",
   "id": "c0a203df-fa38-4378-b53c-4f801a5801ed",
   "metadata": {},
   "source": [
    "Transponering vil si å gjøre rader om til kolonner og kolonner om til rader.  \n",
    "En annen måte å si det på er at man speiler matrisa om hoveddiagonalen.  \n",
    " \n",
    "Dette er en operasjon som man ofte støter på i matriseregning og som derfor er nødvendig for å kunne jobbe med matriser via python."
   ]
  },
  {
   "cell_type": "markdown",
   "id": "203c88ca-0877-431b-a13b-3a8650ad61ea",
   "metadata": {},
   "source": [
    "numpy har to måter å gjøre dette på. Den ene er funksjonen ```transpose()``` og den andre er atributten ```.T```  \n",
    "De gir i utgangspunktet samme resultat. Funksjonen har noen flere muligheter som vi ikke skal komme inn på.\n"
   ]
  },
  {
   "cell_type": "code",
   "execution_count": 1,
   "id": "6ba6f250-dc95-48e2-b280-9f11a396c086",
   "metadata": {},
   "outputs": [
    {
     "name": "stdout",
     "output_type": "stream",
     "text": [
      "[[1 2 3]\n",
      " [4 5 6]\n",
      " [7 8 9]]\n"
     ]
    }
   ],
   "source": [
    "import numpy as np\n",
    "\n",
    "x = np.array([[1, 2, 3], [4, 5, 6], [7, 8, 9]])\n",
    "print(x)"
   ]
  },
  {
   "cell_type": "code",
   "execution_count": 2,
   "id": "81cf5bbd-70e5-4e70-b5f9-22675c46bd02",
   "metadata": {},
   "outputs": [
    {
     "name": "stdout",
     "output_type": "stream",
     "text": [
      "[[1 4 7]\n",
      " [2 5 8]\n",
      " [3 6 9]]\n"
     ]
    }
   ],
   "source": [
    "y = x.T\n",
    "print(y)"
   ]
  },
  {
   "cell_type": "code",
   "execution_count": 3,
   "id": "4a2e648b-2f08-4bd5-92bb-f9c6cee47b5d",
   "metadata": {},
   "outputs": [
    {
     "name": "stdout",
     "output_type": "stream",
     "text": [
      "[[1 2 3]\n",
      " [4 5 6]\n",
      " [7 8 9]]\n"
     ]
    }
   ],
   "source": [
    "z = np.transpose(y)\n",
    "print(z)"
   ]
  },
  {
   "cell_type": "markdown",
   "id": "dd7bc14a-0770-46e3-8094-ce2ff2df5476",
   "metadata": {},
   "source": [
    "Som vi ser får vi den opprinnelige array tilbake om man transponerer den to ganger."
   ]
  },
  {
   "cell_type": "markdown",
   "id": "b6e36abb-c931-4bbc-a1ed-49a7df3c4a23",
   "metadata": {},
   "source": [
    "I matematikken er det ofte nødvendig å transponere kolonne og radvektorer for å kunne gjøre de ønskede operasjoner. I python skilles det ikke på om en 1D-array er rad- eller kolonne-vektor og transponering har ingen virkning.  "
   ]
  },
  {
   "cell_type": "code",
   "execution_count": 4,
   "id": "ee628940-6352-4080-b52f-f6f26e9d974b",
   "metadata": {},
   "outputs": [
    {
     "name": "stdout",
     "output_type": "stream",
     "text": [
      "[1 2 3 5]\n"
     ]
    }
   ],
   "source": [
    "y = np.array([1, 2, 3, 5])\n",
    "z = y.T\n",
    "print(z)"
   ]
  },
  {
   "cell_type": "code",
   "execution_count": null,
   "id": "968b8b51-01b4-4cd3-8180-51b6a464e7e4",
   "metadata": {},
   "outputs": [],
   "source": []
  }
 ],
 "metadata": {
  "kernelspec": {
   "display_name": "Python 3 (ipykernel)",
   "language": "python",
   "name": "python3"
  },
  "language_info": {
   "codemirror_mode": {
    "name": "ipython",
    "version": 3
   },
   "file_extension": ".py",
   "mimetype": "text/x-python",
   "name": "python",
   "nbconvert_exporter": "python",
   "pygments_lexer": "ipython3",
   "version": "3.9.13"
  }
 },
 "nbformat": 4,
 "nbformat_minor": 5
}
