{
 "cells": [
  {
   "cell_type": "markdown",
   "id": "a7910a82-9a0d-486c-8128-5464ce282740",
   "metadata": {},
   "source": [
    "## Opprettesle av spesielle matriser"
   ]
  },
  {
   "cell_type": "markdown",
   "id": "e5d5ceaa-d53d-465e-ac60-bb1719643473",
   "metadata": {},
   "source": [
    "I matriseregning har vi noen ganger bruk for spesielle typer matriser. Matriser med et bestemt innhold. Årsaken til dette er at de har spesielle egenskaper.\n",
    "\n",
    "numpy har egne funksjoner for å opprette disse.  \n",
    "\n",
    "> Matrise med enere.  ```numpy.ones()```  \n",
    "> Matrise med nullere.  ```numpy.zeros()```  \n",
    "> Matrise med en fast verdi.  ```numpy.full()```  \n",
    "> Identitetsmatrise.  ```numpy.identity()```  \n"
   ]
  },
  {
   "cell_type": "markdown",
   "id": "ec35de37-85fc-4140-a200-b8d2f1b8f6b3",
   "metadata": {},
   "source": [
    "De tre første gir matriser der alle elementer er lik: en, null eller en oppgitt verdi.  \n",
    "For de tre første må man oppgi form/størrelse (shape).  \n",
    "Skal matrisa være 1-dimensjonal setter man antall elementer i parentesen.  \n",
    "Ønsker man en 2-dimensjonal matrise spesifiseres henholdsvis anall rader og kolonner som to verdier skilt med komma i en egen parentes.  \n",
    "\n",
    "Identitetsmarisa er alltid kvadratisk. Der bruker man bare en verdi som parameter.  \n",
    "\n",
    "De matrisene man får som resultat inneholder som standard flyttall. Hvis man vil at verdiene sial være heltall setter man komma etter størrelsen og skriver   ```dtype=int``` "
   ]
  },
  {
   "cell_type": "code",
   "execution_count": 1,
   "id": "b30270d7-1ce4-462e-b25d-690955651aab",
   "metadata": {},
   "outputs": [
    {
     "data": {
      "text/plain": [
       "array([1., 1., 1., 1.])"
      ]
     },
     "execution_count": 1,
     "metadata": {},
     "output_type": "execute_result"
    }
   ],
   "source": [
    "import numpy as np\n",
    "\n",
    "np.ones(4)\n",
    "\n"
   ]
  },
  {
   "cell_type": "code",
   "execution_count": 2,
   "id": "e3de414b-675b-4cf8-a5bc-4ebb99c3aa76",
   "metadata": {},
   "outputs": [
    {
     "data": {
      "text/plain": [
       "array([[1, 1, 1],\n",
       "       [1, 1, 1],\n",
       "       [1, 1, 1],\n",
       "       [1, 1, 1]])"
      ]
     },
     "execution_count": 2,
     "metadata": {},
     "output_type": "execute_result"
    }
   ],
   "source": [
    "np.ones((4,3), dtype=int)\n",
    "\n"
   ]
  },
  {
   "cell_type": "code",
   "execution_count": 3,
   "id": "4c11f20f-0dd0-457a-af4f-ccd790d0e5b6",
   "metadata": {},
   "outputs": [
    {
     "data": {
      "text/plain": [
       "array([[0., 0., 0., 0.],\n",
       "       [0., 0., 0., 0.],\n",
       "       [0., 0., 0., 0.],\n",
       "       [0., 0., 0., 0.]])"
      ]
     },
     "execution_count": 3,
     "metadata": {},
     "output_type": "execute_result"
    }
   ],
   "source": [
    "np.zeros((4,4))\n"
   ]
  },
  {
   "cell_type": "code",
   "execution_count": 4,
   "id": "2f4b999c-8fe8-4cf8-8cea-160742388b12",
   "metadata": {},
   "outputs": [
    {
     "data": {
      "text/plain": [
       "array([[34, 34, 34, 34],\n",
       "       [34, 34, 34, 34],\n",
       "       [34, 34, 34, 34]])"
      ]
     },
     "execution_count": 4,
     "metadata": {},
     "output_type": "execute_result"
    }
   ],
   "source": [
    "np.full((3,4), 34)"
   ]
  },
  {
   "cell_type": "markdown",
   "id": "739491ba-c064-4eb5-b5af-be8799d34c48",
   "metadata": {},
   "source": [
    "#### Identitetsmatrise"
   ]
  },
  {
   "cell_type": "markdown",
   "id": "fafcdb63-48bb-426e-a60a-9bc4825f3337",
   "metadata": {},
   "source": [
    "Oppretter en kvadratisk array der det er 1 langs hoveddiagonalen mens de andre elementene er 0.  \n",
    "Her trenger vi bare en verdi for å angi størrelsen.  \n",
    "> Legg merke til at for identitetsmatrise gir størrelse n en n x n matrise mens for de andre vil den gi en 1 x n matrise."
   ]
  },
  {
   "cell_type": "code",
   "execution_count": 5,
   "id": "c7f11e5e-f7b9-4cf0-8a1d-bf2e2308dcda",
   "metadata": {},
   "outputs": [
    {
     "data": {
      "text/plain": [
       "array([[1., 0., 0., 0., 0.],\n",
       "       [0., 1., 0., 0., 0.],\n",
       "       [0., 0., 1., 0., 0.],\n",
       "       [0., 0., 0., 1., 0.],\n",
       "       [0., 0., 0., 0., 1.]])"
      ]
     },
     "execution_count": 5,
     "metadata": {},
     "output_type": "execute_result"
    }
   ],
   "source": [
    "np.identity(5)\n",
    "#what type of array is this? float int or bool\n",
    "#"
   ]
  },
  {
   "cell_type": "markdown",
   "id": "8a0a1cd0-2bee-4109-9429-c6c4c16f5184",
   "metadata": {},
   "source": [
    "For mer informasjon og flere rutiner for oppretting se:\n",
    "https://numpy.org/doc/stable/reference/routines.array-creation.html"
   ]
  },
  {
   "cell_type": "code",
   "execution_count": null,
   "id": "ad135d2b-5f72-4751-a9a1-b3779b480c93",
   "metadata": {},
   "outputs": [],
   "source": []
  }
 ],
 "metadata": {
  "kernelspec": {
   "display_name": "Python 3 (ipykernel)",
   "language": "python",
   "name": "python3"
  },
  "language_info": {
   "codemirror_mode": {
    "name": "ipython",
    "version": 3
   },
   "file_extension": ".py",
   "mimetype": "text/x-python",
   "name": "python",
   "nbconvert_exporter": "python",
   "pygments_lexer": "ipython3",
   "version": "3.9.13"
  }
 },
 "nbformat": 4,
 "nbformat_minor": 5
}
