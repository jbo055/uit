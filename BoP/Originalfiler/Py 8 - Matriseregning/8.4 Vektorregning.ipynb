{
 "cells": [
  {
   "cell_type": "markdown",
   "id": "346d069b-57c9-47d2-8c3e-0635ef53539d",
   "metadata": {},
   "source": [
    "## Vektorregning"
   ]
  },
  {
   "cell_type": "markdown",
   "id": "604f4f94-c1ec-4718-870c-2491b470a2aa",
   "metadata": {},
   "source": [
    "Fra vektorregning er det prikkprodukt og kryssprodukt vi skal se hvordan vi gjør i Python. Definisjoner overlates til matematikkfaget.  "
   ]
  },
  {
   "cell_type": "markdown",
   "id": "daeca28c-c29b-40a0-9fd2-661971fd7bc8",
   "metadata": {},
   "source": [
    "### prikkprodukt"
   ]
  },
  {
   "cell_type": "markdown",
   "id": "72bff509-710b-4489-85dc-4caeec0b3cef",
   "metadata": {},
   "source": [
    "Prikkproduktet (Dot product) eller skalarprodukt er definert for vektorer (1D-matriser/arrsys) av samme størrelser. Det gir en skalar som resultat.  \n",
    "\n",
    "For å beregne prikkproduktet i python bruker man funksjonen ```numpy.dot()```"
   ]
  },
  {
   "cell_type": "code",
   "execution_count": 1,
   "id": "9b508ac3-d017-4e82-8148-d1d9984ebcf9",
   "metadata": {},
   "outputs": [
    {
     "data": {
      "text/plain": [
       "39"
      ]
     },
     "execution_count": 1,
     "metadata": {},
     "output_type": "execute_result"
    }
   ],
   "source": [
    "import numpy as np\n",
    "\n",
    "x = np.array([2, 3, 5])\n",
    "y = np.array([6, 4, 3])\n",
    "\n",
    "np.dot(x, y)"
   ]
  },
  {
   "cell_type": "markdown",
   "id": "8e3a06e6-7cda-45e3-b228-dae6c6329e1e",
   "metadata": {},
   "source": [
    "### Kryssprodukt"
   ]
  },
  {
   "cell_type": "markdown",
   "id": "82a81ded-61c2-4268-8ca0-c606af5eaf7e",
   "metadata": {},
   "source": [
    "Kryssproduktet (Dot product) eller vektorprodukt er definert for vektorer (1D-matriser/arrsys) i 2D- eller 3D-rom. Det vil si enten 2 eller 3 elementer. Det gir en vektor med like mange elementer som resultat.\n",
    "\n",
    "For å beregne kryssproduktet i python bruker man funksjonen numpy.cross()"
   ]
  },
  {
   "cell_type": "code",
   "execution_count": 2,
   "id": "e802d7c5-5732-4717-8d55-7aab51cec14c",
   "metadata": {},
   "outputs": [
    {
     "data": {
      "text/plain": [
       "array([-11,  24, -10])"
      ]
     },
     "execution_count": 2,
     "metadata": {},
     "output_type": "execute_result"
    }
   ],
   "source": [
    "np.cross(x, y)"
   ]
  },
  {
   "cell_type": "code",
   "execution_count": null,
   "id": "620b657f-e4b7-49fa-8b7e-48eb4f6e3b6b",
   "metadata": {},
   "outputs": [],
   "source": []
  }
 ],
 "metadata": {
  "kernelspec": {
   "display_name": "Python 3 (ipykernel)",
   "language": "python",
   "name": "python3"
  },
  "language_info": {
   "codemirror_mode": {
    "name": "ipython",
    "version": 3
   },
   "file_extension": ".py",
   "mimetype": "text/x-python",
   "name": "python",
   "nbconvert_exporter": "python",
   "pygments_lexer": "ipython3",
   "version": "3.9.13"
  }
 },
 "nbformat": 4,
 "nbformat_minor": 5
}
