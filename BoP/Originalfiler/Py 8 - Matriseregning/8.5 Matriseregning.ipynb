{
 "cells": [
  {
   "cell_type": "markdown",
   "id": "e9ceba49-a06a-4434-a9ef-3faab4321d91",
   "metadata": {},
   "source": [
    "## Matrisergning"
   ]
  },
  {
   "cell_type": "markdown",
   "id": "23bf26d5-ee08-4e28-9808-3ce272d5a259",
   "metadata": {},
   "source": [
    "For matriseregning skal vi bare se på multiplikasjon."
   ]
  },
  {
   "cell_type": "markdown",
   "id": "c91af8f5-9a13-4714-b3b6-48ac867cfbe6",
   "metadata": {},
   "source": [
    "Produktet av to matriser er definert for to matriser av multiplikasjonskonforme størrelser. Det vil si at antall kolonner i a må være lik antall rader i b.  \n",
    "\n",
    "Vi kan enten bruke operatoren ```@``` eller funksjonen ```numpy.matmul()``` for å utføre matrisemultiplikasjonen"
   ]
  },
  {
   "cell_type": "code",
   "execution_count": 2,
   "id": "0ba807e0-c2bc-467c-8ae1-3e141af49afa",
   "metadata": {},
   "outputs": [
    {
     "data": {
      "text/plain": [
       "array([[13, 10, 13, 10],\n",
       "       [17, 10, 17, 10]])"
      ]
     },
     "execution_count": 2,
     "metadata": {},
     "output_type": "execute_result"
    }
   ],
   "source": [
    "import numpy as np\n",
    "\n",
    "a = np.array([[2, 3, 2], [3, 2, 3]])\n",
    "b = np.array([[3, 1, 3, 1], [1, 2, 1, 2], [2, 1, 2, 1]])\n",
    "a @ b"
   ]
  },
  {
   "cell_type": "markdown",
   "id": "d5ac9942-c1f4-44e3-b58c-33683efb8cc4",
   "metadata": {},
   "source": [
    "Med litt spesielle verdier i matrisene blir resultatet også litt spesielt."
   ]
  },
  {
   "cell_type": "markdown",
   "id": "9af0774c-329c-4a62-b928-606a0f92bc76",
   "metadata": {},
   "source": [
    "Produktet mellom en matrise og en passende identitetsmatrise er (den første) matrisa (uendret)"
   ]
  },
  {
   "cell_type": "code",
   "execution_count": 3,
   "id": "bf397719-8ec9-4103-af5a-fb44876c0a94",
   "metadata": {},
   "outputs": [
    {
     "data": {
      "text/plain": [
       "array([[2, 3, 2],\n",
       "       [3, 2, 3]])"
      ]
     },
     "execution_count": 3,
     "metadata": {},
     "output_type": "execute_result"
    }
   ],
   "source": [
    "i3 = np.identity(3, dtype=int)\n",
    "np.matmul(a, i3)"
   ]
  },
  {
   "cell_type": "markdown",
   "id": "07df1481-0cb0-4275-86c4-f044a2ab8107",
   "metadata": {},
   "source": [
    "Produktet mellom en matrise og en passende matrise med bare enere gir en matrise der Alle elementene på hver rad er lik summen av elemetene på den raden i den første matrisa."
   ]
  },
  {
   "cell_type": "code",
   "execution_count": 4,
   "id": "ba5278ee-cd39-4083-94e1-d6a85b44d9ea",
   "metadata": {},
   "outputs": [
    {
     "data": {
      "text/plain": [
       "array([[7., 7., 7.],\n",
       "       [8., 8., 8.]])"
      ]
     },
     "execution_count": 4,
     "metadata": {},
     "output_type": "execute_result"
    }
   ],
   "source": [
    "o3 = np.ones((3,3))\n",
    "a @ o3"
   ]
  },
  {
   "cell_type": "code",
   "execution_count": null,
   "id": "2e5a07de-e8df-4f5b-804f-b83a06cd399d",
   "metadata": {},
   "outputs": [],
   "source": []
  }
 ],
 "metadata": {
  "kernelspec": {
   "display_name": "Python 3 (ipykernel)",
   "language": "python",
   "name": "python3"
  },
  "language_info": {
   "codemirror_mode": {
    "name": "ipython",
    "version": 3
   },
   "file_extension": ".py",
   "mimetype": "text/x-python",
   "name": "python",
   "nbconvert_exporter": "python",
   "pygments_lexer": "ipython3",
   "version": "3.9.13"
  }
 },
 "nbformat": 4,
 "nbformat_minor": 5
}
