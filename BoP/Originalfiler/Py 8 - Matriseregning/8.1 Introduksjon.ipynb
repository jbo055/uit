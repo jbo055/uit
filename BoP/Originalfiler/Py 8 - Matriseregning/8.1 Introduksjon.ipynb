{
 "cells": [
  {
   "cell_type": "markdown",
   "id": "53bd3520-5366-4a67-bff1-c6f29c3654b4",
   "metadata": {},
   "source": [
    "## Vektor og mariseregning – Introduksjon"
   ]
  },
  {
   "cell_type": "markdown",
   "id": "9f14688c-2d7e-48f3-98bf-41e8467b477f",
   "metadata": {},
   "source": [
    "Vi har tidligere (Py 4) sett på nummeriske operasjoner på arrays. Det er operasjoner som jobber på elementene i en array, enkletvis eller på alle. Disse gjelder uansett om det er 1D- eller 2d-arrasys.  \n",
    "\n",
    "Men vektorregning og matrisereging er en egen del av matematikken som har sine helt spesifikke definisjoner og bruksområder. Bruksområdene skal vi ikke komme så mye inn på, men vi skal se hvordan vi utfører dem i Python."
   ]
  },
  {
   "cell_type": "markdown",
   "id": "e4a373b0-0d2e-4a08-91cb-30d30986f1ff",
   "metadata": {},
   "source": [
    "### Definisjoner og forutsetninger"
   ]
  },
  {
   "cell_type": "markdown",
   "id": "4ef94c46-d291-47f4-9096-207f8a151453",
   "metadata": {},
   "source": [
    "Før vi går videre er det på sin plass å definere noen begreper som vi vil bruke.  \n",
    "\n",
    "> **Vektor**   En 1-dimensjonal array. Vi bryr oss ikke så mye om den matamatiske definisjonen. Det overlates til matematikk-faget.  \n",
    "> **Matrise**  En 2-dimensjonal array.  \n",
    "\n",
    "Selv om en array kan ha flere dimensjoner er det disse to vi blir å konsentrere oss om."
   ]
  },
  {
   "cell_type": "markdown",
   "id": "7e7286f3-7be2-438a-bfe4-bc6f421f8821",
   "metadata": {},
   "source": [
    "Alle funksjoner/operasjoner vi skal bruke ligger i numpy. Vi oppretter dem slik vi tidligere har sett med numpy.array().  \n",
    "\n",
    "For de fleste operasjoner som foregår mellom to vektorer/matriser må størrelsen på dem stemme over ens.  \n",
    "For vektorer vil det si at de må være like store (like mange elementer).  \n",
    "For matriser vil det stort sett si at antall kolonner i den første matrisa må være lik antall rader i den andre."
   ]
  },
  {
   "cell_type": "markdown",
   "id": "cc545915-9794-47c4-b962-1f8b3badfb5d",
   "metadata": {},
   "source": [
    "Før vi går i gang med de forskellige operasjonene skal vi se på noen funksjoner som oppretter spesielle matriser."
   ]
  },
  {
   "cell_type": "code",
   "execution_count": null,
   "id": "3cf95408-b05b-4ca0-be24-6918756d9977",
   "metadata": {},
   "outputs": [],
   "source": []
  }
 ],
 "metadata": {
  "kernelspec": {
   "display_name": "Python 3 (ipykernel)",
   "language": "python",
   "name": "python3"
  },
  "language_info": {
   "codemirror_mode": {
    "name": "ipython",
    "version": 3
   },
   "file_extension": ".py",
   "mimetype": "text/x-python",
   "name": "python",
   "nbconvert_exporter": "python",
   "pygments_lexer": "ipython3",
   "version": "3.9.13"
  }
 },
 "nbformat": 4,
 "nbformat_minor": 5
}
