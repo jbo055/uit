{
 "cells": [
  {
   "cell_type": "markdown",
   "id": "bcbe80a7-5371-4ea7-a315-5882d0684aba",
   "metadata": {},
   "source": [
    "## Valg"
   ]
  },
  {
   "cell_type": "markdown",
   "id": "e28883c1-98b0-491b-8864-3911fe924411",
   "metadata": {},
   "source": [
    "- En viktig del av programmering handler om å gjøre valg  \n",
    "— ut fra verdien av variabler  \n",
    "- Vi tester om noe er SANT eller USANT  \n",
    "     - Det som kan være SANT eller USANT er en eller flere sammenligninger  \n",
    "          - knyttet sammen med logiske operatorer  \n",
    "    - Vi kaller dette for betingelser  \n",
    "- Bruker dette til å bestemme om en bestemt del av koden skal kjøres  \n",
    "    - Kan være at vi hopper over en del av koden hvis betingelsen er usann  \n",
    "    - Eller at en del av koden bare kjøres hvis betingelsen er sann  \n",
    "    – og en annen del bare hvis den er usann  "
   ]
  },
  {
   "cell_type": "markdown",
   "id": "ce504808-3847-4499-9a87-97431a19d08c",
   "metadata": {},
   "source": [
    "Videre i denne delen skal vi se på hvordan vi setter opp betingelser i Python og hvordan vi kan gøre valg med if-setningen"
   ]
  },
  {
   "cell_type": "code",
   "execution_count": null,
   "id": "3c0f783f-5bd9-45fc-95e8-fb1f76c92b61",
   "metadata": {},
   "outputs": [],
   "source": []
  }
 ],
 "metadata": {
  "kernelspec": {
   "display_name": "Python 3 (ipykernel)",
   "language": "python",
   "name": "python3"
  },
  "language_info": {
   "codemirror_mode": {
    "name": "ipython",
    "version": 3
   },
   "file_extension": ".py",
   "mimetype": "text/x-python",
   "name": "python",
   "nbconvert_exporter": "python",
   "pygments_lexer": "ipython3",
   "version": "3.9.13"
  }
 },
 "nbformat": 4,
 "nbformat_minor": 5
}
