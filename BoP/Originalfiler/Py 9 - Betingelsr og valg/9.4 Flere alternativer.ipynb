{
 "cells": [
  {
   "cell_type": "markdown",
   "id": "3a6afa07-080a-4edb-8c61-59f7083a0354",
   "metadata": {},
   "source": [
    "## Flere alternativer"
   ]
  },
  {
   "cell_type": "markdown",
   "id": "e0a0aee9-f9c9-470f-937f-700bbeffa237",
   "metadata": {},
   "source": [
    "Noen ganger må vi håndtere flere alternativer. Da holder det ikke med en enkel **else - if**.  \n",
    "\n",
    "Vi har da to muligheter: \n",
    "+ Sammensatt if \n",
    "    + Kommandoen i en if eller else -del kan være en ny if\n",
    "    + vi får altså if-setning inni if-setning\n",
    "+ Bruke elif\n",
    "    + Flere alternatier med hver sin betingelse"
   ]
  },
  {
   "cell_type": "markdown",
   "id": "258904df-e8ba-4ba3-8fe1-c6f714ce10a0",
   "metadata": {},
   "source": [
    "#### Sammensatt if"
   ]
  },
  {
   "cell_type": "markdown",
   "id": "4048743c-b8df-4e1a-a730-989515c66f81",
   "metadata": {},
   "source": [
    "Veldig fleksibelt\n",
    "- Kan sette opp svært sammenstatte struktuerer av betingelser\n",
    "- Må være nøye med innrykk\n",
    "    - både for å få det riktig\n",
    "    - og for å holde oversikten  \n",
    "\n",
    "Syntaks (eksempel):\n",
    "```Python\n",
    "if logisk betingelse 1: \n",
    "    kommando 1 \n",
    "else: \n",
    "    if logisk betingelse 2:\n",
    "        kommando 2\n",
    "    else\n",
    "        if logisk betingelse 3:\n",
    "            kommando 3\n",
    "        else           \n",
    "            kommando 4\n",
    "```"
   ]
  },
  {
   "cell_type": "markdown",
   "id": "289de28e-0447-4410-913a-79733b915d07",
   "metadata": {},
   "source": [
    "Her er det ny if-setning i else-delen til betingelse 1 og 2.  \n",
    "\n",
    "Det er ingen ny if-setning i if-delene i dette syntaks-eksempelet. Det kunne det ha vært. Grunnen til at det er akkurat slik er at det skal tilsvare syntaks-eksempelet til elif som kommmer lengere ned.  \n",
    "\n",
    "Kodeeksempel:"
   ]
  },
  {
   "cell_type": "code",
   "execution_count": 1,
   "id": "d1acf325-7cb9-4d54-a303-ea32c4c4dc6c",
   "metadata": {},
   "outputs": [
    {
     "name": "stdin",
     "output_type": "stream",
     "text": [
      "Din alder?: 17\n",
      "Kjønn (m/k)? k\n"
     ]
    },
    {
     "name": "stdout",
     "output_type": "stream",
     "text": [
      "Du er kvinne, og er ikke myndig\n"
     ]
    }
   ],
   "source": [
    "alder = int(input('Din alder?:') )\n",
    "kjonn = input('Kjønn (m/k)?'); \n",
    "kjonn = kjonn.upper() # konverterer til stor bokstav\n",
    "\n",
    "if alder >= 18: # Første betingelse\n",
    "    if kjonn == 'K': # Denne if-setningen kjøres bare hvis den første betingelsen er sann\n",
    "        # Her er begge betingelsene sanne\n",
    "        print('Du er kvinne, og er myndig') \n",
    "    else:\n",
    "        # Her er første betingelse sann og andre betingelse usann\n",
    "        print('Du er mann, og er myndig')\n",
    "else: # Denne else hører til den første if\n",
    "    if kjonn == 'K':\n",
    "        # Her er første betingelse usann og andre betingelse sann\n",
    "        print('Du er kvinne, og er ikke myndig')\n",
    "    else:\n",
    "        # Her er begge betingelsene usanne\n",
    "        print('Du er mann, og er ikke myndig')\n"
   ]
  },
  {
   "cell_type": "markdown",
   "id": "d047094c-84ea-4419-9d42-afeceb961d27",
   "metadata": {},
   "source": [
    "Her var alternativene ikke likeverdige. Derfor måtte sammensatt if brukes"
   ]
  },
  {
   "cell_type": "markdown",
   "id": "964d3a94-e914-4cf8-87cf-2a1dd1f61fba",
   "metadata": {},
   "source": [
    "#### elif"
   ]
  },
  {
   "cell_type": "markdown",
   "id": "0b7073df-79e5-47f7-890a-0544562f3f4a",
   "metadata": {},
   "source": [
    "+ Oversiktlig\n",
    "    + Har ikke flere nivåer\n",
    "+ Kan bare brukes når man har likestilte alternativer  \n",
    "\n",
    "Syntaks (eksempel):\n",
    "```Python\n",
    "if logisk betingelse 1: \n",
    "    kommando 1 \n",
    "elif logisk betingelse 2: # Kommer hit hvis første betingelse er usann\n",
    "    kommando 2\n",
    "elif logisk betingelse 3: # Kommer hit hvis andre betingelse også er usann\n",
    "    kommando 3\n",
    "else:          \n",
    "    kommando 4 # Utføres hvis ingen av betingelsene er sann\n",
    "```\n",
    "\n",
    "Dette syntaks-eksempelet tilsvarer det som er til else-if.  \n",
    "\n",
    "Kodeeksempel med likeverdige alternativer:"
   ]
  },
  {
   "cell_type": "code",
   "execution_count": 2,
   "id": "f0ccc313-6092-4947-ba0a-e53e7b754af9",
   "metadata": {},
   "outputs": [
    {
     "name": "stdin",
     "output_type": "stream",
     "text": [
      "Din alder?: 17\n"
     ]
    },
    {
     "name": "stdout",
     "output_type": "stream",
     "text": [
      "Du er tenåring og ikke myndig\n"
     ]
    }
   ],
   "source": [
    "alder = int(input('Din alder?:') )\n",
    "\n",
    "if alder < 13: \n",
    "    print('Du er barn')\n",
    "elif alder < 18: \n",
    "    print('Du er tenåring og ikke myndig')\n",
    "elif alder < 20: \n",
    "    print('Du er tenåring og myndig')\n",
    "else:\n",
    "    print('Du er voksen') # Kommer hit bare dersom alder >= 20"
   ]
  },
  {
   "cell_type": "markdown",
   "id": "56cbe429-d204-4662-8244-b09a734e54df",
   "metadata": {},
   "source": [
    "Betingelsene evalueres ovenfra og nedover.  \n",
    "Dersom en betingelse er sann, gjøres koden som hører til. Så hoppes resten av if-elif-else konstruksjonen over.  \n",
    "Dersom en betingelse er usann hoppes de til neste betingelse, eventuelt else.  \n",
    "Dette gjør at man ikke trenger å teste om alderen ligger mellom to verdier i kodeeksempelet over."
   ]
  },
  {
   "cell_type": "code",
   "execution_count": null,
   "id": "57175041-37f1-4701-98ba-35082bb4987f",
   "metadata": {},
   "outputs": [],
   "source": []
  }
 ],
 "metadata": {
  "kernelspec": {
   "display_name": "Python 3 (ipykernel)",
   "language": "python",
   "name": "python3"
  },
  "language_info": {
   "codemirror_mode": {
    "name": "ipython",
    "version": 3
   },
   "file_extension": ".py",
   "mimetype": "text/x-python",
   "name": "python",
   "nbconvert_exporter": "python",
   "pygments_lexer": "ipython3",
   "version": "3.9.13"
  }
 },
 "nbformat": 4,
 "nbformat_minor": 5
}
