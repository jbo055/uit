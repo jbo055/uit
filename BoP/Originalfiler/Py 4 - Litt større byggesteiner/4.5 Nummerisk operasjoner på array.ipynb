{
 "cells": [
  {
   "cell_type": "markdown",
   "id": "6b329402-bdde-4208-ac97-1a9f4b16a058",
   "metadata": {},
   "source": [
    "## Aritmetiske og nummeriske operasjoner på array"
   ]
  },
  {
   "cell_type": "markdown",
   "id": "07d4f9f8-87f6-41af-8637-293ff4295ae3",
   "metadata": {
    "tags": []
   },
   "source": [
    "Noe av det fine med array i NumPy er at vi kan gjøre nummeriske operasjoner direkte på en array. En del av dem utfører operasjonene elementvis, mens andre jobber på hele arrayen.  \n",
    "\n",
    "#### aritmetiske operatorer\n",
    "Vi kan blant annet bruke de aritmetiske operatorene. Hvis vi bruker dem mellom en array og et tall (skalar) utføres operasjonen på hvert element."
   ]
  },
  {
   "cell_type": "code",
   "execution_count": 1,
   "id": "e63f4f96-99e8-4b28-bf77-c3b17f9bbdbe",
   "metadata": {},
   "outputs": [
    {
     "name": "stdout",
     "output_type": "stream",
     "text": [
      "[3 4 5 6]\n",
      "[4 5 6 7]\n",
      "[ 3  6  9 12]\n",
      "[2.5 3.  3.5 4. ]\n"
     ]
    }
   ],
   "source": [
    "import numpy as np\n",
    "\n",
    "arr_a = np.array([1, 2, 3, 4])\n",
    "arr_b = np.array([5, 6, 7, 8])\n",
    "\n",
    "print(arr_a + 2)\n",
    "print(arr_b - 1)\n",
    "print(arr_a * 3)\n",
    "print(arr_b / 2)"
   ]
  },
  {
   "cell_type": "markdown",
   "id": "eb71110f-a3f9-4aaa-9990-728316572601",
   "metadata": {},
   "source": [
    "Hvis vi bruker de arimetiske operatorene mellom to array, må vi passe på at de er like store. Operajonene utføres da elementvis. Det vil si først element i den ene med første element i den andre, andre element i den ene med andre element i den andre og så videre."
   ]
  },
  {
   "cell_type": "code",
   "execution_count": 2,
   "id": "57394e55-0df9-4705-8104-85dbf059c521",
   "metadata": {},
   "outputs": [
    {
     "name": "stdout",
     "output_type": "stream",
     "text": [
      "[ 6  8 10 12]\n",
      "[4 4 4 4]\n",
      "[ 5 12 21 32]\n",
      "[5.         3.         2.33333333 2.        ]\n"
     ]
    }
   ],
   "source": [
    "print(arr_a + arr_b)\n",
    "print(arr_b - arr_a)\n",
    "print(arr_a * arr_b)\n",
    "print(arr_b / arr_a)"
   ]
  },
  {
   "cell_type": "markdown",
   "id": "129a3127-77d7-4bac-a953-ca8ad6bb639b",
   "metadata": {},
   "source": [
    "Vi kan bruke dette til å regne ut funksjonsverdier. Hvis vi lager en array med x-verdiene kan vi lage y-verdiene ved å bruke arrayen som x i likningen."
   ]
  },
  {
   "cell_type": "code",
   "execution_count": 3,
   "id": "96fd59f5-f50a-46be-b22b-88d4c4d548e4",
   "metadata": {},
   "outputs": [
    {
     "name": "stdout",
     "output_type": "stream",
     "text": [
      "[0.         1.         1.41421356 1.73205081 2.         2.23606798\n",
      " 2.44948974 2.64575131 2.82842712 3.         3.16227766]\n"
     ]
    }
   ],
   "source": [
    "x_verdi = np.arange(11)  # En array med heltallene fra 0 til 10\n",
    "print(np.sqrt(x_verdi) ) # Skriver ut rota av tallene i x-verdi"
   ]
  },
  {
   "cell_type": "markdown",
   "id": "25543d2e-6a3b-4566-89af-3dc51852614d",
   "metadata": {},
   "source": [
    "Dette blir veldig kjekt når vi skal plotte grafer i neste modul."
   ]
  },
  {
   "cell_type": "markdown",
   "id": "bc171148-a291-44d3-83c6-41fff84b5a71",
   "metadata": {},
   "source": [
    "#### Statistikk\n",
    "Hvis arrayen inneholder et datasett kan vi gjøre enkel statistikk med funksjoner som hører til np.array."
   ]
  },
  {
   "cell_type": "code",
   "execution_count": 4,
   "id": "1f6e7b57-eda0-486d-826a-34730215cd64",
   "metadata": {},
   "outputs": [
    {
     "name": "stdout",
     "output_type": "stream",
     "text": [
      "sum: 4.920000000000001 minste: 0.05 største: 0.82 standardavviket: 0.22139707917374762\n"
     ]
    }
   ],
   "source": [
    "datasett = np.array([[0.45, 0.17, 0.34, 0.55],\n",
    "                     [0.54, 0.05, 0.40, 0.65],\n",
    "                     [0.12, 0.82, 0.26, 0.57]])\n",
    "\n",
    "summen = datasett.sum()\n",
    "minst = datasett.min()\n",
    "stoerst = datasett.max()\n",
    "standardavvik = datasett.std()\n",
    "\n",
    "print('sum:', summen, 'minste:', minst, 'største:', stoerst, 'standardavviket:', standardavvik)"
   ]
  },
  {
   "cell_type": "code",
   "execution_count": null,
   "id": "1e4d21cb-725d-469e-b61d-15662b37b0c7",
   "metadata": {},
   "outputs": [],
   "source": []
  }
 ],
 "metadata": {
  "kernelspec": {
   "display_name": "Python 3 (ipykernel)",
   "language": "python",
   "name": "python3"
  },
  "language_info": {
   "codemirror_mode": {
    "name": "ipython",
    "version": 3
   },
   "file_extension": ".py",
   "mimetype": "text/x-python",
   "name": "python",
   "nbconvert_exporter": "python",
   "pygments_lexer": "ipython3",
   "version": "3.9.13"
  }
 },
 "nbformat": 4,
 "nbformat_minor": 5
}
