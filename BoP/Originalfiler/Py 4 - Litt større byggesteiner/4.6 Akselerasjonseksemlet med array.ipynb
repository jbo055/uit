{
 "cells": [
  {
   "cell_type": "markdown",
   "id": "45e2dc3a-f865-49c5-9c5f-f49544b758d9",
   "metadata": {},
   "source": [
    "## Akselerasjonseksemlet vårt med array"
   ]
  },
  {
   "cell_type": "markdown",
   "id": "0ca2320c-a815-4edd-8f6a-bd8800c5e8db",
   "metadata": {},
   "source": [
    "Vi skal nå ta i bruk array med akselerasjonseksemelet vårt.  \n",
    "\n",
    "Sist vi så det var det slik:"
   ]
  },
  {
   "cell_type": "code",
   "execution_count": 1,
   "id": "47353533-b230-4345-b36a-3c29a5ceb673",
   "metadata": {},
   "outputs": [
    {
     "name": "stdout",
     "output_type": "stream",
     "text": [
      "En bil som akselererer fra 0-100 km/t på 4.4 sekund har en akselerasjon på 6.31 m/s^2\n",
      "Den har da kjørt 61 meter\n"
     ]
    }
   ],
   "source": [
    "hastighet_100 = 100/3.6  # gjør 100 km/t om til m/s\n",
    "t_0_100 = 4.4      # tiden blien skulle bruke på 0-100 km/t\n",
    "\n",
    "akselerasjon = hastighet_100 / t_0_100    # beregner akselerasjon\n",
    "strekning = 0.5 * akselerasjon * t_0_100**2    # beregner strekningen i meter\n",
    "\n",
    "print('En bil som akselererer fra 0-100 km/t på', t_0_100, \n",
    "      'sekund har en akselerasjon på', round(akselerasjon,2), 'm/s^2')\n",
    "print('Den har da kjørt', round(strekning),'meter')"
   ]
  },
  {
   "cell_type": "markdown",
   "id": "144e5ffa-b2e1-4b3e-814c-51cf9c097a7e",
   "metadata": {},
   "source": [
    "Nå skal vi regne ut for hvert halvt sekund opp til 5 sek.  \n",
    "For å slippe å gjøre mange utrenginger kan vi lage en tidsvektor (array) som innehlder alle disse tidspunktene. Når vi bruker denne i stedet for ```t_0_100``` får vi regnet ut strekningen om er kjørt for hvert halvsekund. "
   ]
  },
  {
   "cell_type": "code",
   "execution_count": 2,
   "id": "bf009a89-d1eb-4874-8924-d84491dc5c43",
   "metadata": {},
   "outputs": [
    {
     "name": "stdout",
     "output_type": "stream",
     "text": [
      "En bil som akselererer fra 0-100 km/t på 4.4 sekund har en akselerasjon på 6.31 m/s^2\n",
      "For hvert halve sekund fra og med 0 har den da kjørt i meter:\n",
      "[ 0.   0.8  3.2  7.1 12.6 19.7 28.4 38.7 50.5 63.9 78.9]\n"
     ]
    }
   ],
   "source": [
    "import numpy as np\n",
    "\n",
    "hastighet_100 = 100/3.6  # gjør 100 km/t om til m/s\n",
    "t_0_100 = 4.4      # tiden blien skulle bruke på 0-100 km/t\n",
    "tidsvektor = np.arange(0, 5.1, 0.5)      # 0 til 5 sek med halv sek oppløsning\n",
    "\n",
    "akselerasjon = hastighet_100 / t_0_100    # beregner akselerasjon\n",
    "strekning = 0.5 * akselerasjon * tidsvektor**2    # beregner strekningen i meter\n",
    "\n",
    "print('En bil som akselererer fra 0-100 km/t på', t_0_100, \n",
    "      'sekund har en akselerasjon på', round(akselerasjon,2), 'm/s^2')\n",
    "print('For hvert halve sekund fra og med 0 har den da kjørt i meter:')\n",
    "print(np.round(strekning,1))"
   ]
  },
  {
   "cell_type": "markdown",
   "id": "43fb1456-566e-44ff-8b9c-2c9b497cfc53",
   "metadata": {},
   "source": [
    "Vi ser at bare med å erstatte en skalar i formelen med en array blir resultatet også en array. Nå kan vi gå videre med å regne ut farta ved disse tidspunktene. Farten er i m/s. Skal vi ha den i km/t må vi gange med 3.6. Det kan være lurt å beholde verdiene i m/s lagret i arrayen og bare regne om i utskriften."
   ]
  },
  {
   "cell_type": "code",
   "execution_count": 3,
   "id": "4e2ff9f4-5295-45b7-966b-79ad2f869efb",
   "metadata": {},
   "outputs": [
    {
     "name": "stdout",
     "output_type": "stream",
     "text": [
      "hastigheten i km/t ved de samme tispunktene er:\n",
      "[  0.  11.  23.  34.  45.  57.  68.  80.  91. 102. 114.]\n"
     ]
    }
   ],
   "source": [
    "hastighet = akselerasjon * tidsvektor\n",
    "print('hastigheten i km/t ved de samme tispunktene er:')\n",
    "print(np.round(hastighet * 3.6))"
   ]
  },
  {
   "cell_type": "markdown",
   "id": "75d9a430-95f1-4e9e-9412-d6acf928a740",
   "metadata": {},
   "source": [
    "Vi får ganske greie rekker med tall å forholde oss til siden vi rundet dem av i utskriften. Likevel kan det være vanskelig å se sammenhengne helt klart. De vil komme tydeliger fram når vi plotter grafer av dette i neste modul."
   ]
  },
  {
   "cell_type": "code",
   "execution_count": null,
   "id": "d482a379-8200-4010-a006-50a6d34f2efc",
   "metadata": {},
   "outputs": [],
   "source": []
  }
 ],
 "metadata": {
  "kernelspec": {
   "display_name": "Python 3 (ipykernel)",
   "language": "python",
   "name": "python3"
  },
  "language_info": {
   "codemirror_mode": {
    "name": "ipython",
    "version": 3
   },
   "file_extension": ".py",
   "mimetype": "text/x-python",
   "name": "python",
   "nbconvert_exporter": "python",
   "pygments_lexer": "ipython3",
   "version": "3.9.13"
  }
 },
 "nbformat": 4,
 "nbformat_minor": 5
}
