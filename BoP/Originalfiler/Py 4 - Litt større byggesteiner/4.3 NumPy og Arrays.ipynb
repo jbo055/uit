{
 "cells": [
  {
   "cell_type": "markdown",
   "id": "1e5e7e54-4b0c-46fa-a38d-968198d98c73",
   "metadata": {},
   "source": [
    "## NumPy og Arrays"
   ]
  },
  {
   "cell_type": "markdown",
   "id": "dbb373d8-3928-4282-9a1c-c2327981a1aa",
   "metadata": {},
   "source": [
    "NumPy er et tilleggsbibliiotek til Python. Det er lagen av Travis Oliphant og lansert i 2005.  \n",
    "Det er et open source prosjekt og kan fritt benyttes.  \n",
    "\n",
    "NumPy betyr Nummerisk Python.  \n",
    "\n",
    "Et grunnleggende element i NumPy er ***array***. Det kan i mange tilfeller oversettes med tabell. Vi tenker kanskje på en array som en 1-dimensjonal (rad eler kolonne) med data og en tabell som en 2-dimensjonal ordning av data i rader og kolonner. Men den kan ha en, to eller flere dimensjoner. Faktisk kan den også være 0-dimensjonal. Har den bare ett element er den 0-dimensjonal.  \n",
    "\n",
    "Vi bruker også begrepene vektor og matrise om henholdsvis 1D og 2D array.  \n",
    "\n",
    "Ordet array vil på norsk ikke ha helt den samme betydning som på engelsk. Vi holder oss til den engelske betydningen. Ordet vektor brukes også om en 1-dimensjonal array. Det begrepet må ikke forveksles med vektor i geometri og fysikk.  \n",
    "\n",
    "Før vi går videre må vi slå fast at et enkelt tall (en enkel verdi) kalles en skalar."
   ]
  },
  {
   "cell_type": "markdown",
   "id": "bbfa7e95-6bfe-4e0c-83f5-9996f9fbfa7f",
   "metadata": {},
   "source": [
    "Her skal vi se på hvordan vi kan opprette arrays i NumPy.  \n",
    "\n",
    "For dokumentasjon og mer informasjon om NumPy se:  \n",
    "https://numpy.org/doc/stable/index.html  \n",
    "https://www.w3schools.com/python/numpy/default.asp"
   ]
  },
  {
   "cell_type": "markdown",
   "id": "a81651ae-4b5f-4794-b118-86df32e13430",
   "metadata": {},
   "source": [
    "### Array i forhold til List"
   ]
  },
  {
   "cell_type": "markdown",
   "id": "6c638861-bd10-4af6-aa00-e5981c072b9f",
   "metadata": {},
   "source": [
    "Datatypen List i Python har noen egenskaper som gjør at vi kan klare å lage noe som kan brukes som en array med den. Men den er treg, mangler funksjonalitet og har noen egenskaper som gjør den mindre egnet.  \n",
    "\n",
    "NumPy har mulighet til å lage et array-objekt som er mye bedre egnet til formålet.  \n",
    "- Mye raskere. Mer effektiv\n",
    "- Array i flere dimensjoner\n",
    "- Funksjoner for å gjøre operasjoner på en array som en forventer\n",
    "- Vektor og matriseoperajoner\n",
    "- Matematiske funksjoner som kan operere på arrayen som helhet eller på alle element, enketvis"
   ]
  },
  {
   "cell_type": "markdown",
   "id": "794329f6-41a3-4747-ac80-4c7138661534",
   "metadata": {},
   "source": [
    "For at det skal være mer effektivt og å kunne utføre operasjonene trygt er det også noen restriksjoner.\n",
    "- Elementene må være av samme type.\n",
    "- Størrelsen er gitt under opprettelsen og kan ikke endres.\n",
    "- Kan ikke legge til eller slette elementer.\n",
    "\n",
    "I neste notatbok vil vi se hvordan vi kan komme rundt de to siste begrensningene."
   ]
  },
  {
   "cell_type": "markdown",
   "id": "ca6b0709-0812-4903-a9e9-58d3db5ecd3e",
   "metadata": {},
   "source": [
    "### Opprette en Array"
   ]
  },
  {
   "cell_type": "markdown",
   "id": "89514622-5acf-4a8e-808a-2ba0e6f41ea0",
   "metadata": {},
   "source": [
    "Når vi har importert NumPy kan vi bruke funksjonen array() der for å opprette en array. Det objektet som blir opprettet er av typen ***ndarray*** (numpy.ndarray).  \n"
   ]
  },
  {
   "cell_type": "code",
   "execution_count": 1,
   "id": "57f7aa3b-a84b-4420-9f32-515654bec530",
   "metadata": {},
   "outputs": [
    {
     "name": "stdout",
     "output_type": "stream",
     "text": [
      "[1 2 3 4 5]\n",
      "<class 'numpy.ndarray'>\n"
     ]
    }
   ],
   "source": [
    "import numpy as np \n",
    "\n",
    "arrayEn = np.array([1, 2, 3, 4, 5])\n",
    "\n",
    "print(arrayEn)\n",
    "\n",
    "print(type(arrayEn))"
   ]
  },
  {
   "cell_type": "markdown",
   "id": "c12a4064-9f8a-4915-b413-0ab4df71ff5d",
   "metadata": {},
   "source": [
    "Det vi her sender til funksjonen array() er en list(e) siden elementene står i hakeparenteser []. Vi kan også bruke tuple eller et annen array-lignende objekt.  \n",
    "I resultatet ser vi at typen til den er numpy.ndarray. En annen måte å si det på er at vi har et numpy.ndarray-objekt."
   ]
  },
  {
   "cell_type": "markdown",
   "id": "7725c9ed-cfe4-41e0-8e0e-fc81a2507917",
   "metadata": {
    "tags": []
   },
   "source": [
    "Vi fikk en 1D array. Hvis det har noen betydning så ble dette en radvektor.  \n",
    "For å lage en kolonnevektor må vi ha et ekstra sett med hakeparenteser og så kalle rutinen ```ndarray.T```  som transponerer, endrer aksene i arrayen."
   ]
  },
  {
   "cell_type": "code",
   "execution_count": 2,
   "id": "a74152bb-e315-4f0b-9126-8ace79ccba4f",
   "metadata": {},
   "outputs": [
    {
     "name": "stdout",
     "output_type": "stream",
     "text": [
      "[[1]\n",
      " [2]\n",
      " [3]]\n"
     ]
    }
   ],
   "source": [
    "import numpy as np \n",
    "\n",
    "arrayTo = np.array([[1, 2, 3]]).T\n",
    "\n",
    "print(arrayTo)"
   ]
  },
  {
   "cell_type": "markdown",
   "id": "ff8826cc-5f0d-43d6-9b47-c6de883e64d1",
   "metadata": {},
   "source": [
    "I eksempelet over lagde vi en array med heltall. Men vi kan også buke flyttall, streng eller boolean.  \n",
    "\n",
    "Hvis vi blander heltall og flyttall blir alle elementer flyttall.  \n",
    "Hvis vi blander tall og strenger blir alle elementer strenger. "
   ]
  },
  {
   "cell_type": "code",
   "execution_count": 3,
   "id": "9ccb6046-f231-4bfe-8beb-d46037b2b332",
   "metadata": {},
   "outputs": [
    {
     "name": "stdout",
     "output_type": "stream",
     "text": [
      "[1.5  2.   3.14 4.4  5.7 ]\n",
      "['Hei' 'på' 'deg']\n",
      "[1.  2.2 3.  4.4]\n",
      "['1' '2.2' 'tre']\n"
     ]
    }
   ],
   "source": [
    "arrayTo = np.array([1.5, 2.0, 3.14, 4.4, 5.7])\n",
    "arrayTre = np.array(['Hei', 'på', 'deg'])\n",
    "arrayFire = np.array([1, 2.2, 3, 4.4])\n",
    "arrayFem = np.array([1, 2.2, 'tre'])\n",
    "\n",
    "print(arrayTo)\n",
    "print(arrayTre)\n",
    "print(arrayFire)\n",
    "print(arrayFem)"
   ]
  },
  {
   "cell_type": "markdown",
   "id": "13ee8f07-8542-4127-96a5-f3815092f3b4",
   "metadata": {},
   "source": [
    "Foreløpig skal vi holde arrays med strenger litt utenfor og jobbe med arrays med tall.  \n",
    "\n",
    "En array som har (flere) skalarer som element er 1-dimensjonal (1D) og er den mest vanlige standard array. Den kalles også for vektor, men det må ikke forveksles med vektorer i matematikken.  \n",
    "Har arrayen bare en skalar som element er den 0-dimensjonal.  \n",
    "En array kan også ha 1-dimensjonale array som element. Det blir da en 2-dimensjonal (2D) array."
   ]
  },
  {
   "cell_type": "code",
   "execution_count": 4,
   "id": "89f31473-90a0-4c39-b82c-200e3e59918e",
   "metadata": {},
   "outputs": [
    {
     "name": "stdout",
     "output_type": "stream",
     "text": [
      "[[1 2 3]\n",
      " [4 5 6]]\n"
     ]
    }
   ],
   "source": [
    "# Eksempel på en enkel 2D array\n",
    "arr2d = np.array([[1, 2, 3], [4, 5, 6]])\n",
    "\n",
    "print(arr2d)"
   ]
  },
  {
   "cell_type": "markdown",
   "id": "f7fa9f66-acd7-48e4-82d7-3f7733ddda1b",
   "metadata": {},
   "source": [
    "En NumPy array kan ha enda flere dimensjoner, men det blir vi ikke å jobbe med i dette kurset."
   ]
  },
  {
   "cell_type": "markdown",
   "id": "14566637-1ee3-4af1-8b58-9628160ff7d7",
   "metadata": {},
   "source": [
    "### Sekvenser"
   ]
  },
  {
   "cell_type": "markdown",
   "id": "5e0b8864-d899-424c-927e-a669feee0bcd",
   "metadata": {},
   "source": [
    "I mange tilfeller trenger vi en bestemt sekvens med mange tall. For eksempel som x-verdier når vi skal regne ut y-verdier av en funksjon. Da kan det være fint med en enklere måte å lage denne sekvensen enn å skrive dem inn manuelt. Det er jo heller ikke sikkert at vi vet på forhånd hvordan denne sekvensen skal være, men at det er noe som blir beregnet underveis.  \n",
    "\n",
    "NumPy har to funksjoner som forenkler opprettelsen av slike 1D arrays.  "
   ]
  },
  {
   "cell_type": "markdown",
   "id": "dce82fe2-6240-4293-925f-273f48f27f95",
   "metadata": {},
   "source": [
    "#### np.arange\n",
    "\n",
    "```numpy.arrange()```som oppretter en array med faste steg. Det spesifiseres ikke hvor mange elementer den skal inneholde. Den vanligste måten å bruke den på er med tre argumenter: ```numpy.arrange(start, stop, steg)```. \n",
    "> ***start*** er verdien arrayen skal starte på. Denne er med i arrayen.  \n",
    "> ***stopp*** er verdien arrayen skal overskride. Denne er ikke med i arrayen.  \n",
    "> ***steg*** er avstanden mellom hvert element.  "
   ]
  },
  {
   "cell_type": "code",
   "execution_count": 5,
   "id": "88d07c19-896b-418b-907a-a9d0af53e35f",
   "metadata": {},
   "outputs": [
    {
     "data": {
      "text/plain": [
       "array([1, 3, 5, 7, 9])"
      ]
     },
     "execution_count": 5,
     "metadata": {},
     "output_type": "execute_result"
    }
   ],
   "source": [
    "np.arange(1, 10, 2)"
   ]
  },
  {
   "cell_type": "markdown",
   "id": "ec3e7915-254e-4be9-9944-5b1b480058c5",
   "metadata": {},
   "source": [
    "Det ble opprettet en array der elementene er heltall.  \n",
    "\n",
    "Vi kan få en en array med elementer som er float ved å ta med en modifikator (dtype = float) som et ekstra argument.  \n",
    "Vi får også elementer som er float dersom start eller steg er float."
   ]
  },
  {
   "cell_type": "code",
   "execution_count": 6,
   "id": "0979d7bd-dba3-4926-ab26-3821849c4a95",
   "metadata": {},
   "outputs": [
    {
     "data": {
      "text/plain": [
       "array([1., 3., 5., 7., 9.])"
      ]
     },
     "execution_count": 6,
     "metadata": {},
     "output_type": "execute_result"
    }
   ],
   "source": [
    "np.arange(1, 10, 2, dtype = float)"
   ]
  },
  {
   "cell_type": "code",
   "execution_count": 7,
   "id": "1d843ef0-73b7-454f-b5df-0f63f6e86cb3",
   "metadata": {},
   "outputs": [
    {
     "data": {
      "text/plain": [
       "array([1.5, 2.5, 3.5, 4.5, 5.5])"
      ]
     },
     "execution_count": 7,
     "metadata": {},
     "output_type": "execute_result"
    }
   ],
   "source": [
    "np.arange(1.5, 6, 1)"
   ]
  },
  {
   "cell_type": "code",
   "execution_count": 8,
   "id": "a365f9e7-1a3a-4ac6-beef-5b0c47ea04f3",
   "metadata": {},
   "outputs": [
    {
     "data": {
      "text/plain": [
       "array([2. , 2.1, 2.2, 2.3, 2.4, 2.5, 2.6, 2.7, 2.8, 2.9])"
      ]
     },
     "execution_count": 8,
     "metadata": {},
     "output_type": "execute_result"
    }
   ],
   "source": [
    "np.arange(2, 3, 0.1)"
   ]
  },
  {
   "cell_type": "markdown",
   "id": "9901970d-d327-4f61-ad9f-a56f1a3122bc",
   "metadata": {},
   "source": [
    "De kan kanskje være litt dumt at vi ikke får med 3. Det kan rettes på med å justere ***stopp***."
   ]
  },
  {
   "cell_type": "code",
   "execution_count": 9,
   "id": "0db83ed5-3d09-4626-80bd-f99216d36516",
   "metadata": {},
   "outputs": [
    {
     "data": {
      "text/plain": [
       "array([2. , 2.1, 2.2, 2.3, 2.4, 2.5, 2.6, 2.7, 2.8, 2.9, 3. ])"
      ]
     },
     "execution_count": 9,
     "metadata": {},
     "output_type": "execute_result"
    }
   ],
   "source": [
    "np.arange(2, 3.1, 0.1)"
   ]
  },
  {
   "cell_type": "markdown",
   "id": "c785d355-54a7-474f-a420-d67d3d57918b",
   "metadata": {},
   "source": [
    "Hvis vi bare har to argument blir steg satt til 1 som standard."
   ]
  },
  {
   "cell_type": "code",
   "execution_count": 10,
   "id": "1b0bcd33-83df-4a4a-a8ee-c8c19a7dab44",
   "metadata": {},
   "outputs": [
    {
     "data": {
      "text/plain": [
       "array([3, 4, 5, 6, 7, 8, 9])"
      ]
     },
     "execution_count": 10,
     "metadata": {},
     "output_type": "execute_result"
    }
   ],
   "source": [
    "np.arange(3, 10)"
   ]
  },
  {
   "cell_type": "markdown",
   "id": "03b93530-aaad-4636-a174-ad612f8a9e68",
   "metadata": {},
   "source": [
    "Og har vi bare ett element settes i tillegg start til 0."
   ]
  },
  {
   "cell_type": "code",
   "execution_count": 11,
   "id": "d9af80b9-2495-45d1-9d0c-a95907469b24",
   "metadata": {},
   "outputs": [
    {
     "data": {
      "text/plain": [
       "array([0, 1, 2, 3, 4, 5, 6, 7, 8, 9])"
      ]
     },
     "execution_count": 11,
     "metadata": {},
     "output_type": "execute_result"
    }
   ],
   "source": [
    "np.arange(10)"
   ]
  },
  {
   "cell_type": "markdown",
   "id": "c63f092e-9e72-47c2-b060-8dbeefabbb78",
   "metadata": {},
   "source": [
    "#### numpy.linspace\n",
    "```numpy.linspace()``` lager en array med et spesifisert antall elementer fra og med start til og med slutt. her får vi altså med begge endene. Den brukes slik: ```numpy.linspace(start, slutt, antall)```.  \n",
    "> ***start*** er verdien arrayen skal starte på. Denne er med i arrayen.  \n",
    "> ***slutt*** er verdien arrayen skal slutte på. Denne er med i arrayen.  \n",
    "> ***antall*** er antall element i arrayen.  \n",
    "\n",
    "```linspace()``` lager alltid elementer som er ```float```."
   ]
  },
  {
   "cell_type": "code",
   "execution_count": 12,
   "id": "dea88225-f46f-4865-aee5-c4036f716802",
   "metadata": {},
   "outputs": [
    {
     "data": {
      "text/plain": [
       "array([ 2.,  4.,  6.,  8., 10.])"
      ]
     },
     "execution_count": 12,
     "metadata": {},
     "output_type": "execute_result"
    }
   ],
   "source": [
    "np.linspace(2, 10, 5)"
   ]
  },
  {
   "cell_type": "markdown",
   "id": "5e6313dd-8c8d-47e4-bcdb-cb737992af6f",
   "metadata": {},
   "source": [
    "Her er altså både start og slutt med og vi får det anntall elementer som er spesifisert."
   ]
  },
  {
   "cell_type": "code",
   "execution_count": 13,
   "id": "107a6917-eaac-478a-9109-8e347575a72b",
   "metadata": {},
   "outputs": [
    {
     "data": {
      "text/plain": [
       "array([ 0.        ,  1.11111111,  2.22222222,  3.33333333,  4.44444444,\n",
       "        5.55555556,  6.66666667,  7.77777778,  8.88888889, 10.        ])"
      ]
     },
     "execution_count": 13,
     "metadata": {},
     "output_type": "execute_result"
    }
   ],
   "source": [
    "np.linspace(0, 10, 10)"
   ]
  },
  {
   "cell_type": "markdown",
   "id": "d9ca48de-0067-4c1b-a92a-7434cb3ad2b2",
   "metadata": {},
   "source": [
    "Hvis vi ikke tenker oss om kan vi få noen uforutsette resultat.  \n",
    "\n",
    "Her ville kanskje i mange tilfeller vært bedre med:"
   ]
  },
  {
   "cell_type": "code",
   "execution_count": 14,
   "id": "fa72ced8-3a04-4f17-a770-cdef349f86b6",
   "metadata": {},
   "outputs": [
    {
     "data": {
      "text/plain": [
       "array([ 0.,  1.,  2.,  3.,  4.,  5.,  6.,  7.,  8.,  9., 10.])"
      ]
     },
     "execution_count": 14,
     "metadata": {},
     "output_type": "execute_result"
    }
   ],
   "source": [
    "np.linspace(0, 10, 11)"
   ]
  },
  {
   "cell_type": "markdown",
   "id": "108a2076-7bcb-45df-9548-0a3f78398779",
   "metadata": {},
   "source": [
    "NumPy har også funksjoner for å opprette spesielle 2D-arrays. Men det skal vi ikke komme innpå før vi skal jobbe med matriser."
   ]
  },
  {
   "cell_type": "code",
   "execution_count": null,
   "id": "7901b265-ecba-4289-ba61-d661b303cd40",
   "metadata": {},
   "outputs": [],
   "source": []
  }
 ],
 "metadata": {
  "kernelspec": {
   "display_name": "Python 3 (ipykernel)",
   "language": "python",
   "name": "python3"
  },
  "language_info": {
   "codemirror_mode": {
    "name": "ipython",
    "version": 3
   },
   "file_extension": ".py",
   "mimetype": "text/x-python",
   "name": "python",
   "nbconvert_exporter": "python",
   "pygments_lexer": "ipython3",
   "version": "3.9.13"
  }
 },
 "nbformat": 4,
 "nbformat_minor": 5
}
