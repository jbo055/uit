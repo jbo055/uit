{
 "cells": [
  {
   "cell_type": "markdown",
   "id": "82064bb4-7733-499e-b800-eed489a18a1a",
   "metadata": {},
   "source": [
    "## Arrays, grunnleggende bruk"
   ]
  },
  {
   "cell_type": "markdown",
   "id": "4ddecab0-ca18-4f5a-8402-5737c6b824fe",
   "metadata": {},
   "source": [
    "Her skal vi se på hvordan vi helt grunnleggende håndterer arrays med NumPy. Så vil vi i senere moduler bruke det til konkrete anvendelser."
   ]
  },
  {
   "cell_type": "markdown",
   "id": "ccc107d7-f118-4ffb-86e0-52d8085db708",
   "metadata": {},
   "source": [
    "### Størrelse og indeksering"
   ]
  },
  {
   "cell_type": "markdown",
   "id": "bddf052d-8360-4195-9cbf-a2ee4321eddf",
   "metadata": {},
   "source": [
    "Det er ofte nødvendig å vite størrelsen på en array. Det vil si å vite hvor mange elementer som er i den. Til det gjør vi bruk av noen egenskapsvariabler til en array.  \n",
    "> ```ndarray.size```    viser totalt antall elementer i arrayen  \n",
    "> ```ndarray.shape```   viser hvor mange elementer det er langs hver dimensjon (akse)  \n",
    "\n",
    "For en 1D array holder det å bruke size. For en 2D array vil size gi totalt antall elementer mens shape gir hvor mange rader og kolonner."
   ]
  },
  {
   "cell_type": "code",
   "execution_count": 1,
   "id": "11416334-b59e-4369-8227-f6177eff0f04",
   "metadata": {},
   "outputs": [
    {
     "name": "stdout",
     "output_type": "stream",
     "text": [
      "13\n"
     ]
    }
   ],
   "source": [
    "import numpy as np\n",
    "\n",
    "arr1D = np.arange(3, 9.2, 0.5)\n",
    "\n",
    "print(arr1D.size)"
   ]
  },
  {
   "cell_type": "code",
   "execution_count": 2,
   "id": "e5d9e760-f4e7-4b31-ba0f-32b6f1276f92",
   "metadata": {},
   "outputs": [
    {
     "name": "stdout",
     "output_type": "stream",
     "text": [
      "(2, 3)\n"
     ]
    }
   ],
   "source": [
    "arr2D = np.array([[1, 2, 3], [4, 5, 6]])\n",
    "\n",
    "print(arr2D.shape)"
   ]
  },
  {
   "cell_type": "markdown",
   "id": "4b7d1c97-5e9c-454e-a489-5a137567fa5f",
   "metadata": {},
   "source": [
    "Hele arrayen på en gang er vel og bra, men vi har ofte bruk for en enkelt element. For å få tilgang til et enkelt element utnytter vi at arrayen er ordnet og hvert element har en indeks.  \n",
    "\n",
    "- Vi bruker hakeparenteser for å angi indeks.  \n",
    "- Første element har indeks 0. Andre element har indeks 1. Og så videre.  \n",
    "- Siste element har indeks som er en mindre enn antall elementer.  \n",
    "- Hvis vi indekserer med en verdi som er lik antall elementer eller større får vi feilmelding.  \n",
    "- Vi kan også indeksere bakfra med negative indekser.  \n",
    "- Bakerste element har indeks -1. Nest bakerste element har indeks -2. Og så videre. "
   ]
  },
  {
   "cell_type": "code",
   "execution_count": 3,
   "id": "fbb3ffbf-cb22-407e-84dd-cf56a19b0585",
   "metadata": {},
   "outputs": [
    {
     "name": "stdout",
     "output_type": "stream",
     "text": [
      "[3.  3.5 4.  4.5 5.  5.5 6.  6.5 7.  7.5 8.  8.5 9. ]\n",
      "3.0\n",
      "3.5\n",
      "9.0\n",
      "9.0\n",
      "8.5\n"
     ]
    }
   ],
   "source": [
    "print(arr1D)\n",
    "print(arr1D[0])\n",
    "print(arr1D[1])\n",
    "print(arr1D[arr1D.size-1])\n",
    "print(arr1D[-1])\n",
    "print(arr1D[-2])"
   ]
  },
  {
   "cell_type": "markdown",
   "id": "5bcbcc3e-bc46-434a-a3a5-a594a9b766de",
   "metadata": {},
   "source": [
    "Skal vi angi et element i en 2D array må vi angi rad og kolonne som to tall adskilt med komma. Også her indekseres det fra 0."
   ]
  },
  {
   "cell_type": "code",
   "execution_count": 4,
   "id": "1dc1e996-03bd-4e03-8490-d35d7dd2ed07",
   "metadata": {},
   "outputs": [
    {
     "name": "stdout",
     "output_type": "stream",
     "text": [
      "6\n"
     ]
    }
   ],
   "source": [
    "print(arr2D[1, 2])"
   ]
  },
  {
   "cell_type": "markdown",
   "id": "13b1cdb0-7d1f-4939-86d6-27fa3be82231",
   "metadata": {},
   "source": [
    "Man kan også angi en del av en array. Det kalles for slicing. Da angir man fra- og til-indeks adskilt med kolon. Fra-indeksen blir med, men ikke til_indeksen."
   ]
  },
  {
   "cell_type": "code",
   "execution_count": 5,
   "id": "6ffb1cc9-f747-4193-b513-4018bb9d056a",
   "metadata": {},
   "outputs": [
    {
     "name": "stdout",
     "output_type": "stream",
     "text": [
      "[4.5 5.  5.5]\n",
      "[3.5 4.  4.5 5.  5.5 6.  6.5 7.  7.5 8.  8.5]\n"
     ]
    }
   ],
   "source": [
    "liten_del = arr1D[3:6]\n",
    "stor_del = arr1D[1:-1]\n",
    "print(liten_del)\n",
    "print(stor_del)"
   ]
  },
  {
   "cell_type": "markdown",
   "id": "e8704300-13b7-446f-8857-eeea36fb8c9b",
   "metadata": {},
   "source": [
    "Man kan endre et element i en array på samme måten man endrer en vanlig variabel som inneholder en skalar. Man setter arrayen med indeks på venstresiden av likehetstegnet. Her er det viktig at man ikke indekserer utenfor arrayen."
   ]
  },
  {
   "cell_type": "code",
   "execution_count": 6,
   "id": "7129a917-e504-442a-8cbd-0e2ca6c26af0",
   "metadata": {},
   "outputs": [
    {
     "name": "stdout",
     "output_type": "stream",
     "text": [
      "[ 3.   3.5  4.   4.5  5.   5.5  6.   6.5  7.   7.5 12.   8.5  9. ]\n"
     ]
    }
   ],
   "source": [
    "arr1D[10]=12\n",
    "print(arr1D)"
   ]
  },
  {
   "cell_type": "markdown",
   "id": "dd41feae-116f-402d-b445-d9a1c5cd432d",
   "metadata": {},
   "source": [
    "### Kopi av array"
   ]
  },
  {
   "cell_type": "markdown",
   "id": "f51cfd99-a3e7-48c6-a37b-59b2b003f805",
   "metadata": {},
   "source": [
    "Når man tilordner en vanlig variabel som inneholder en skaler til en annen med ***=*** lager man en kopi som er uavhengig. Hva skjer når vi gjør det samme med en array?"
   ]
  },
  {
   "cell_type": "code",
   "execution_count": 7,
   "id": "400706e1-b701-401f-86d0-113ff4476e23",
   "metadata": {},
   "outputs": [
    {
     "name": "stdout",
     "output_type": "stream",
     "text": [
      "[ 3.   3.5  4.  10.   5.   5.5  6.   6.5  7.   7.5 12.   8.5  9. ]\n"
     ]
    }
   ],
   "source": [
    "arr2 = arr1D\n",
    "\n",
    "arr2[3]=10\n",
    "\n",
    "print(arr1D)"
   ]
  },
  {
   "cell_type": "markdown",
   "id": "a062b5f4-98a4-4d09-95d9-af9a6d258b03",
   "metadata": {},
   "source": [
    "Etter tilordning ble elemetet med indeks 3 for ***arr2*** endret. Når ***arr1D*** skrives ut ser vi, kanskje noe overraskende, at endringen er gjort for den også.  \n",
    "\n",
    "Det skyldes at vi ikke har laget en kopi av selve arrayen. En array er et objekt som ligger lagret i minnet og «variabelen» er bare en referanse (henvisning) til selve arrayen. Tilordningen som ble gjort kopierte bare referansen. Vi har laget et alias til arrayen siden de viser til samme array.\n",
    "\n",
    "Vi kan sjekke dette med funksjonen id() som gir en unik identifikator til et objekt."
   ]
  },
  {
   "cell_type": "code",
   "execution_count": 8,
   "id": "29c206c1-41dd-4fc1-bf0a-62ba6386296d",
   "metadata": {},
   "outputs": [
    {
     "name": "stdout",
     "output_type": "stream",
     "text": [
      "140476845522256\n",
      "140476845522256\n"
     ]
    }
   ],
   "source": [
    "print(id(arr1D))\n",
    "print(id(arr2))"
   ]
  },
  {
   "cell_type": "markdown",
   "id": "fad1ebc0-7868-42af-84a0-672694d21276",
   "metadata": {},
   "source": [
    "Det at tallene er like betyr at det er samme objekt.\n",
    "\n",
    "For å lage en kopi av selve arrayen må vi bruke funksjonen ```objekt.copy()```. Her er det ikke numpy (eller np) som skal så foran punktum, men navnet på arrayen som skal kopieres. Vi bruker ingen argumenter i parentesen. Det går bra siden vi kaller den for den arrayen vi skal kopiere (setter navnet foran punktum). Funksjonen returnerer en array som er en eksakt kopi av den som står foran punktum."
   ]
  },
  {
   "cell_type": "code",
   "execution_count": 9,
   "id": "061a1bcc-911b-4fb7-ab11-5db4cbe3b890",
   "metadata": {},
   "outputs": [
    {
     "name": "stdout",
     "output_type": "stream",
     "text": [
      "140476845522256\n",
      "140476845519088\n"
     ]
    }
   ],
   "source": [
    "arr3 = arr1D.copy()\n",
    "\n",
    "print(id(arr1D))\n",
    "print(id(arr3))"
   ]
  },
  {
   "cell_type": "markdown",
   "id": "8fd42a72-b542-4ebc-be91-1c94f74ec8f9",
   "metadata": {},
   "source": [
    "Her ser vi at ***arr1D*** og ***arr3*** har forskjellig id. De er forskjellige, uavhengige objekter. Men innholdet er likt, foreløpig."
   ]
  },
  {
   "cell_type": "markdown",
   "id": "dc371d0e-2a3c-4e2f-b1f5-d38c041794f4",
   "metadata": {},
   "source": [
    "### Legge til og fjerne elementer"
   ]
  },
  {
   "cell_type": "markdown",
   "id": "6035de19-7df0-43a4-a6b9-b35836c1abf2",
   "metadata": {},
   "source": [
    "Et array-objekt kan, som tidligere påpekt, ikke utvides eller innskrenkes. Men på samme måte som ```copy()``` lager et nytt array-objekt, har vi andre funksjoner som vi kan bruke for å lage en ny array med fler eller færre element enn den opprinnelige. Dette nye objektet kan så tilordnes den opprinnelige referansen. Da vil det i praksis være som om vi har lagt til eller fjærnet elementer i den opprinnelige arrayen."
   ]
  },
  {
   "cell_type": "markdown",
   "id": "508c4517-cdd1-4c85-a92f-0878185f18dc",
   "metadata": {},
   "source": [
    "For å legge til elementer i en array bruker vi funksjonen for array-sammenkobling ```numpy.concatenate()```. Den tar to, eller flere, array som argument. Det den gjør er å «koble sammen» arrayene som er argumenter i den rekkefølgen de står og returnerer en ny array.  \n",
    "Legg merke til at det blir dobbel parentes i funksjonen."
   ]
  },
  {
   "cell_type": "code",
   "execution_count": 10,
   "id": "1b0b92b5-5a0b-40fd-b44a-67987a24bc91",
   "metadata": {},
   "outputs": [
    {
     "name": "stdout",
     "output_type": "stream",
     "text": [
      "[1 2 3 4 5 6 7 8]\n"
     ]
    }
   ],
   "source": [
    "arr_a = np.array([1, 2, 3, 4])\n",
    "arr_b = np.array([5, 6, 7, 8])\n",
    "\n",
    "arr_c = np.concatenate((arr_a, arr_b))\n",
    "print(arr_c)"
   ]
  },
  {
   "cell_type": "markdown",
   "id": "10cc738d-f199-4b90-bb66-1a89447af4aa",
   "metadata": {},
   "source": [
    "Når vi skal legge til elementer bruker vi samme funksjon. Vi lar det andre argumentet være den eller de element(ene) som skal legges til. Så tilordner vi den til samme navn som brukes som første argument."
   ]
  },
  {
   "cell_type": "code",
   "execution_count": 11,
   "id": "cdd8c8c7-3eb3-42c0-b087-853e88e6c10a",
   "metadata": {},
   "outputs": [
    {
     "name": "stdout",
     "output_type": "stream",
     "text": [
      "[ 3.   3.5  4.  10.   5.   5.5  6.   6.5  7.   7.5 12.   8.5  9.   4.5\n",
      "  8. ]\n"
     ]
    }
   ],
   "source": [
    "arr1D = np.concatenate((arr1D, [4.5, 8]))\n",
    "print(arr1D)"
   ]
  },
  {
   "cell_type": "markdown",
   "id": "5e194aa9-599d-48ea-a05c-8a12b13162b7",
   "metadata": {},
   "source": [
    "Siden vi alltid føyer til på enden kan det være lurt å kjenne til sorteringsfunksjnen."
   ]
  },
  {
   "cell_type": "code",
   "execution_count": 12,
   "id": "ecc08d50-bb61-4ce9-b1ae-b53207cfaad6",
   "metadata": {},
   "outputs": [
    {
     "name": "stdout",
     "output_type": "stream",
     "text": [
      "[ 3.   3.5  4.   4.5  5.   5.5  6.   6.5  7.   7.5  8.   8.5  9.  10.\n",
      " 12. ]\n"
     ]
    }
   ],
   "source": [
    "arr1D = np.sort(arr1D)\n",
    "print(arr1D)"
   ]
  },
  {
   "cell_type": "markdown",
   "id": "c70408ce-9533-4497-bbb4-65bf1f1e317d",
   "metadata": {},
   "source": [
    "For å slette element bruker vi slicing. Er det fra en ende er det nok med den enkel slice."
   ]
  },
  {
   "cell_type": "code",
   "execution_count": 13,
   "id": "0907915f-b7f2-4929-b574-f0f31e115f5f",
   "metadata": {},
   "outputs": [
    {
     "name": "stdout",
     "output_type": "stream",
     "text": [
      "[ 3.   3.5  4.   4.5  5.   5.5  6.   6.5  7.   7.5  8.   8.5  9.  10. ]\n"
     ]
    }
   ],
   "source": [
    "arr1D = arr1D[0:-1]\n",
    "print(arr1D)"
   ]
  },
  {
   "cell_type": "markdown",
   "id": "f78667be-de86-4063-a33c-0f5f0898756d",
   "metadata": {},
   "source": [
    "Skal vi slette et element inni, må vi bruke sammenkobling og to «slice»."
   ]
  },
  {
   "cell_type": "code",
   "execution_count": 14,
   "id": "75dfa694-e4f7-4da8-a915-7e939f790ad7",
   "metadata": {},
   "outputs": [
    {
     "name": "stdout",
     "output_type": "stream",
     "text": [
      "[ 3.   3.5  4.   4.5  5.   5.5  6.5  7.   7.5  8.   8.5  9.  10. ]\n"
     ]
    }
   ],
   "source": [
    "arr1D = np.concatenate((arr1D[0:6], arr1D[7:14]))\n",
    "print(arr1D)"
   ]
  },
  {
   "cell_type": "markdown",
   "id": "b00972f5-abab-4d26-9232-50d6427dff9c",
   "metadata": {},
   "source": [
    "Vi kan også snu rekkefølgen på elementene med ```numpy.flip()```."
   ]
  },
  {
   "cell_type": "code",
   "execution_count": 15,
   "id": "3bf164dd-c0e4-4705-b2b5-635f6b9c4a9f",
   "metadata": {},
   "outputs": [
    {
     "name": "stdout",
     "output_type": "stream",
     "text": [
      "[10.   9.   8.5  8.   7.5  7.   6.5  5.5  5.   4.5  4.   3.5  3. ]\n"
     ]
    }
   ],
   "source": [
    "print(np.flip(arr1D))"
   ]
  },
  {
   "cell_type": "code",
   "execution_count": 16,
   "id": "b6e46870-2982-4b44-8e3a-5dbe7472be48",
   "metadata": {},
   "outputs": [
    {
     "name": "stdout",
     "output_type": "stream",
     "text": [
      "Variable    Type       Data/Info\n",
      "--------------------------------\n",
      "arr1D       ndarray    13: 13 elems, type `float64`, 104 bytes\n",
      "arr2        ndarray    13: 13 elems, type `float64`, 104 bytes\n",
      "arr2D       ndarray    2x3: 6 elems, type `int64`, 48 bytes\n",
      "arr3        ndarray    13: 13 elems, type `float64`, 104 bytes\n",
      "arr_a       ndarray    4: 4 elems, type `int64`, 32 bytes\n",
      "arr_b       ndarray    4: 4 elems, type `int64`, 32 bytes\n",
      "arr_c       ndarray    8: 8 elems, type `int64`, 64 bytes\n",
      "liten_del   ndarray    3: 3 elems, type `float64`, 24 bytes\n",
      "np          module     <module 'numpy' from '/us<...>kages/numpy/__init__.py'>\n",
      "stor_del    ndarray    11: 11 elems, type `float64`, 88 bytes\n"
     ]
    }
   ],
   "source": [
    "%whos"
   ]
  },
  {
   "cell_type": "code",
   "execution_count": null,
   "id": "f0181ab6-f748-4f24-9973-986c1673c3bf",
   "metadata": {},
   "outputs": [],
   "source": []
  }
 ],
 "metadata": {
  "kernelspec": {
   "display_name": "Python 3 (ipykernel)",
   "language": "python",
   "name": "python3"
  },
  "language_info": {
   "codemirror_mode": {
    "name": "ipython",
    "version": 3
   },
   "file_extension": ".py",
   "mimetype": "text/x-python",
   "name": "python",
   "nbconvert_exporter": "python",
   "pygments_lexer": "ipython3",
   "version": "3.9.13"
  }
 },
 "nbformat": 4,
 "nbformat_minor": 5
}
