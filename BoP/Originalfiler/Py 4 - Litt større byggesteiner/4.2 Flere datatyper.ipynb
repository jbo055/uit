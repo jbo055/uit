{
 "cells": [
  {
   "cell_type": "markdown",
   "id": "ce5349f1-e13b-4b1f-bc2f-1cc03d6aa68a",
   "metadata": {},
   "source": [
    "## Datatyper med flere muligheter"
   ]
  },
  {
   "cell_type": "markdown",
   "id": "a170c8f5-460a-442b-ae38-2936cb64229c",
   "metadata": {},
   "source": [
    "De enkle datatypene vi har sett på tidligere har bare kunne lagre en verdi i hver variabel. Vi kan få til mye med det, men det vil ofte være mer effektivt og gir oss flere muligheterhvis vi kan jobbe med flere verdier på en gang.  \n",
    "\n",
    "Python har flere datatyper som kan lagre flere verdier."
   ]
  },
  {
   "cell_type": "markdown",
   "id": "fd619958-0784-4be0-9dff-dc11127bc2b5",
   "metadata": {},
   "source": [
    "| Datatype | Indeksert | Ordnet | Endringer | Duplikater |\n",
    "| :- | :-: | :-: | :-: | :-: |\n",
    "| **List** | Ja | Ja | Ja | Ja |\n",
    "| **Tuple** | Ja | Ja | Nei | Ja |\n",
    "| **Set** | Nei | Nei | Nei | Nei |\n",
    "| **Dictionarie** | Nei | Ja | Ja | Nei |"
   ]
  },
  {
   "cell_type": "markdown",
   "id": "bf5c0f28-916c-4e78-b580-38d22deef19c",
   "metadata": {},
   "source": [
    "**Indeksert** betyr at elementene har en nummerert rekkefølge. For **List** og **Tuple** har første element indeks [0], andre element har indeks [1] og så videre.  \n",
    "**Ordnet** betyr at elementene har en bestemt rekkefølge som ikke endres.  \n",
    "**Endringer** Er det tillat å endre, legge til og fjerne element. I **Set** er det lov å legge til element.  \n",
    "**Duplikater** Er duplikater av (Like) element tillatt."
   ]
  },
  {
   "cell_type": "markdown",
   "id": "205a9ac9-b874-45c9-a4ee-3a79f04dda38",
   "metadata": {},
   "source": [
    "Hver av dem har har sitt sett med funksjoner for å bruke dem. Sammen med de egensakpene som er vist i tabellen over gjør dette at de har sine bruksområder.  \n",
    "\n",
    "Til noe av det vi skal gjøre videre kan vi bruke datatypen List, men den er ikke helt optimal.  \n",
    "\n"
   ]
  },
  {
   "cell_type": "markdown",
   "id": "245c49cb-130d-4da2-9296-98bef64e33c4",
   "metadata": {},
   "source": [
    "Fra matematikken kjenner vi begreper som array og matrise. Dette er ting vi får bruk for videre. Python har ikke innebygd datatyper som direkte støtter disse. Men det finner vi i tilleggsmoduler som for eksempel NumPy. NumPy er laget blant annet for å jobbe med Arrays. Det er mye raskere å jobbe med array i NumPy enn å bruke list. I tillegg har NumPy funksjoner for å jobbe med lineær algebra, matriser og mer.  \n",
    "\n",
    "Neste notatbok gir en introduksjon til NumPy og arrays."
   ]
  },
  {
   "cell_type": "code",
   "execution_count": 1,
   "id": "5bf50f63-c4e3-4074-bce3-8192c7691d50",
   "metadata": {},
   "outputs": [
    {
     "name": "stdout",
     "output_type": "stream",
     "text": [
      "banana\n"
     ]
    }
   ],
   "source": [
    "thistuple = (\"apple\", \"banana\", \"cherry\")\n",
    "print(thistuple[1])"
   ]
  },
  {
   "cell_type": "code",
   "execution_count": null,
   "id": "e63c4f3e-c3c7-40a9-89b6-99f18a327ead",
   "metadata": {},
   "outputs": [],
   "source": []
  }
 ],
 "metadata": {
  "kernelspec": {
   "display_name": "Python 3 (ipykernel)",
   "language": "python",
   "name": "python3"
  },
  "language_info": {
   "codemirror_mode": {
    "name": "ipython",
    "version": 3
   },
   "file_extension": ".py",
   "mimetype": "text/x-python",
   "name": "python",
   "nbconvert_exporter": "python",
   "pygments_lexer": "ipython3",
   "version": "3.8.13"
  }
 },
 "nbformat": 4,
 "nbformat_minor": 5
}
