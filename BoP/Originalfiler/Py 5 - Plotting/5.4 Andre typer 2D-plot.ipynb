{
 "cells": [
  {
   "cell_type": "markdown",
   "id": "df0765c7-8e64-40bf-a31f-c0e0bc94d5e4",
   "metadata": {},
   "source": [
    "## Andre typer 2D-plot"
   ]
  },
  {
   "cell_type": "markdown",
   "id": "1a35a317-6fa0-4908-8c0c-87dd1341122c",
   "metadata": {},
   "source": [
    "Hittil har vi sett på linjediagrammer. Men pyplot har flere typer diagrammer å by på. Stolpediagrammer og kakediagram kjenner de fleste fra tidligere. I tillegg har vi histogram og «scatter»."
   ]
  },
  {
   "cell_type": "markdown",
   "id": "cd2f7828-31a9-4938-ac1f-d8fa3f38a93a",
   "metadata": {},
   "source": [
    "### Søylediagram"
   ]
  },
  {
   "cell_type": "markdown",
   "id": "f2db0c68-8525-49c6-b162-f04531e93650",
   "metadata": {},
   "source": [
    "For søylediagram trenger man samhørende x- og y-verdier. Akkurat som for linjediagram. Søylediagram heter Bar graph på engelsk. Så for å plotte bruker man kommandoen ```plt.bar(x,y)```.\n",
    "Se https://www.w3schools.com/python/matplotlib_bars.asp for eksempel."
   ]
  },
  {
   "cell_type": "markdown",
   "id": "6341fe2b-f70e-4aa5-8c0c-b3f4a15d84ea",
   "metadata": {
    "tags": []
   },
   "source": [
    "### Kakediagram"
   ]
  },
  {
   "cell_type": "markdown",
   "id": "ecb034fa-c2ff-4f35-b2ff-66b76f085a86",
   "metadata": {},
   "source": [
    "For kakediagram trenger man bare en rekke med verdier. Kakediagram heter Pie chart på engelsk. Så for å plotte bruker man kommandoen ```plt.pie(y)```.\n",
    "Se https://www.w3schools.com/python/matplotlib_pie_charts.asp for eksempel."
   ]
  },
  {
   "cell_type": "markdown",
   "id": "b2c05a2a-cc8a-4c7a-b06d-5103a8fe7e96",
   "metadata": {
    "tags": []
   },
   "source": [
    "### Histogram"
   ]
  },
  {
   "cell_type": "markdown",
   "id": "b51730a4-8321-44de-ba28-1698ac141d9f",
   "metadata": {},
   "source": [
    "Histogram viser frekvensfordelingen av verdiene i en datamangde. Histogram heter det samme på engelsk. Så for å plotte et histogram av datamengden x, bruker man kommandoen ```plt.hist(x)```.\n",
    "Se https://www.w3schools.com/python/matplotlib_histograms.asp for eksempel."
   ]
  },
  {
   "cell_type": "markdown",
   "id": "68c3c3fd-6e1a-43e2-89d1-30c05f476b7c",
   "metadata": {
    "tags": []
   },
   "source": [
    "### Punktsky"
   ]
  },
  {
   "cell_type": "markdown",
   "id": "c2dedabf-c806-492f-86e6-c7d9d3108ad9",
   "metadata": {},
   "source": [
    "En punktsky viser (uavhhengige) x,y par. Punktsky heter scatter plot på engelsk. x- og y- verdiene ligger i hvert sitt array så de må være like lange. For å plotte bruker man kommandoen ```plt.scatter(x,y)```.\n",
    "Se https://www.w3schools.com/python/matplotlib_scatter.asp for eksempel."
   ]
  },
  {
   "cell_type": "code",
   "execution_count": null,
   "id": "2996502e-e4d4-4abb-9ff4-073bdb640cbc",
   "metadata": {},
   "outputs": [],
   "source": []
  }
 ],
 "metadata": {
  "kernelspec": {
   "display_name": "Python 3 (ipykernel)",
   "language": "python",
   "name": "python3"
  },
  "language_info": {
   "codemirror_mode": {
    "name": "ipython",
    "version": 3
   },
   "file_extension": ".py",
   "mimetype": "text/x-python",
   "name": "python",
   "nbconvert_exporter": "python",
   "pygments_lexer": "ipython3",
   "version": "3.9.13"
  }
 },
 "nbformat": 4,
 "nbformat_minor": 5
}
