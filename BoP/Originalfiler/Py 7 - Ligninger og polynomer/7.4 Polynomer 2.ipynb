{
 "cells": [
  {
   "cell_type": "markdown",
   "id": "3175ef25-f4f2-496d-9eda-97b4df2cf33c",
   "metadata": {},
   "source": [
    "## Polynomer del 2"
   ]
  },
  {
   "cell_type": "markdown",
   "id": "67d426a3-9af0-4e0c-b767-67580b94da0e",
   "metadata": {},
   "source": [
    "Vi går videre og ser på flere muligheter med polynomer."
   ]
  },
  {
   "cell_type": "markdown",
   "id": "08e7b417-4131-4736-9b37-068d8c58c910",
   "metadata": {},
   "source": [
    "### Derivasjon og integrasjon"
   ]
  },
  {
   "cell_type": "markdown",
   "id": "3178d775-b9a3-4c78-ab8d-6b01dcefaa97",
   "metadata": {},
   "source": [
    "Fra matematikken vet vi at derivasjon og integrasjon av polynomer for en stor del går ut på å manipulere konstanter og eksponenter. Det gjør at det er mulig å finne løsning nummerisk. Når det gjelder derivasjon av polynom får vi eksakt løsning og for integrasjon får vi ubestemt integral.  \n",
    "\n",
    "> Senere skal vi se hvordan vi kan finne nummeriske løsninger for andre funksjoner enn polynomer, men da må vi lære litt mer programmering først.  \n",
    "\n",
    "\n"
   ]
  },
  {
   "cell_type": "code",
   "execution_count": 16,
   "id": "66ecf2d3-2d1b-405a-9386-395ac1b73c5f",
   "metadata": {},
   "outputs": [
    {
     "name": "stdout",
     "output_type": "stream",
     "text": [
      "[-14. -26.   6.   4.]\n",
      "[ 0.         24.         -7.         -4.33333333  0.5         0.2       ]\n",
      "0.0 + 24.0·x¹ - 7.0·x² - 4.333333333333333·x³ + 0.5·x⁴ + 0.2·x⁵\n"
     ]
    }
   ],
   "source": [
    "from numpy import array\n",
    "from numpy.polynomial import Polynomial\n",
    "import numpy.polynomial.polynomial as poly\n",
    "\n",
    "P4 = array([24, -14, -13, 2, 1]) # vi begynner med samme polynom som tidligere\n",
    "P4d = poly.polyder(P4)           # finner den deriverte av polynomet\n",
    "print(P4d)\n",
    "P4i = poly.polyint(P4)           # integrerer resultatet fra forrige operasjon\n",
    "print(P4i)\n",
    "\n",
    "Pi = Polynomial(P4i)             # opprettrpolynomobjekt for pen utkrift\n",
    "print(Pi)\n",
    "\n"
   ]
  },
  {
   "cell_type": "markdown",
   "id": "c3b60cee-11e8-4ed3-a7ae-aa5abb3468bf",
   "metadata": {},
   "source": [
    "Som vi ser av det første resultatet har vi fått et polynom som er en grad mindre enn det opprinnelige. Det opprinnelige konstantleddet er borte og koeffisientene er i henhold til derivasjonsreglene.  \n",
    "\n",
    "Når vi integrerer får vi at konstantleddet er ***0***. Sidet det er et ubestemt integral vi har fått skal denne egentlig være ***C***.  \n",
    "\n",
    "Vi vet at et integral er et uttrykk for arealet under kurven. Dermed må vi ha en start- og slutt-verdi for x for å regne ut et eksakt svar."
   ]
  },
  {
   "cell_type": "code",
   "execution_count": null,
   "id": "de012701-51e8-42cb-9068-f16ff4f5da1f",
   "metadata": {},
   "outputs": [],
   "source": []
  }
 ],
 "metadata": {
  "kernelspec": {
   "display_name": "Python 3 (ipykernel)",
   "language": "python",
   "name": "python3"
  },
  "language_info": {
   "codemirror_mode": {
    "name": "ipython",
    "version": 3
   },
   "file_extension": ".py",
   "mimetype": "text/x-python",
   "name": "python",
   "nbconvert_exporter": "python",
   "pygments_lexer": "ipython3",
   "version": "3.9.13"
  }
 },
 "nbformat": 4,
 "nbformat_minor": 5
}
