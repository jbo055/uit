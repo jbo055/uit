{
 "cells": [
  {
   "cell_type": "markdown",
   "id": "d4700a22-6a8e-47e8-9a8f-956d92fe1455",
   "metadata": {},
   "source": [
    "## Løsning av lineære ligningssystemer"
   ]
  },
  {
   "cell_type": "markdown",
   "id": "26d06d7f-4535-4bfb-b949-08f8dfc3964d",
   "metadata": {},
   "source": [
    "Vi skal her se hvordan vi setter dette opp i Python slik at vi kan finne løsningen med en enkel funksjon fra NumPy."
   ]
  },
  {
   "cell_type": "markdown",
   "id": "00bc169f-3d9f-4d94-8621-22dd5e849d9f",
   "metadata": {},
   "source": [
    "- Framgangsmåten presenteres på kortform\n",
    "    - Hopper over teorien  \n",
    "    - Bruker funksjonen numpy.linalg.solve() \n",
    "    - Bruker matriser  \n",
    "    - Krever like mange likninger som ukjente  \n",
    "- Setter opp to matriser  \n",
    "    - En koeffisient matrise  \n",
    "        - Antall ukjente x antall likninger\n",
    "    - En konstantmatrise. \n",
    "        - I realiteten 1D array\n",
    "- Resultatet blir en 1D array\n",
    "    - Størrelsen = antall ukjente"
   ]
  },
  {
   "cell_type": "markdown",
   "id": "331fbe47-5175-4419-a8de-60fa9edb5638",
   "metadata": {
    "tags": []
   },
   "source": [
    "> I lineære liginger er variablene kun av første orden  \n",
    "Vi bruker ligningene på parametrisk form: $ ax + by = c $  \n",
    "En lineær ligning med to ukjente gir en linje i planet (2D graf)"
   ]
  },
  {
   "cell_type": "markdown",
   "id": "b6c4dc46-c4dd-49d3-bd50-c741fab2c564",
   "metadata": {
    "tags": []
   },
   "source": [
    "```numpy.linalg``` er en delmodul i ```numpy``` med funksjoner for lineær algebra."
   ]
  },
  {
   "cell_type": "markdown",
   "id": "8e5f4f8d-e753-4c5d-8236-db9c235fb1d8",
   "metadata": {
    "tags": []
   },
   "source": [
    "### Eksempel: 2 ukjente"
   ]
  },
  {
   "cell_type": "markdown",
   "id": "f4984c95-b5d5-4ab5-a11b-e25cc26098e5",
   "metadata": {
    "tags": []
   },
   "source": [
    "For å løse et system med to ukjente trenger man to ligninger.  \n",
    "resultatet blir skjæringspunktet."
   ]
  },
  {
   "cell_type": "markdown",
   "id": "4c20a12d-9810-4e05-bb3e-838541e52736",
   "metadata": {},
   "source": [
    "Ligningssettet  \n",
    "$ 3x + 4y = 5 $ <br>\n",
    "$ 6x + 7y = 8 $  \n",
    "gir to linjer i planet.  \n",
    "Bruk gjerne Geogbra eller lignende for å se linjene i et koordinatsystem.  \n",
    "\n",
    "Koeffesientene og konstantene skal inn i matrisene slik som vist her:"
   ]
  },
  {
   "cell_type": "markdown",
   "id": "273d0dbc-3026-49c9-9260-c1e91b9b24ef",
   "metadata": {
    "tags": []
   },
   "source": [
    "Koeffisientmatrisa $ A = \\begin{bmatrix} 3 & 4 \\\\ 6 & 7 \\end{bmatrix}$ og konstantmatrisa $ B = \\begin{bmatrix} 5 \\\\ 8 \\end{bmatrix}$ "
   ]
  },
  {
   "cell_type": "markdown",
   "id": "6290dfc2-6dc7-4335-9d28-d256874253be",
   "metadata": {},
   "source": [
    "<br><br>\n",
    "I Python gjøres dette slik:"
   ]
  },
  {
   "cell_type": "code",
   "execution_count": 1,
   "id": "0637c0ef-2905-4abe-ac98-18dce1a5bbde",
   "metadata": {},
   "outputs": [
    {
     "name": "stdout",
     "output_type": "stream",
     "text": [
      "[-1.  2.]\n"
     ]
    }
   ],
   "source": [
    "import numpy as np\n",
    "\n",
    "A = np.array([[3, 4], [6, 7]])\n",
    "B = np.array([5, 8])  # Fra teorien ser vi kostantmatrisa er en kolonnevektor, \n",
    "                      # men det er ikke nødvendig å sette den opp som det i pyton for å finne løsningen\n",
    "X = np.linalg.solve(A, B)\n",
    "print(X)"
   ]
  },
  {
   "cell_type": "markdown",
   "id": "8bcad594-1b78-432c-b3b1-009b5f8f2507",
   "metadata": {},
   "source": [
    "Det vi si at $x = -1$ og $y = 2$ <br> <br>\n",
    "Vi kan sette verdiene inn i en av ligningene for å sjekke svaret."
   ]
  },
  {
   "cell_type": "code",
   "execution_count": 2,
   "id": "e00e5b7b-fcbd-4fc5-89fa-e098c4f86996",
   "metadata": {},
   "outputs": [
    {
     "name": "stdout",
     "output_type": "stream",
     "text": [
      "5.0\n"
     ]
    }
   ],
   "source": [
    "x = X[0]  # Henter ut første verdi, x-verdien, fra svaret\n",
    "y = X[1]  # Henter ut andre verdi, y-verdien, fra svaret\n",
    "print(3*x + 4*y)  ## Regner ut den første ligninga i print-setningen"
   ]
  },
  {
   "cell_type": "markdown",
   "id": "622b8da3-6a01-4bc4-9ab1-31a9adcb9ef4",
   "metadata": {},
   "source": [
    "Resultatet ble det som vi forventet"
   ]
  },
  {
   "cell_type": "markdown",
   "id": "61096a10-7a46-4b9b-93fc-1b9920164f19",
   "metadata": {},
   "source": [
    "### Eksempel: 3 ukjente"
   ]
  },
  {
   "cell_type": "markdown",
   "id": "389fa550-f843-4c79-be12-4a974e0687f8",
   "metadata": {},
   "source": [
    "For å finne løsning når vi har tre ukjente må vi ha tre ligninger.  \n",
    "\n",
    "> En ligning med tre ukjente av første orden definerer et plan i et 3D-system.  \n",
    "> Har vi to plan (2 ligninger), som ikke er parallelle, vil de skjære hverandre i en linje.  \n",
    "> Har vi tre plan (3 ligninger), som ikke er parallelle, vil de skjære hverandre i et punkt."
   ]
  },
  {
   "cell_type": "code",
   "execution_count": 12,
   "id": "f3f015b9-c12d-4758-9d54-e789d6fcb333",
   "metadata": {},
   "outputs": [
    {
     "data": {
      "text/plain": [
       "array([-0.58226371,  3.22870478, -1.98599767])"
      ]
     },
     "execution_count": 12,
     "metadata": {},
     "output_type": "execute_result"
    }
   ],
   "source": [
    "import numpy as np\n",
    "\n",
    "A2 = np.array([[8, 3, -2], [-4, 7, 5], [3, 4, -12]])\n",
    "B2 = np.array([9, 15, 35])\n",
    "X2 = np.linalg.solve(A2, B2)\n",
    "X2"
   ]
  },
  {
   "cell_type": "markdown",
   "id": "cd3264f5-7cd8-4bcb-a8ff-b3139547850f",
   "metadata": {},
   "source": [
    "Vi ser at vi får svar med mange desimaler. Det vil generelt være slik.<br><br><br><br><br>"
   ]
  },
  {
   "cell_type": "markdown",
   "id": "3d8c55f8-e639-44a2-8400-a1a771540cfe",
   "metadata": {},
   "source": [
    "###  Likningssett uten entydig løsning"
   ]
  },
  {
   "cell_type": "markdown",
   "id": "b44900ff-1d10-4cd5-92be-98c3ccb9b11a",
   "metadata": {},
   "source": [
    "Ikke alle likningssett har entydig løsning\n",
    "> Noen har uendelig mange (Sammenfallende linjer/plan)  \n",
    "> Andre har ingen (Parallelle linjer/plan)"
   ]
  },
  {
   "cell_type": "code",
   "execution_count": 8,
   "id": "b52f73f5-e546-47d5-a2b5-4cb869e4ed80",
   "metadata": {},
   "outputs": [
    {
     "ename": "LinAlgError",
     "evalue": "Singular matrix",
     "output_type": "error",
     "traceback": [
      "\u001b[0;31m---------------------------------------------------------------------------\u001b[0m",
      "\u001b[0;31mLinAlgError\u001b[0m                               Traceback (most recent call last)",
      "Input \u001b[0;32mIn [8]\u001b[0m, in \u001b[0;36m<cell line: 3>\u001b[0;34m()\u001b[0m\n\u001b[1;32m      1\u001b[0m A3\u001b[38;5;241m=\u001b[39mnp\u001b[38;5;241m.\u001b[39marray([[\u001b[38;5;241m2\u001b[39m, \u001b[38;5;241m-\u001b[39m\u001b[38;5;241m4\u001b[39m],[\u001b[38;5;241m-\u001b[39m\u001b[38;5;241m1\u001b[39m, \u001b[38;5;241m2\u001b[39m]])\n\u001b[1;32m      2\u001b[0m B3\u001b[38;5;241m=\u001b[39mnp\u001b[38;5;241m.\u001b[39marray([\u001b[38;5;241m6\u001b[39m, \u001b[38;5;241m3\u001b[39m])\n\u001b[0;32m----> 3\u001b[0m X3 \u001b[38;5;241m=\u001b[39m \u001b[43mnp\u001b[49m\u001b[38;5;241;43m.\u001b[39;49m\u001b[43mlinalg\u001b[49m\u001b[38;5;241;43m.\u001b[39;49m\u001b[43msolve\u001b[49m\u001b[43m(\u001b[49m\u001b[43mA3\u001b[49m\u001b[43m,\u001b[49m\u001b[43m \u001b[49m\u001b[43mB3\u001b[49m\u001b[43m)\u001b[49m\n",
      "File \u001b[0;32m<__array_function__ internals>:5\u001b[0m, in \u001b[0;36msolve\u001b[0;34m(*args, **kwargs)\u001b[0m\n",
      "File \u001b[0;32m~/opt/anaconda3/lib/python3.8/site-packages/numpy/linalg/linalg.py:393\u001b[0m, in \u001b[0;36msolve\u001b[0;34m(a, b)\u001b[0m\n\u001b[1;32m    391\u001b[0m signature \u001b[38;5;241m=\u001b[39m \u001b[38;5;124m'\u001b[39m\u001b[38;5;124mDD->D\u001b[39m\u001b[38;5;124m'\u001b[39m \u001b[38;5;28;01mif\u001b[39;00m isComplexType(t) \u001b[38;5;28;01melse\u001b[39;00m \u001b[38;5;124m'\u001b[39m\u001b[38;5;124mdd->d\u001b[39m\u001b[38;5;124m'\u001b[39m\n\u001b[1;32m    392\u001b[0m extobj \u001b[38;5;241m=\u001b[39m get_linalg_error_extobj(_raise_linalgerror_singular)\n\u001b[0;32m--> 393\u001b[0m r \u001b[38;5;241m=\u001b[39m \u001b[43mgufunc\u001b[49m\u001b[43m(\u001b[49m\u001b[43ma\u001b[49m\u001b[43m,\u001b[49m\u001b[43m \u001b[49m\u001b[43mb\u001b[49m\u001b[43m,\u001b[49m\u001b[43m \u001b[49m\u001b[43msignature\u001b[49m\u001b[38;5;241;43m=\u001b[39;49m\u001b[43msignature\u001b[49m\u001b[43m,\u001b[49m\u001b[43m \u001b[49m\u001b[43mextobj\u001b[49m\u001b[38;5;241;43m=\u001b[39;49m\u001b[43mextobj\u001b[49m\u001b[43m)\u001b[49m\n\u001b[1;32m    395\u001b[0m \u001b[38;5;28;01mreturn\u001b[39;00m wrap(r\u001b[38;5;241m.\u001b[39mastype(result_t, copy\u001b[38;5;241m=\u001b[39m\u001b[38;5;28;01mFalse\u001b[39;00m))\n",
      "File \u001b[0;32m~/opt/anaconda3/lib/python3.8/site-packages/numpy/linalg/linalg.py:88\u001b[0m, in \u001b[0;36m_raise_linalgerror_singular\u001b[0;34m(err, flag)\u001b[0m\n\u001b[1;32m     87\u001b[0m \u001b[38;5;28;01mdef\u001b[39;00m \u001b[38;5;21m_raise_linalgerror_singular\u001b[39m(err, flag):\n\u001b[0;32m---> 88\u001b[0m     \u001b[38;5;28;01mraise\u001b[39;00m LinAlgError(\u001b[38;5;124m\"\u001b[39m\u001b[38;5;124mSingular matrix\u001b[39m\u001b[38;5;124m\"\u001b[39m)\n",
      "\u001b[0;31mLinAlgError\u001b[0m: Singular matrix"
     ]
    }
   ],
   "source": [
    "A3=np.array([[2, -4],[-1, 2]])\n",
    "B3=np.array([6, 3])\n",
    "X3 = np.linalg.solve(A3, B3)"
   ]
  },
  {
   "cell_type": "markdown",
   "id": "d1c4cb0e-7f4c-4232-9cbe-1efdf36eb4ad",
   "metadata": {},
   "source": [
    "Vi fikk feilmelding at matrisa (A) er singulær. Det beyr at vi har truffet på et slikt tilfelle og ikke får en entydig løsning.  \n",
    "\n",
    "For å unngå et slkt tilfelle kan vi sjekke rangen til matrisa. Rangen forteller hvor mange lineært uavhenginge rader (ligninger) det er i matrisa. Den må være like stor som antall ligninger(rader) for at vi skal kunne finne en løsning."
   ]
  },
  {
   "cell_type": "code",
   "execution_count": 11,
   "id": "da2b305d-2f8d-4145-982b-c6a13a2baa93",
   "metadata": {},
   "outputs": [
    {
     "data": {
      "text/plain": [
       "1"
      ]
     },
     "execution_count": 11,
     "metadata": {},
     "output_type": "execute_result"
    }
   ],
   "source": [
    "np.linalg.matrix_rank(A3)"
   ]
  },
  {
   "cell_type": "markdown",
   "id": "1ea22408-ae16-4d5e-9372-d1752081ce0a",
   "metadata": {},
   "source": [
    "Vi fikk et svar som var mindre enn antall likninger og kan dermed se at vi ikke får entydig løsning.  \n",
    "\n",
    "Prøv ut dette på de to andre ligningssettene:"
   ]
  },
  {
   "cell_type": "code",
   "execution_count": null,
   "id": "f81dc6ed-6b5f-40cf-b807-dd35914f42b0",
   "metadata": {},
   "outputs": [],
   "source": []
  }
 ],
 "metadata": {
  "kernelspec": {
   "display_name": "Python 3 (ipykernel)",
   "language": "python",
   "name": "python3"
  },
  "language_info": {
   "codemirror_mode": {
    "name": "ipython",
    "version": 3
   },
   "file_extension": ".py",
   "mimetype": "text/x-python",
   "name": "python",
   "nbconvert_exporter": "python",
   "pygments_lexer": "ipython3",
   "version": "3.9.13"
  }
 },
 "nbformat": 4,
 "nbformat_minor": 5
}
